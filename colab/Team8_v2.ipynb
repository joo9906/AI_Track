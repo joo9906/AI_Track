{
  "nbformat": 4,
  "nbformat_minor": 0,
  "metadata": {
    "colab": {
      "provenance": []
    },
    "kernelspec": {
      "name": "python3",
      "display_name": "Python 3"
    },
    "language_info": {
      "name": "python"
    }
  },
  "cells": [
    {
      "cell_type": "markdown",
      "source": [
        "# 계절학기 - AI 8팀\n",
        "| RAG 챗봇\n",
        "## 목차\n",
        "***\n",
        "### 1. Solar mini API 통신\n",
        "### 2. CSV 파싱\n",
        "### 3. 문서 임베딩\n",
        "#### 3-1. 문서 가공/필터링\n",
        "#### 3-2. Chroma 벡터 DB 저장\n",
        "## 4. LLM 쿼리\n",
        "### 4-1. Query 입력\n",
        "### 4-2. Retriever 병렬 처리\n",
        "### 4-3. Context 병합\n",
        "### 4-4. 질의 답변 생성\n",
        "***"
      ],
      "metadata": {
        "id": "cMj-pGq8YYZF"
      }
    },
    {
      "cell_type": "markdown",
      "source": [
        "### 필요한 라이브러리 다운로드"
      ],
      "metadata": {
        "id": "0GdzqBNr9KIH"
      }
    },
    {
      "cell_type": "code",
      "execution_count": null,
      "metadata": {
        "id": "Y8h3AEvE1Hcs",
        "colab": {
          "base_uri": "https://localhost:8080/"
        },
        "outputId": "1be54bab-7d2f-4450-d9c9-047f94cc50a1"
      },
      "outputs": [
        {
          "output_type": "stream",
          "name": "stdout",
          "text": [
            "  Preparing metadata (setup.py) ... \u001b[?25l\u001b[?25hdone\n",
            "\u001b[2K     \u001b[90m━━━━━━━━━━━━━━━━━━━━━━━━━━━━━━━━━━━━━━━━\u001b[0m \u001b[32m67.3/67.3 kB\u001b[0m \u001b[31m4.1 MB/s\u001b[0m eta \u001b[36m0:00:00\u001b[0m\n",
            "\u001b[?25h  Installing build dependencies ... \u001b[?25l\u001b[?25hdone\n",
            "  Getting requirements to build wheel ... \u001b[?25l\u001b[?25hdone\n",
            "  Preparing metadata (pyproject.toml) ... \u001b[?25l\u001b[?25hdone\n",
            "\u001b[2K   \u001b[90m━━━━━━━━━━━━━━━━━━━━━━━━━━━━━━━━━━━━━━━━\u001b[0m \u001b[32m755.0/755.0 kB\u001b[0m \u001b[31m29.6 MB/s\u001b[0m eta \u001b[36m0:00:00\u001b[0m\n",
            "\u001b[2K   \u001b[90m━━━━━━━━━━━━━━━━━━━━━━━━━━━━━━━━━━━━━━━━\u001b[0m \u001b[32m19.3/19.3 MB\u001b[0m \u001b[31m92.0 MB/s\u001b[0m eta \u001b[36m0:00:00\u001b[0m\n",
            "\u001b[2K   \u001b[90m━━━━━━━━━━━━━━━━━━━━━━━━━━━━━━━━━━━━━━━━\u001b[0m \u001b[32m70.4/70.4 kB\u001b[0m \u001b[31m5.7 MB/s\u001b[0m eta \u001b[36m0:00:00\u001b[0m\n",
            "\u001b[2K   \u001b[90m━━━━━━━━━━━━━━━━━━━━━━━━━━━━━━━━━━━━━━━━\u001b[0m \u001b[32m295.8/295.8 kB\u001b[0m \u001b[31m23.1 MB/s\u001b[0m eta \u001b[36m0:00:00\u001b[0m\n",
            "\u001b[2K   \u001b[90m━━━━━━━━━━━━━━━━━━━━━━━━━━━━━━━━━━━━━━━━\u001b[0m \u001b[32m3.6/3.6 MB\u001b[0m \u001b[31m84.9 MB/s\u001b[0m eta \u001b[36m0:00:00\u001b[0m\n",
            "\u001b[2K   \u001b[90m━━━━━━━━━━━━━━━━━━━━━━━━━━━━━━━━━━━━━━━━\u001b[0m \u001b[32m284.2/284.2 kB\u001b[0m \u001b[31m23.5 MB/s\u001b[0m eta \u001b[36m0:00:00\u001b[0m\n",
            "\u001b[2K   \u001b[90m━━━━━━━━━━━━━━━━━━━━━━━━━━━━━━━━━━━━━━━━\u001b[0m \u001b[32m1.9/1.9 MB\u001b[0m \u001b[31m74.1 MB/s\u001b[0m eta \u001b[36m0:00:00\u001b[0m\n",
            "\u001b[2K   \u001b[90m━━━━━━━━━━━━━━━━━━━━━━━━━━━━━━━━━━━━━━━━\u001b[0m \u001b[32m101.6/101.6 kB\u001b[0m \u001b[31m8.0 MB/s\u001b[0m eta \u001b[36m0:00:00\u001b[0m\n",
            "\u001b[2K   \u001b[90m━━━━━━━━━━━━━━━━━━━━━━━━━━━━━━━━━━━━━━━━\u001b[0m \u001b[32m16.4/16.4 MB\u001b[0m \u001b[31m90.3 MB/s\u001b[0m eta \u001b[36m0:00:00\u001b[0m\n",
            "\u001b[2K   \u001b[90m━━━━━━━━━━━━━━━━━━━━━━━━━━━━━━━━━━━━━━━━\u001b[0m \u001b[32m65.8/65.8 kB\u001b[0m \u001b[31m5.3 MB/s\u001b[0m eta \u001b[36m0:00:00\u001b[0m\n",
            "\u001b[2K   \u001b[90m━━━━━━━━━━━━━━━━━━━━━━━━━━━━━━━━━━━━━━━━\u001b[0m \u001b[32m55.7/55.7 kB\u001b[0m \u001b[31m5.1 MB/s\u001b[0m eta \u001b[36m0:00:00\u001b[0m\n",
            "\u001b[2K   \u001b[90m━━━━━━━━━━━━━━━━━━━━━━━━━━━━━━━━━━━━━━━━\u001b[0m \u001b[32m118.5/118.5 kB\u001b[0m \u001b[31m10.3 MB/s\u001b[0m eta \u001b[36m0:00:00\u001b[0m\n",
            "\u001b[2K   \u001b[90m━━━━━━━━━━━━━━━━━━━━━━━━━━━━━━━━━━━━━━━━\u001b[0m \u001b[32m196.2/196.2 kB\u001b[0m \u001b[31m15.8 MB/s\u001b[0m eta \u001b[36m0:00:00\u001b[0m\n",
            "\u001b[2K   \u001b[90m━━━━━━━━━━━━━━━━━━━━━━━━━━━━━━━━━━━━━━━━\u001b[0m \u001b[32m105.0/105.0 kB\u001b[0m \u001b[31m8.6 MB/s\u001b[0m eta \u001b[36m0:00:00\u001b[0m\n",
            "\u001b[2K   \u001b[90m━━━━━━━━━━━━━━━━━━━━━━━━━━━━━━━━━━━━━━━━\u001b[0m \u001b[32m71.2/71.2 kB\u001b[0m \u001b[31m6.1 MB/s\u001b[0m eta \u001b[36m0:00:00\u001b[0m\n",
            "\u001b[2K   \u001b[90m━━━━━━━━━━━━━━━━━━━━━━━━━━━━━━━━━━━━━━━━\u001b[0m \u001b[32m459.8/459.8 kB\u001b[0m \u001b[31m33.0 MB/s\u001b[0m eta \u001b[36m0:00:00\u001b[0m\n",
            "\u001b[2K   \u001b[90m━━━━━━━━━━━━━━━━━━━━━━━━━━━━━━━━━━━━━━━━\u001b[0m \u001b[32m4.0/4.0 MB\u001b[0m \u001b[31m91.2 MB/s\u001b[0m eta \u001b[36m0:00:00\u001b[0m\n",
            "\u001b[2K   \u001b[90m━━━━━━━━━━━━━━━━━━━━━━━━━━━━━━━━━━━━━━━━\u001b[0m \u001b[32m453.1/453.1 kB\u001b[0m \u001b[31m33.8 MB/s\u001b[0m eta \u001b[36m0:00:00\u001b[0m\n",
            "\u001b[2K   \u001b[90m━━━━━━━━━━━━━━━━━━━━━━━━━━━━━━━━━━━━━━━━\u001b[0m \u001b[32m46.0/46.0 kB\u001b[0m \u001b[31m3.5 MB/s\u001b[0m eta \u001b[36m0:00:00\u001b[0m\n",
            "\u001b[2K   \u001b[90m━━━━━━━━━━━━━━━━━━━━━━━━━━━━━━━━━━━━━━━━\u001b[0m \u001b[32m86.8/86.8 kB\u001b[0m \u001b[31m7.3 MB/s\u001b[0m eta \u001b[36m0:00:00\u001b[0m\n",
            "\u001b[?25h  Building wheel for clipboard (setup.py) ... \u001b[?25l\u001b[?25hdone\n",
            "  Building wheel for pypika (pyproject.toml) ... \u001b[?25l\u001b[?25hdone\n",
            "\u001b[31mERROR: pip's dependency resolver does not currently take into account all the packages that are installed. This behaviour is the source of the following dependency conflicts.\n",
            "transformers 4.52.4 requires tokenizers<0.22,>=0.21, but you have tokenizers 0.19.1 which is incompatible.\u001b[0m\u001b[31m\n",
            "\u001b[0m"
          ]
        }
      ],
      "source": [
        "!pip install -qU openai langchain langchain-upstage langchain-chroma getpass4"
      ]
    },
    {
      "cell_type": "markdown",
      "source": [
        "https://console.upstage.ai/api-keys"
      ],
      "metadata": {
        "id": "UwhsNwTBbaQ5"
      }
    },
    {
      "cell_type": "code",
      "source": [
        "# @title set API key\n",
        "import os\n",
        "import getpass\n",
        "import warnings\n",
        "\n",
        "warnings.filterwarnings(\"ignore\")\n",
        "\n",
        "# Get the Upstage API key using getpass\n",
        "os.environ[\"UPSTAGE_API_KEY\"] = getpass.getpass(\"Enter your Upstage API key: \")\n",
        "\n",
        "print(\"API key has been set successfully.\")"
      ],
      "metadata": {
        "colab": {
          "base_uri": "https://localhost:8080/"
        },
        "id": "jek4UJ2G9eKX",
        "outputId": "44b61b12-824a-45e5-f95d-583cb74da3ba",
        "cellView": "form"
      },
      "execution_count": null,
      "outputs": [
        {
          "output_type": "stream",
          "name": "stdout",
          "text": [
            "Enter your Upstage API key: ··········\n",
            "API key has been set successfully.\n"
          ]
        }
      ]
    },
    {
      "cell_type": "markdown",
      "source": [
        "# 문서 임베딩\n",
        "| vector DB 생성 이후 생략"
      ],
      "metadata": {
        "id": "0IckkW1w_tYq"
      }
    },
    {
      "cell_type": "markdown",
      "source": [
        "## CSV 파싱"
      ],
      "metadata": {
        "id": "gazv1KDRaska"
      }
    },
    {
      "cell_type": "code",
      "source": [
        "from langchain.schema import Document\n",
        "import pandas as pd\n",
        "from typing import List\n",
        "\n",
        "# patients.csv 읽기 (환자 기본 정보)\n",
        "df = pd.read_csv(\"patients.csv\")\n",
        "\n",
        "# csv에서 사례화\n",
        "def row_to_text(row) -> str:\n",
        "    text = (\n",
        "        f\"환자 ID: {row['Id'][0:8]}\\n\"\n",
        "        f\"기본 정보: {row['BIRTHDATE']}에 태어났고, 성별은 {row['GENDER']}, 인종은 {row['RACE']}, 민족성은 {row['ETHNICITY']}입니다.\"\n",
        "        # 나이 추가할 것\n",
        "    )\n",
        "    return text\n",
        "\n",
        "texts = df.apply(row_to_text, axis=1).tolist()\n",
        "\n",
        "# 문서 리스트 준비\n",
        "patients_docs = []\n",
        "for _, row in df.iterrows():\n",
        "    text = row_to_text(row)\n",
        "    patients_docs.append(Document(page_content=text, metadata={\"patient_id\": row[\"Id\"][0:8], \"table\": \"patients\"}))\n",
        "\n",
        "print(\"총 문서 수:\", len(patients_docs))\n",
        "print(\"예시 문서:\\n\", patients_docs[0].page_content)"
      ],
      "metadata": {
        "id": "Hm_2rLOW_xHx",
        "colab": {
          "base_uri": "https://localhost:8080/"
        },
        "outputId": "ab742a43-1e4c-4a77-b639-71bb1d16517a"
      },
      "execution_count": 31,
      "outputs": [
        {
          "output_type": "stream",
          "name": "stdout",
          "text": [
            "총 문서 수: 1182\n",
            "예시 문서:\n",
            " 환자 ID: c183c8b5\n",
            "기본 정보: 2022-10-30에 태어났고, 성별은 M, 인종은 asian, 민족성은 nonhispanic입니다.\n"
          ]
        }
      ]
    },
    {
      "cell_type": "code",
      "source": [
        "import pandas as pd\n",
        "from langchain.schema import Document\n",
        "import numpy as np\n",
        "\n",
        "# conditions.csv 읽기\n",
        "df = pd.read_csv(\"conditions.csv\")\n",
        "\n",
        "# disorder만 필터링\n",
        "df = df[df[\"DESCRIPTION\"].str.contains(r\"\\(disorder\\)\", na=False)].copy()\n",
        "\n",
        "# ✅ (disorder) 제거\n",
        "df[\"DESCRIPTION\"] = df[\"DESCRIPTION\"].str.replace(r\"\\s*\\(disorder\\)\", \"\", regex=True)\n",
        "\n",
        "# ✅ STOP이 null이면 \"현재\"로 대체\n",
        "df[\"STOP\"] = df[\"STOP\"].fillna(\"현재\")\n",
        "\n",
        "# PATIENT_ID 기준으로 그룹화\n",
        "grouped = df.groupby(\"PATIENT\")\n",
        "\n",
        "# 환자별 사례화 함수\n",
        "def patient_conditions_to_text(patient_id, group_df):\n",
        "    conditions_text = \"\"\n",
        "    for _, row in group_df.iterrows():\n",
        "        stop_date = row[\"STOP\"]\n",
        "        conditions_text += (\n",
        "            f\"{row['START']}부터 {stop_date}까지 \"\n",
        "            f\"{row['DESCRIPTION']} 진단 받았습니다. \"\n",
        "        )\n",
        "    text = f\"환자 ID: {patient_id[0:8]}\\n해당 환자는 다음과 같은 질병을 진단 받았습니다. {conditions_text}\"\n",
        "    return text\n",
        "\n",
        "# 문서 리스트 준비\n",
        "conditions_docs = []\n",
        "for patient_id, group_df in grouped:\n",
        "    text = patient_conditions_to_text(patient_id, group_df)\n",
        "    conditions_docs.append(Document(page_content=text, metadata={\"patient_id\": patient_id[0:8], \"table\": \"conditions\"}))\n",
        "\n",
        "print(\"총 문서 수:\", len(conditions_docs))\n",
        "print(\"예시 문서:\\n\", conditions_docs[0].page_content)"
      ],
      "metadata": {
        "colab": {
          "base_uri": "https://localhost:8080/"
        },
        "id": "BrRPC5DIxk-2",
        "outputId": "f7805042-917f-4358-86af-c96128ea10ff"
      },
      "execution_count": 32,
      "outputs": [
        {
          "output_type": "stream",
          "name": "stdout",
          "text": [
            "총 문서 수: 1171\n",
            "예시 문서:\n",
            " 환자 ID: 0057c08f\n",
            "해당 환자는 다음과 같은 질병을 진단 받았습니다. 2012-03-22부터 현재까지 Anemia 진단 받았습니다. 2015-11-12부터 2015-11-27까지 Gingivitis 진단 받았습니다. 2015-11-13부터 2015-12-08까지 Viral sinusitis 진단 받았습니다. 2018-11-01부터 2018-11-24까지 Viral sinusitis 진단 받았습니다. 2024-01-19부터 2024-02-02까지 Gingivitis 진단 받았습니다. 2024-02-02부터 2024-02-02까지 Gingival disease 진단 받았습니다. \n"
          ]
        }
      ]
    },
    {
      "cell_type": "code",
      "source": [
        "# @title Description 추출\n",
        "import pandas as pd\n",
        "\n",
        "# CSV 파일 읽기\n",
        "df = pd.read_csv('/content/filter_obervation.csv')\n",
        "\n",
        "# DESCRIPTION별 개수 세기\n",
        "description_counts = df['DESCRIPTION'].value_counts()\n",
        "\n",
        "# 8000번 이상 등장한 DESCRIPTION만 필터링\n",
        "descriptions_over_8000 = description_counts[description_counts > 8000].index.tolist()\n",
        "\n",
        "# 결과 출력\n",
        "print(f\"8000개 넘는 DESCRIPTION 수: {len(descriptions_over_8000)}개\")\n",
        "print(\"DESCRIPTION 리스트:\")\n",
        "for desc in descriptions_over_8000:\n",
        "    print(f\"{desc} ({description_counts[desc]}개)\")\n"
      ],
      "metadata": {
        "colab": {
          "base_uri": "https://localhost:8080/"
        },
        "id": "wieVazK-clTT",
        "outputId": "5f9eb9d4-7282-4fa4-c801-8e076efd1718"
      },
      "execution_count": 28,
      "outputs": [
        {
          "output_type": "stream",
          "name": "stdout",
          "text": [
            "8000개 넘는 DESCRIPTION 수: 42개\n",
            "DESCRIPTION 리스트:\n",
            "Diastolic Blood Pressure (17939개)\n",
            "Systolic Blood Pressure (17939개)\n",
            "Body Weight (16838개)\n",
            "Heart rate (16300개)\n",
            "Respiratory rate (16300개)\n",
            "Body mass index (BMI) [Ratio] (14999개)\n",
            "Glomerular filtration rate/1.73 sq M.predicted [Volume Rate/Area] in Serum or Plasma by Creatinine-based formula (MDRD) (13682개)\n",
            "Chloride [Moles/volume] in Blood (10844개)\n",
            "Urea nitrogen [Mass/volume] in Blood (10844개)\n",
            "Creatinine [Mass/volume] in Blood (10844개)\n",
            "Sodium [Moles/volume] in Blood (10844개)\n",
            "Potassium [Moles/volume] in Blood (10844개)\n",
            "Calcium [Mass/volume] in Blood (10844개)\n",
            "Glucose [Mass/volume] in Blood (10844개)\n",
            "Carbon dioxide  total [Moles/volume] in Blood (10844개)\n",
            "Weight difference [Mass difference] --pre dialysis - post dialysis (10515개)\n",
            "Hemoglobin A1c/Hemoglobin.total in Blood (10099개)\n",
            "Leukocyte esterase [Presence] in Urine by Test strip (8893개)\n",
            "Nitrite [Presence] in Urine by Test strip (8893개)\n",
            "pH of Urine by Test strip (8893개)\n",
            "Specific gravity of Urine by Test strip (8893개)\n",
            "Hemoglobin [Presence] in Urine by Test strip (8893개)\n",
            "Ketones [Presence] in Urine by Test strip (8893개)\n",
            "Glucose [Mass/volume] in Urine by Test strip (8775개)\n",
            "Protein [Mass/volume] in Urine by Test strip (8775개)\n",
            "Bilirubin.total [Presence] in Urine by Test strip (8725개)\n",
            "Glucose [Presence] in Urine by Test strip (8725개)\n",
            "Protein [Presence] in Urine by Test strip (8725개)\n",
            "Appearance of Urine (8607개)\n",
            "Odor of Urine (8607개)\n",
            "Color of Urine (8607개)\n",
            "Bilirubin.total [Mass/volume] in Urine by Test strip (8607개)\n",
            "Clarity of Urine (8607개)\n",
            "Ketones [Mass/volume] in Urine by Test strip (8607개)\n",
            "Carbon dioxide  total [Moles/volume] in Serum or Plasma (8066개)\n",
            "Potassium [Moles/volume] in Serum or Plasma (8066개)\n",
            "Creatinine [Mass/volume] in Serum or Plasma (8066개)\n",
            "Calcium [Mass/volume] in Serum or Plasma (8066개)\n",
            "Chloride [Moles/volume] in Serum or Plasma (8066개)\n",
            "Sodium [Moles/volume] in Serum or Plasma (8066개)\n",
            "Urea nitrogen [Mass/volume] in Serum or Plasma (8066개)\n",
            "Glucose [Mass/volume] in Serum or Plasma (8066개)\n"
          ]
        }
      ]
    },
    {
      "cell_type": "code",
      "source": [
        "import pandas as pd\n",
        "from langchain.schema import Document\n",
        "\n",
        "# CSV 읽기\n",
        "df = pd.read_csv(\"test_observation_over_8000.csv\")\n",
        "\n",
        "# descriptions 리스트 예시 (코드 상단에 정의되어 있다고 가정)\n",
        "descriptions = descriptions_over_8000\n",
        "\n",
        "# 행 단위 text 생성 함수\n",
        "def row_to_text(row) -> str:\n",
        "    text = f\"{row['DATE'][:10]}에 기록: \"\n",
        "    for description in descriptions:\n",
        "        matching_columns = [col for col in row.index if description == col.split(' [')[0]]\n",
        "        if matching_columns:\n",
        "            full_col_name = matching_columns[0]\n",
        "            value = row[full_col_name]\n",
        "            if pd.notna(value):\n",
        "                text += f\"{description}: {value} \"\n",
        "    return text\n",
        "\n",
        "# ✅ patient_id 기준 그룹화\n",
        "grouped = df.groupby(\"PATIENT\")\n",
        "\n",
        "# 환자별 Document 생성\n",
        "observation_docs = []\n",
        "\n",
        "for patient_id, group_df in grouped:\n",
        "    text_lines = []\n",
        "    for _, row in group_df.iterrows():\n",
        "        line = row_to_text(row)\n",
        "        text_lines.append(line)\n",
        "\n",
        "    # 한 환자 전체 observation 문장 합치기\n",
        "    combined_text = f\"환자 ID: {patient_id[:8]}\\n환자는 다음과 같은 바이탈/검사 데이터를 기록했습니다:\\n\" + \"\\n\".join(text_lines)\n",
        "\n",
        "    # Document 생성\n",
        "    observation_docs.append(Document(page_content=combined_text, metadata={\"patient_id\": patient_id[:8], \"table\": \"observations\"}))\n",
        "\n",
        "print(\"총 환자 수 (문서 수):\", len(observation_docs))\n",
        "print(\"예시 문서:\\n\", observation_docs[0].page_content)"
      ],
      "metadata": {
        "colab": {
          "base_uri": "https://localhost:8080/"
        },
        "id": "-rU_NQvbW2U0",
        "outputId": "98f81d8f-83ec-4ef2-842b-84560973c6ee"
      },
      "execution_count": 33,
      "outputs": [
        {
          "output_type": "stream",
          "name": "stdout",
          "text": [
            "총 환자 수 (문서 수): 1122\n",
            "예시 문서:\n",
            " 환자 ID: 0057c08f\n",
            "환자는 다음과 같은 바이탈/검사 데이터를 기록했습니다:\n",
            "2015-11-12에 기록: Diastolic Blood Pressure: 82.0 Systolic Blood Pressure: 107.0 Body Weight: 91.7 Heart rate: 63.0 Respiratory rate: 16.0 Hemoglobin A1c/Hemoglobin.total in Blood: 6.1 \n",
            "2018-03-29에 기록: Diastolic Blood Pressure: 75.0 Systolic Blood Pressure: 106.0 Body Weight: 97.3 Heart rate: 92.0 Respiratory rate: 14.0 Hemoglobin A1c/Hemoglobin.total in Blood: 6.0 \n",
            "2021-04-01에 기록: Diastolic Blood Pressure: 81.0 Systolic Blood Pressure: 96.0 Body Weight: 92.4 Heart rate: 69.0 Respiratory rate: 16.0 Hemoglobin A1c/Hemoglobin.total in Blood: 5.9 \n",
            "2024-01-18에 기록: Diastolic Blood Pressure: 76.0 Systolic Blood Pressure: 107.0 Body Weight: 99.1 Heart rate: 97.0 Respiratory rate: 14.0 Hemoglobin A1c/Hemoglobin.total in Blood: 6.3 \n"
          ]
        }
      ]
    },
    {
      "cell_type": "code",
      "source": [
        "import pandas as pd\n",
        "from langchain.schema import Document\n",
        "\n",
        "# medications.csv 읽기\n",
        "df = pd.read_csv(\"medications.csv\")\n",
        "\n",
        "# 환자 id 기준 그룹화\n",
        "grouped = df.groupby(\"PATIENT\")\n",
        "\n",
        "medication_docs = []\n",
        "\n",
        "for patient_id, group in grouped:\n",
        "    # 동일 약물(description) 기준으로 다시 그룹화\n",
        "    med_grouped = group.groupby(\"DESCRIPTION\")\n",
        "\n",
        "    text_lines = []\n",
        "    for description, med_subgroup in med_grouped:\n",
        "        # 각 기간에 대한 문장 모음\n",
        "        period_lines = []\n",
        "        for _, row in med_subgroup.iterrows():\n",
        "            start_date = row['START'][:10]\n",
        "            stop_date = row['STOP'][:10] + '까지' if pd.notnull(row['STOP']) else '현재까지'\n",
        "            dispenses = row['DISPENSES']\n",
        "            period_lines.append(f\"{start_date}부터 {stop_date} 총 {dispenses}회\")\n",
        "\n",
        "        # 기간 문장 합치기\n",
        "        periods_str = \"; \".join(period_lines)\n",
        "        line = f\"{description}을 {periods_str} 복용했습니다.\"\n",
        "        text_lines.append(line)\n",
        "\n",
        "    # 최종 환자 문서\n",
        "    combined_text = f\"환자 ID: {patient_id[:8]}\\n환자는 다음 약물을 복용했습니다:\\n\" + \"\\n\".join(text_lines)\n",
        "    medication_docs.append(Document(page_content=combined_text, metadata={\"patient_id\": patient_id[:8], \"table\": \"medications\"}))\n",
        "\n",
        "print(\"환자 수 (문서 수):\", len(medication_docs))\n",
        "print(\"예시 문서:\\n\", medication_docs[1].page_content)\n"
      ],
      "metadata": {
        "colab": {
          "base_uri": "https://localhost:8080/"
        },
        "id": "ALiPy-nUW2xZ",
        "outputId": "bddd07f5-6050-457e-cfe6-64c6e338b334"
      },
      "execution_count": 34,
      "outputs": [
        {
          "output_type": "stream",
          "name": "stdout",
          "text": [
            "환자 수 (문서 수): 1158\n",
            "예시 문서:\n",
            " 환자 ID: 009daab6\n",
            "환자는 다음 약물을 복용했습니다:\n",
            "Acetaminophen 300 MG / Hydrocodone Bitartrate 5 MG Oral Tablet을 2014-08-06부터 2015-08-12까지 총 3회; 2015-08-12부터 2016-08-17까지 총 3회; 2016-08-17부터 2017-08-23까지 총 3회; 2017-08-23부터 2018-08-29까지 총 3회; 2018-08-29부터 2019-09-04까지 총 3회; 2019-09-04부터 2020-09-09까지 총 3회; 2020-09-09부터 2021-09-15까지 총 3회; 2021-09-15부터 2022-09-21까지 총 3회; 2022-09-21부터 2023-09-27까지 총 3회; 2023-09-27부터 2024-10-02까지 총 3회; 2024-10-02부터 현재까지 총 3회 복용했습니다.\n",
            "Acetaminophen 325 MG Oral Tablet을 2016-05-02부터 2016-05-28까지 총 1회 복용했습니다.\n",
            "Penicillin V Potassium 500 MG Oral Tablet을 2024-11-06부터 2024-11-15까지 총 1회 복용했습니다.\n",
            "sodium fluoride 0.0272 MG/MG Oral Gel을 2019-09-18부터 2019-09-18까지 총 1회 복용했습니다.\n"
          ]
        }
      ]
    },
    {
      "cell_type": "code",
      "source": [
        "import numpy as np\n",
        "\n",
        "# 각 문서의 문자열 길이 측정\n",
        "lengths = [len(doc.page_content) for doc in medication_docs]\n",
        "\n",
        "# 통계 계산\n",
        "avg_len = np.mean(lengths)\n",
        "median_len = np.median(lengths)\n",
        "min_len = np.min(lengths)\n",
        "max_len = np.max(lengths)\n",
        "\n",
        "# 출력\n",
        "print(\"총 문서 수:\", len(lengths))\n",
        "print(f\"평균 문자열 길이: {avg_len:.2f}\")\n",
        "print(f\"중앙값 문자열 길이: {median_len}\")\n",
        "print(f\"최소 문자열 길이: {min_len}\")\n",
        "print(f\"최대 문자열 길이: {max_len}\")\n"
      ],
      "metadata": {
        "colab": {
          "base_uri": "https://localhost:8080/"
        },
        "id": "tsknt0j2aOmm",
        "outputId": "16be876a-25ff-4c36-b9a6-31027afc15c2"
      },
      "execution_count": 21,
      "outputs": [
        {
          "output_type": "stream",
          "name": "stdout",
          "text": [
            "총 문서 수: 1158\n",
            "평균 문자열 길이: 2059.18\n",
            "중앙값 문자열 길이: 731.0\n",
            "최소 문자열 길이: 97\n",
            "최대 문자열 길이: 44575\n"
          ]
        }
      ]
    },
    {
      "cell_type": "code",
      "source": [
        "# allergies.csv 읽기 (알러지 반응 기록)\n",
        "from langchain.text_splitter import RecursiveCharacterTextSplitter\n",
        "from langchain.schema import Document\n",
        "import pandas as pd\n",
        "from typing import List\n",
        "df = pd.read_csv(\"allergies.csv\")\n",
        "\n",
        "\n",
        "# 환자별로 그룹화\n",
        "grouped = df.groupby(\"PATIENT\")\n",
        "\n",
        "# 문서 리스트\n",
        "allergy_docs = []\n",
        "\n",
        "for patient_id, group in grouped:\n",
        "    text_lines = []\n",
        "    for _, row in group.iterrows():\n",
        "        # 한 줄 설명 생성\n",
        "        line = (\n",
        "            f\"{row['START'][:10]}부터 현재까지 \"\n",
        "            f\"{row['DESCRIPTION']}({row['CODE']})에 대한 알레르기를 보였습니다. \"\n",
        "            f\"이 알레르기는 {row['CATEGORY']} 카테고리에 속하며, \"\n",
        "            f\"코드 체계는 {row['SYSTEM']}입니다.\"\n",
        "        )\n",
        "        if pd.notnull(row['DESCRIPTION1']):\n",
        "            line += f\" 첫 번째 반응은 {row['DESCRIPTION1']}로, 심각도는 {row['SEVERITY1']}입니다.\"\n",
        "        if pd.notnull(row['DESCRIPTION2']):\n",
        "            line += f\" 두 번째 반응은 {row['DESCRIPTION2']}로, 심각도는 {row['SEVERITY2']}입니다.\"\n",
        "\n",
        "        text_lines.append(line)\n",
        "\n",
        "    # 전체 문서 구성\n",
        "    combined_text = f\"환자 ID: {patient_id[:8]}\\n환자는 다음과 같은 알레르기 반응을 보였습니다:\\n\" + \"\\n\".join(text_lines)\n",
        "\n",
        "    # Document 생성\n",
        "    allergy_docs.append(Document(page_content=combined_text, metadata={\"patient_id\": patient_id[:8], \"table\": \"allergies\"}))\n",
        "\n",
        "print(\"환자 수 (문서 수):\", len(allergy_docs))\n",
        "print(\"예시 문서:\\n\", allergy_docs[0].page_content)"
      ],
      "metadata": {
        "colab": {
          "base_uri": "https://localhost:8080/"
        },
        "id": "uYJvmZx1W22x",
        "outputId": "6fe38d50-da47-475f-f495-df810a9ac417"
      },
      "execution_count": 35,
      "outputs": [
        {
          "output_type": "stream",
          "name": "stdout",
          "text": [
            "환자 수 (문서 수): 202\n",
            "예시 문서:\n",
            " 환자 ID: 01512022\n",
            "환자는 다음과 같은 알레르기 반응을 보였습니다:\n",
            "2004-02-08부터 현재까지 Allergic disposition (finding)(609328004.0)에 대한 알레르기를 보였습니다. 이 알레르기는 environment 카테고리에 속하며, 코드 체계는 SNOMED-CT입니다.\n",
            "2004-02-08부터 현재까지 Mold (organism)(84489001.0)에 대한 알레르기를 보였습니다. 이 알레르기는 environment 카테고리에 속하며, 코드 체계는 SNOMED-CT입니다. 첫 번째 반응은 Nasal discharge present (situation)로, 심각도는 MILD입니다.\n"
          ]
        }
      ]
    },
    {
      "cell_type": "code",
      "source": [
        "import numpy as np\n",
        "\n",
        "# 각 문서의 문자열 길이 측정\n",
        "lengths = [len(doc.page_content) for doc in allergy_docs]\n",
        "\n",
        "# 통계 계산\n",
        "avg_len = np.mean(lengths)\n",
        "median_len = np.median(lengths)\n",
        "min_len = np.min(lengths)\n",
        "max_len = np.max(lengths)\n",
        "\n",
        "# 출력\n",
        "print(\"총 문서 수:\", len(lengths))\n",
        "print(f\"평균 문자열 길이: {avg_len:.2f}\")\n",
        "print(f\"중앙값 문자열 길이: {median_len}\")\n",
        "print(f\"최소 문자열 길이: {min_len}\")\n",
        "print(f\"최대 문자열 길이: {max_len}\")\n"
      ],
      "metadata": {
        "colab": {
          "base_uri": "https://localhost:8080/"
        },
        "id": "SKbORGMiak9S",
        "outputId": "f1dc2d35-95c9-4aea-c15d-d73fae69e29b"
      },
      "execution_count": 24,
      "outputs": [
        {
          "output_type": "stream",
          "name": "stdout",
          "text": [
            "총 문서 수: 202\n",
            "평균 문자열 길이: 853.05\n",
            "중앙값 문자열 길이: 647.5\n",
            "최소 문자열 길이: 173\n",
            "최대 문자열 길이: 2207\n"
          ]
        }
      ]
    },
    {
      "cell_type": "code",
      "source": [
        "from collections import defaultdict\n",
        "from langchain.schema import Document\n",
        "\n",
        "# ✅ 모든 docs 한 리스트에 합치기\n",
        "all_docs = patients_docs + conditions_docs + observation_docs + medication_docs + allergy_docs\n",
        "\n",
        "# ✅ patient_id 기준으로 그룹화\n",
        "patient_groups = defaultdict(list)\n",
        "for doc in all_docs:\n",
        "    pid = doc.metadata.get(\"patient_id\")\n",
        "    if pid:\n",
        "        patient_groups[pid].append(doc)\n",
        "\n",
        "# ✅ 통합 사례 생성 함수\n",
        "def create_merged_case(pid, docs):\n",
        "    table_texts = {\n",
        "        \"patients\": None,\n",
        "        \"conditions\": None,\n",
        "        \"observations\": None,\n",
        "        \"medications\": None,\n",
        "        \"allergies\": None,\n",
        "    }\n",
        "\n",
        "    for doc in docs:\n",
        "        table_name = doc.metadata.get(\"table\")\n",
        "        if table_name in table_texts:\n",
        "            # ✅ 환자 ID 문자열 제거\n",
        "            content = doc.page_content\n",
        "            content_lines = content.split(\"\\n\")\n",
        "            if table_name != \"patients\":\n",
        "                # 두 번째 줄 이후부터 이어 붙이기\n",
        "                content = \"\\n\".join(content_lines[1:]).strip()\n",
        "            table_texts[table_name] = content\n",
        "\n",
        "    summary_text = f\"환자 ID: {pid}\\n\\n\"\n",
        "    summary_text += f\"기본 정보: {table_texts['patients'] if table_texts['patients'] else '정보 없음'}\\n\\n\"\n",
        "    summary_text += f\"진단 질병: {table_texts['conditions'] if table_texts['conditions'] else '정보 없음'}\\n\\n\"\n",
        "    summary_text += f\"신체/바이탈 정보: {table_texts['observations'] if table_texts['observations'] else '정보 없음'}\\n\\n\"\n",
        "    summary_text += f\"투약 정보: {table_texts['medications'] if table_texts['medications'] else '정보 없음'}\\n\\n\"\n",
        "    summary_text += f\"알러지 정보: {table_texts['allergies'] if table_texts['allergies'] else '정보 없음'}\"\n",
        "\n",
        "    return Document(page_content=summary_text, metadata={\"patient_id\": pid, \"table\": \"merged_summary\"})\n",
        "\n",
        "# ✅ 최종 통합 문서 리스트 생성\n",
        "merged_docs = []\n",
        "for pid, docs in patient_groups.items():\n",
        "    merged_doc = create_merged_case(pid, docs)\n",
        "    merged_docs.append(merged_doc)\n",
        "\n",
        "print(\"총 통합 문서 수:\", len(merged_docs))\n",
        "print(\"예시 문서:\\n\", merged_docs[3].page_content)\n"
      ],
      "metadata": {
        "colab": {
          "base_uri": "https://localhost:8080/"
        },
        "id": "BgLyaEhjhksB",
        "outputId": "950a3b58-2fad-471a-eb21-1757dffd6118"
      },
      "execution_count": 40,
      "outputs": [
        {
          "output_type": "stream",
          "name": "stdout",
          "text": [
            "총 통합 문서 수: 1182\n",
            "예시 문서:\n",
            " 환자 ID: baf0e9ab\n",
            "\n",
            "기본 정보: 환자 ID: baf0e9ab\n",
            "기본 정보: 2004-09-11에 태어났고, 성별은 F, 인종은 white, 민족성은 nonhispanic입니다.\n",
            "\n",
            "진단 질병: 해당 환자는 다음과 같은 질병을 진단 받았습니다. 2015-08-17부터 2015-09-07까지 Viral sinusitis 진단 받았습니다. 2016-10-01부터 2016-10-15까지 Gingivitis 진단 받았습니다. 2018-10-13부터 2018-10-20까지 Gingivitis 진단 받았습니다. 2019-09-14부터 2019-09-16까지 Acute infective cystitis 진단 받았습니다.\n",
            "\n",
            "신체/바이탈 정보: 환자는 다음과 같은 바이탈/검사 데이터를 기록했습니다:\n",
            "2015-09-25에 기록: Diastolic Blood Pressure: 68.0 Systolic Blood Pressure: 101.0 Body Weight: 42.8 Heart rate: 79.0 Respiratory rate: 14.0 \n",
            "2016-09-30에 기록: Diastolic Blood Pressure: 69.0 Systolic Blood Pressure: 105.0 Body Weight: 47.2 Heart rate: 97.0 Respiratory rate: 14.0 \n",
            "2017-10-06에 기록: Diastolic Blood Pressure: 69.0 Systolic Blood Pressure: 111.0 Body Weight: 50.6 Heart rate: 71.0 Respiratory rate: 16.0 \n",
            "2018-10-12에 기록: Diastolic Blood Pressure: 67.0 Systolic Blood Pressure: 117.0 Body Weight: 51.2 Heart rate: 76.0 Respiratory rate: 14.0 \n",
            "2019-10-18에 기록: Diastolic Blood Pressure: 69.0 Systolic Blood Pressure: 106.0 Body Weight: 52.7 Heart rate: 61.0 Respiratory rate: 14.0 \n",
            "2020-10-23에 기록: Diastolic Blood Pressure: 61.0 Systolic Blood Pressure: 107.0 Body Weight: 54.5 Heart rate: 95.0 Respiratory rate: 12.0 \n",
            "2021-10-29에 기록: Diastolic Blood Pressure: 69.0 Systolic Blood Pressure: 117.0 Body Weight: 57.1 Heart rate: 78.0 Respiratory rate: 12.0 \n",
            "2022-11-04에 기록: Diastolic Blood Pressure: 69.0 Systolic Blood Pressure: 115.0 Body Weight: 62.0 Heart rate: 80.0 Respiratory rate: 15.0 \n",
            "2023-11-10에 기록: Diastolic Blood Pressure: 67.0 Systolic Blood Pressure: 111.0 Body Weight: 61.3 Heart rate: 65.0 Respiratory rate: 14.0\n",
            "\n",
            "투약 정보: 환자는 다음 약물을 복용했습니다:\n",
            "Levora 0.15/30 28 Day Pack을 2018-09-10부터 2019-09-05까지 총 12회 복용했습니다.\n",
            "Natazia 28 Day Pack을 2020-08-30부터 2021-08-25까지 총 12회 복용했습니다.\n",
            "Yaz 28 Day Pack을 2022-08-20부터 2023-08-15까지 총 12회 복용했습니다.\n",
            "cephalexin 500 MG Oral Tablet을 2019-09-13부터 2019-09-15까지 총 1회 복용했습니다.\n",
            "sodium fluoride 0.0272 MG/MG Oral Gel을 2016-10-14부터 2016-10-14까지 총 1회 복용했습니다.\n",
            "\n",
            "알러지 정보: 정보 없음\n"
          ]
        }
      ]
    },
    {
      "cell_type": "code",
      "source": [
        "import numpy as np\n",
        "\n",
        "# 각 문서의 문자열 길이 측정\n",
        "lengths = [len(doc.page_content) for doc in merged_docs]\n",
        "\n",
        "# 통계 계산\n",
        "avg_len = np.mean(lengths)\n",
        "median_len = np.median(lengths)\n",
        "min_len = np.min(lengths)\n",
        "max_len = np.max(lengths)\n",
        "\n",
        "# 출력\n",
        "print(\"총 문서 수:\", len(lengths))\n",
        "print(f\"평균 문자열 길이: {avg_len:.2f}\")\n",
        "print(f\"중앙값 문자열 길이: {median_len}\")\n",
        "print(f\"최소 문자열 길이: {min_len}\")\n",
        "print(f\"최대 문자열 길이: {max_len}\")\n"
      ],
      "metadata": {
        "colab": {
          "base_uri": "https://localhost:8080/"
        },
        "id": "S4w_qJH_idh7",
        "outputId": "d707db25-581a-4ca1-b177-d49115da9bb0"
      },
      "execution_count": 38,
      "outputs": [
        {
          "output_type": "stream",
          "name": "stdout",
          "text": [
            "총 문서 수: 1182\n",
            "평균 문자열 길이: 5427.40\n",
            "중앙값 문자열 길이: 3105.5\n",
            "최소 문자열 길이: 324\n",
            "최대 문자열 길이: 90799\n"
          ]
        }
      ]
    },
    {
      "cell_type": "markdown",
      "source": [
        "## Chunking 작업"
      ],
      "metadata": {
        "id": "u5DoSL_nAA6e"
      }
    },
    {
      "cell_type": "code",
      "source": [
        "from langchain.text_splitter import RecursiveCharacterTextSplitter\n",
        "# @title Patitents.csv\n",
        "# Splitter 설정\n",
        "patients_text_splitter = RecursiveCharacterTextSplitter(\n",
        "    chunk_size=300,\n",
        "    chunk_overlap=0,\n",
        ")\n",
        "\n",
        "# 실제 split\n",
        "patients_splits = patients_text_splitter.split_documents(patients_docs)\n",
        "\n",
        "# 결과 출력\n",
        "print(\"Splits:\", len(patients_splits))\n"
      ],
      "metadata": {
        "colab": {
          "base_uri": "https://localhost:8080/"
        },
        "id": "4ilRBlVw_23o",
        "outputId": "7e0ea4c9-f508-4824-aeda-2c819b4821cc"
      },
      "execution_count": null,
      "outputs": [
        {
          "output_type": "stream",
          "name": "stdout",
          "text": [
            "Splits: 1182\n"
          ]
        }
      ]
    },
    {
      "cell_type": "code",
      "source": [
        "# @title Conditions.csv\n",
        "# Splitter 설정\n",
        "conditions_text_splitter = RecursiveCharacterTextSplitter(\n",
        "    chunk_size=200,\n",
        "    chunk_overlap=50, # 같은 환자의 여러 질병을 고려\n",
        ")\n",
        "\n",
        "# 실제 split\n",
        "conditions_splits = conditions_text_splitter.split_documents(conditions_docs)\n",
        "\n",
        "# 결과 출력\n",
        "print(\"Splits:\", len(conditions_splits))\n"
      ],
      "metadata": {
        "colab": {
          "base_uri": "https://localhost:8080/"
        },
        "id": "GscosMzbKEB8",
        "outputId": "28719190-3b06-4c5a-eae4-1a3d659acbcb"
      },
      "execution_count": null,
      "outputs": [
        {
          "output_type": "stream",
          "name": "stdout",
          "text": [
            "Splits: 6993\n"
          ]
        }
      ]
    },
    {
      "cell_type": "markdown",
      "source": [
        "### (추가) Plot 시각화"
      ],
      "metadata": {
        "id": "mBEbWw6ABJH7"
      }
    },
    {
      "cell_type": "code",
      "source": [
        "# 시각화\n",
        "import matplotlib.pyplot as plt\n",
        "\n",
        "split_lengths = [len(split.page_content) for split in conditions_splits] # 여기 splits 변경\n",
        "\n",
        "plt.bar(range(len(split_lengths)), split_lengths)\n",
        "plt.title(\"RecursiveCharacterTextSplitter\")\n",
        "plt.xlabel(\"Split Index\")\n",
        "plt.ylabel(\"Split Content Length\")\n",
        "plt.xticks(range(len(split_lengths)), [])\n",
        "plt.show()"
      ],
      "metadata": {
        "colab": {
          "base_uri": "https://localhost:8080/",
          "height": 458
        },
        "id": "bnu1vgUCBE-v",
        "outputId": "ab41121b-8b42-4c87-f7c0-924ddd2efcf9"
      },
      "execution_count": null,
      "outputs": [
        {
          "output_type": "display_data",
          "data": {
            "text/plain": [
              "<Figure size 640x480 with 1 Axes>"
            ],
            "image/png": "[encoded data removed]"
          },
          "metadata": {}
        }
      ]
    },
    {
      "cell_type": "markdown",
      "source": [
        "## Vector DB 저장"
      ],
      "metadata": {
        "id": "VELHS6FKBUTX"
      }
    },
    {
      "cell_type": "code",
      "source": [
        "from langchain_chroma import Chroma\n",
        "from langchain_upstage import UpstageEmbeddings\n",
        "from langchain.docstore.document import Document"
      ],
      "metadata": {
        "id": "7ddlfhFr-9GV"
      },
      "execution_count": null,
      "outputs": []
    },
    {
      "cell_type": "code",
      "source": [
        "# 1️⃣ Embeddings 객체 선언\n",
        "embeddings = UpstageEmbeddings(model=\"embedding-query\")\n",
        "\n",
        "# 2️⃣ Chroma 벡터 DB 생성 및 문서 삽입\n",
        "patient_vectorstore = Chroma.from_documents(\n",
        "    documents=patient_splits,\n",
        "    embedding=embeddings,\n",
        "    persist_directory=\"./chroma_patient_db\"  # ✅ 여기에 경로 추가!\n",
        ")"
      ],
      "metadata": {
        "colab": {
          "base_uri": "https://localhost:8080/"
        },
        "id": "837B16Q4Czuq",
        "outputId": "d7450793-b5cd-478b-f363-7e59189c1a3c"
      },
      "execution_count": null,
      "outputs": [
        {
          "output_type": "stream",
          "name": "stderr",
          "text": [
            "ERROR:chromadb.telemetry.product.posthog:Failed to send telemetry event ClientStartEvent: capture() takes 1 positional argument but 3 were given\n",
            "ERROR:chromadb.telemetry.product.posthog:Failed to send telemetry event ClientCreateCollectionEvent: capture() takes 1 positional argument but 3 were given\n"
          ]
        }
      ]
    },
    {
      "cell_type": "code",
      "source": [
        "# @title\n",
        "# 2️⃣ Chroma 벡터 DB 생성 및 문서 삽입\n",
        "conditions_vectorstore = Chroma.from_documents(\n",
        "    documents=conditions_splits, # 43975개 -> 거의 1달러 씀, 1시간 20분 정도 소요 / 5600 -> 10분\n",
        "    embedding=embeddings,\n",
        "    persist_directory=\"./chroma_conditions_db\"\n",
        ")"
      ],
      "metadata": {
        "colab": {
          "base_uri": "https://localhost:8080/"
        },
        "id": "d5Ml-1Hp2YET",
        "outputId": "2de4740b-981f-4738-8872-bd5b2d672e60",
        "cellView": "form"
      },
      "execution_count": null,
      "outputs": [
        {
          "output_type": "stream",
          "name": "stderr",
          "text": [
            "ERROR:chromadb.telemetry.product.posthog:Failed to send telemetry event ClientStartEvent: capture() takes 1 positional argument but 3 were given\n",
            "ERROR:chromadb.telemetry.product.posthog:Failed to send telemetry event ClientCreateCollectionEvent: capture() takes 1 positional argument but 3 were given\n"
          ]
        }
      ]
    },
    {
      "cell_type": "code",
      "source": [
        "# 2️⃣ Chroma 벡터 DB 생성 및 문서 삽입\n",
        "embeddings = UpstageEmbeddings(model=\"embedding-query\")\n",
        "\n",
        "medications_vectorstore = Chroma.from_documents(\n",
        "    documents=medications_splits,\n",
        "    embedding=embeddings,\n",
        "    persist_directory=\"./chroma_medications_db\"\n",
        ")"
      ],
      "metadata": {
        "colab": {
          "base_uri": "https://localhost:8080/",
          "height": 462
        },
        "id": "9T0v91if50xW",
        "outputId": "53f44f79-8797-4817-837c-b1fc877c4ff9"
      },
      "execution_count": null,
      "outputs": [
        {
          "output_type": "stream",
          "name": "stderr",
          "text": [
            "ERROR:chromadb.telemetry.product.posthog:Failed to send telemetry event ClientStartEvent: capture() takes 1 positional argument but 3 were given\n",
            "ERROR:chromadb.telemetry.product.posthog:Failed to send telemetry event ClientCreateCollectionEvent: capture() takes 1 positional argument but 3 were given\n"
          ]
        },
        {
          "output_type": "error",
          "ename": "RateLimitError",
          "evalue": "Error code: 429 - {'error': {'message': \"You've reached your API request limit. Please wait and try again later. If your use case requires a higher rate limit, you can request an increase at https://support.upstage.ai. Including your intended use case and expected volume will help us process your request faster\", 'type': 'too_many_requests', 'param': '', 'code': 'too_many_requests'}}",
          "traceback": [
            "\u001b[0;31m---------------------------------------------------------------------------\u001b[0m",
            "\u001b[0;31mRateLimitError\u001b[0m                            Traceback (most recent call last)",
            "\u001b[0;32m/tmp/ipython-input-96-2750198796.py\u001b[0m in \u001b[0;36m<cell line: 0>\u001b[0;34m()\u001b[0m\n\u001b[1;32m      2\u001b[0m \u001b[0membeddings\u001b[0m \u001b[0;34m=\u001b[0m \u001b[0mUpstageEmbeddings\u001b[0m\u001b[0;34m(\u001b[0m\u001b[0mmodel\u001b[0m\u001b[0;34m=\u001b[0m\u001b[0;34m\"embedding-query\"\u001b[0m\u001b[0;34m)\u001b[0m\u001b[0;34m\u001b[0m\u001b[0;34m\u001b[0m\u001b[0m\n\u001b[1;32m      3\u001b[0m \u001b[0;34m\u001b[0m\u001b[0m\n\u001b[0;32m----> 4\u001b[0;31m medications_vectorstore = Chroma.from_documents(\n\u001b[0m\u001b[1;32m      5\u001b[0m     \u001b[0mdocuments\u001b[0m\u001b[0;34m=\u001b[0m\u001b[0mmedications_splits\u001b[0m\u001b[0;34m,\u001b[0m\u001b[0;34m\u001b[0m\u001b[0;34m\u001b[0m\u001b[0m\n\u001b[1;32m      6\u001b[0m     \u001b[0membedding\u001b[0m\u001b[0;34m=\u001b[0m\u001b[0membeddings\u001b[0m\u001b[0;34m,\u001b[0m\u001b[0;34m\u001b[0m\u001b[0;34m\u001b[0m\u001b[0m\n",
            "\u001b[0;32m/usr/local/lib/python3.11/dist-packages/langchain_chroma/vectorstores.py\u001b[0m in \u001b[0;36mfrom_documents\u001b[0;34m(cls, documents, embedding, ids, collection_name, persist_directory, client_settings, client, collection_metadata, **kwargs)\u001b[0m\n\u001b[1;32m   1232\u001b[0m         \u001b[0;32mif\u001b[0m \u001b[0mids\u001b[0m \u001b[0;32mis\u001b[0m \u001b[0;32mNone\u001b[0m\u001b[0;34m:\u001b[0m\u001b[0;34m\u001b[0m\u001b[0;34m\u001b[0m\u001b[0m\n\u001b[1;32m   1233\u001b[0m             \u001b[0mids\u001b[0m \u001b[0;34m=\u001b[0m \u001b[0;34m[\u001b[0m\u001b[0mdoc\u001b[0m\u001b[0;34m.\u001b[0m\u001b[0mid\u001b[0m \u001b[0;32mif\u001b[0m \u001b[0mdoc\u001b[0m\u001b[0;34m.\u001b[0m\u001b[0mid\u001b[0m \u001b[0;32melse\u001b[0m \u001b[0mstr\u001b[0m\u001b[0;34m(\u001b[0m\u001b[0muuid\u001b[0m\u001b[0;34m.\u001b[0m\u001b[0muuid4\u001b[0m\u001b[0;34m(\u001b[0m\u001b[0;34m)\u001b[0m\u001b[0;34m)\u001b[0m \u001b[0;32mfor\u001b[0m \u001b[0mdoc\u001b[0m \u001b[0;32min\u001b[0m \u001b[0mdocuments\u001b[0m\u001b[0;34m]\u001b[0m\u001b[0;34m\u001b[0m\u001b[0;34m\u001b[0m\u001b[0m\n\u001b[0;32m-> 1234\u001b[0;31m         return cls.from_texts(\n\u001b[0m\u001b[1;32m   1235\u001b[0m             \u001b[0mtexts\u001b[0m\u001b[0;34m=\u001b[0m\u001b[0mtexts\u001b[0m\u001b[0;34m,\u001b[0m\u001b[0;34m\u001b[0m\u001b[0;34m\u001b[0m\u001b[0m\n\u001b[1;32m   1236\u001b[0m             \u001b[0membedding\u001b[0m\u001b[0;34m=\u001b[0m\u001b[0membedding\u001b[0m\u001b[0;34m,\u001b[0m\u001b[0;34m\u001b[0m\u001b[0;34m\u001b[0m\u001b[0m\n",
            "\u001b[0;32m/usr/local/lib/python3.11/dist-packages/langchain_chroma/vectorstores.py\u001b[0m in \u001b[0;36mfrom_texts\u001b[0;34m(cls, texts, embedding, metadatas, ids, collection_name, persist_directory, client_settings, client, collection_metadata, **kwargs)\u001b[0m\n\u001b[1;32m   1185\u001b[0m                 \u001b[0mdocuments\u001b[0m\u001b[0;34m=\u001b[0m\u001b[0mtexts\u001b[0m\u001b[0;34m,\u001b[0m\u001b[0;34m\u001b[0m\u001b[0;34m\u001b[0m\u001b[0m\n\u001b[1;32m   1186\u001b[0m             ):\n\u001b[0;32m-> 1187\u001b[0;31m                 chroma_collection.add_texts(\n\u001b[0m\u001b[1;32m   1188\u001b[0m                     \u001b[0mtexts\u001b[0m\u001b[0;34m=\u001b[0m\u001b[0mbatch\u001b[0m\u001b[0;34m[\u001b[0m\u001b[0;36m3\u001b[0m\u001b[0;34m]\u001b[0m \u001b[0;32mif\u001b[0m \u001b[0mbatch\u001b[0m\u001b[0;34m[\u001b[0m\u001b[0;36m3\u001b[0m\u001b[0;34m]\u001b[0m \u001b[0;32melse\u001b[0m \u001b[0;34m[\u001b[0m\u001b[0;34m]\u001b[0m\u001b[0;34m,\u001b[0m\u001b[0;34m\u001b[0m\u001b[0;34m\u001b[0m\u001b[0m\n\u001b[1;32m   1189\u001b[0m                     \u001b[0mmetadatas\u001b[0m\u001b[0;34m=\u001b[0m\u001b[0mbatch\u001b[0m\u001b[0;34m[\u001b[0m\u001b[0;36m2\u001b[0m\u001b[0;34m]\u001b[0m \u001b[0;32mif\u001b[0m \u001b[0mbatch\u001b[0m\u001b[0;34m[\u001b[0m\u001b[0;36m2\u001b[0m\u001b[0;34m]\u001b[0m \u001b[0;32melse\u001b[0m \u001b[0;32mNone\u001b[0m\u001b[0;34m,\u001b[0m  \u001b[0;31m# type: ignore\u001b[0m\u001b[0;34m\u001b[0m\u001b[0;34m\u001b[0m\u001b[0m\n",
            "\u001b[0;32m/usr/local/lib/python3.11/dist-packages/langchain_chroma/vectorstores.py\u001b[0m in \u001b[0;36madd_texts\u001b[0;34m(self, texts, metadatas, ids, **kwargs)\u001b[0m\n\u001b[1;32m    525\u001b[0m         \u001b[0mtexts\u001b[0m \u001b[0;34m=\u001b[0m \u001b[0mlist\u001b[0m\u001b[0;34m(\u001b[0m\u001b[0mtexts\u001b[0m\u001b[0;34m)\u001b[0m\u001b[0;34m\u001b[0m\u001b[0;34m\u001b[0m\u001b[0m\n\u001b[1;32m    526\u001b[0m         \u001b[0;32mif\u001b[0m \u001b[0mself\u001b[0m\u001b[0;34m.\u001b[0m\u001b[0m_embedding_function\u001b[0m \u001b[0;32mis\u001b[0m \u001b[0;32mnot\u001b[0m \u001b[0;32mNone\u001b[0m\u001b[0;34m:\u001b[0m\u001b[0;34m\u001b[0m\u001b[0;34m\u001b[0m\u001b[0m\n\u001b[0;32m--> 527\u001b[0;31m             \u001b[0membeddings\u001b[0m \u001b[0;34m=\u001b[0m \u001b[0mself\u001b[0m\u001b[0;34m.\u001b[0m\u001b[0m_embedding_function\u001b[0m\u001b[0;34m.\u001b[0m\u001b[0membed_documents\u001b[0m\u001b[0;34m(\u001b[0m\u001b[0mtexts\u001b[0m\u001b[0;34m)\u001b[0m\u001b[0;34m\u001b[0m\u001b[0;34m\u001b[0m\u001b[0m\n\u001b[0m\u001b[1;32m    528\u001b[0m         \u001b[0;32mif\u001b[0m \u001b[0mmetadatas\u001b[0m\u001b[0;34m:\u001b[0m\u001b[0;34m\u001b[0m\u001b[0;34m\u001b[0m\u001b[0m\n\u001b[1;32m    529\u001b[0m             \u001b[0;31m# fill metadatas with empty dicts if somebody\u001b[0m\u001b[0;34m\u001b[0m\u001b[0;34m\u001b[0m\u001b[0m\n",
            "\u001b[0;32m/usr/local/lib/python3.11/dist-packages/langchain_upstage/embeddings.py\u001b[0m in \u001b[0;36membed_documents\u001b[0;34m(self, texts)\u001b[0m\n\u001b[1;32m    213\u001b[0m         \u001b[0;32mfor\u001b[0m \u001b[0mi\u001b[0m \u001b[0;32min\u001b[0m \u001b[0mrange\u001b[0m\u001b[0;34m(\u001b[0m\u001b[0;36m0\u001b[0m\u001b[0;34m,\u001b[0m \u001b[0mlen\u001b[0m\u001b[0;34m(\u001b[0m\u001b[0mtexts\u001b[0m\u001b[0;34m)\u001b[0m\u001b[0;34m,\u001b[0m \u001b[0mbatch_size\u001b[0m\u001b[0;34m)\u001b[0m\u001b[0;34m:\u001b[0m\u001b[0;34m\u001b[0m\u001b[0;34m\u001b[0m\u001b[0m\n\u001b[1;32m    214\u001b[0m             \u001b[0mbatch\u001b[0m \u001b[0;34m=\u001b[0m \u001b[0mtexts\u001b[0m\u001b[0;34m[\u001b[0m\u001b[0mi\u001b[0m \u001b[0;34m:\u001b[0m \u001b[0mi\u001b[0m \u001b[0;34m+\u001b[0m \u001b[0mbatch_size\u001b[0m\u001b[0;34m]\u001b[0m\u001b[0;34m\u001b[0m\u001b[0;34m\u001b[0m\u001b[0m\n\u001b[0;32m--> 215\u001b[0;31m             \u001b[0mdata\u001b[0m \u001b[0;34m=\u001b[0m \u001b[0mself\u001b[0m\u001b[0;34m.\u001b[0m\u001b[0mclient\u001b[0m\u001b[0;34m.\u001b[0m\u001b[0mcreate\u001b[0m\u001b[0;34m(\u001b[0m\u001b[0minput\u001b[0m\u001b[0;34m=\u001b[0m\u001b[0mbatch\u001b[0m\u001b[0;34m,\u001b[0m \u001b[0;34m**\u001b[0m\u001b[0mparams\u001b[0m\u001b[0;34m)\u001b[0m\u001b[0;34m.\u001b[0m\u001b[0mdata\u001b[0m\u001b[0;34m\u001b[0m\u001b[0;34m\u001b[0m\u001b[0m\n\u001b[0m\u001b[1;32m    216\u001b[0m             \u001b[0membeddings\u001b[0m\u001b[0;34m.\u001b[0m\u001b[0mextend\u001b[0m\u001b[0;34m(\u001b[0m\u001b[0;34m[\u001b[0m\u001b[0mr\u001b[0m\u001b[0;34m.\u001b[0m\u001b[0membedding\u001b[0m \u001b[0;32mfor\u001b[0m \u001b[0mr\u001b[0m \u001b[0;32min\u001b[0m \u001b[0mdata\u001b[0m\u001b[0;34m]\u001b[0m\u001b[0;34m)\u001b[0m\u001b[0;34m\u001b[0m\u001b[0;34m\u001b[0m\u001b[0m\n\u001b[1;32m    217\u001b[0m \u001b[0;34m\u001b[0m\u001b[0m\n",
            "\u001b[0;32m/usr/local/lib/python3.11/dist-packages/openai/resources/embeddings.py\u001b[0m in \u001b[0;36mcreate\u001b[0;34m(self, input, model, dimensions, encoding_format, user, extra_headers, extra_query, extra_body, timeout)\u001b[0m\n\u001b[1;32m    127\u001b[0m             \u001b[0;32mreturn\u001b[0m \u001b[0mobj\u001b[0m\u001b[0;34m\u001b[0m\u001b[0;34m\u001b[0m\u001b[0m\n\u001b[1;32m    128\u001b[0m \u001b[0;34m\u001b[0m\u001b[0m\n\u001b[0;32m--> 129\u001b[0;31m         return self._post(\n\u001b[0m\u001b[1;32m    130\u001b[0m             \u001b[0;34m\"/embeddings\"\u001b[0m\u001b[0;34m,\u001b[0m\u001b[0;34m\u001b[0m\u001b[0;34m\u001b[0m\u001b[0m\n\u001b[1;32m    131\u001b[0m             \u001b[0mbody\u001b[0m\u001b[0;34m=\u001b[0m\u001b[0mmaybe_transform\u001b[0m\u001b[0;34m(\u001b[0m\u001b[0mparams\u001b[0m\u001b[0;34m,\u001b[0m \u001b[0membedding_create_params\u001b[0m\u001b[0;34m.\u001b[0m\u001b[0mEmbeddingCreateParams\u001b[0m\u001b[0;34m)\u001b[0m\u001b[0;34m,\u001b[0m\u001b[0;34m\u001b[0m\u001b[0;34m\u001b[0m\u001b[0m\n",
            "\u001b[0;32m/usr/local/lib/python3.11/dist-packages/openai/_base_client.py\u001b[0m in \u001b[0;36mpost\u001b[0;34m(self, path, cast_to, body, options, files, stream, stream_cls)\u001b[0m\n\u001b[1;32m   1247\u001b[0m             \u001b[0mmethod\u001b[0m\u001b[0;34m=\u001b[0m\u001b[0;34m\"post\"\u001b[0m\u001b[0;34m,\u001b[0m \u001b[0murl\u001b[0m\u001b[0;34m=\u001b[0m\u001b[0mpath\u001b[0m\u001b[0;34m,\u001b[0m \u001b[0mjson_data\u001b[0m\u001b[0;34m=\u001b[0m\u001b[0mbody\u001b[0m\u001b[0;34m,\u001b[0m \u001b[0mfiles\u001b[0m\u001b[0;34m=\u001b[0m\u001b[0mto_httpx_files\u001b[0m\u001b[0;34m(\u001b[0m\u001b[0mfiles\u001b[0m\u001b[0;34m)\u001b[0m\u001b[0;34m,\u001b[0m \u001b[0;34m**\u001b[0m\u001b[0moptions\u001b[0m\u001b[0;34m\u001b[0m\u001b[0;34m\u001b[0m\u001b[0m\n\u001b[1;32m   1248\u001b[0m         )\n\u001b[0;32m-> 1249\u001b[0;31m         \u001b[0;32mreturn\u001b[0m \u001b[0mcast\u001b[0m\u001b[0;34m(\u001b[0m\u001b[0mResponseT\u001b[0m\u001b[0;34m,\u001b[0m \u001b[0mself\u001b[0m\u001b[0;34m.\u001b[0m\u001b[0mrequest\u001b[0m\u001b[0;34m(\u001b[0m\u001b[0mcast_to\u001b[0m\u001b[0;34m,\u001b[0m \u001b[0mopts\u001b[0m\u001b[0;34m,\u001b[0m \u001b[0mstream\u001b[0m\u001b[0;34m=\u001b[0m\u001b[0mstream\u001b[0m\u001b[0;34m,\u001b[0m \u001b[0mstream_cls\u001b[0m\u001b[0;34m=\u001b[0m\u001b[0mstream_cls\u001b[0m\u001b[0;34m)\u001b[0m\u001b[0;34m)\u001b[0m\u001b[0;34m\u001b[0m\u001b[0;34m\u001b[0m\u001b[0m\n\u001b[0m\u001b[1;32m   1250\u001b[0m \u001b[0;34m\u001b[0m\u001b[0m\n\u001b[1;32m   1251\u001b[0m     def patch(\n",
            "\u001b[0;32m/usr/local/lib/python3.11/dist-packages/openai/_base_client.py\u001b[0m in \u001b[0;36mrequest\u001b[0;34m(self, cast_to, options, stream, stream_cls)\u001b[0m\n\u001b[1;32m   1035\u001b[0m \u001b[0;34m\u001b[0m\u001b[0m\n\u001b[1;32m   1036\u001b[0m                 \u001b[0mlog\u001b[0m\u001b[0;34m.\u001b[0m\u001b[0mdebug\u001b[0m\u001b[0;34m(\u001b[0m\u001b[0;34m\"Re-raising status error\"\u001b[0m\u001b[0;34m)\u001b[0m\u001b[0;34m\u001b[0m\u001b[0;34m\u001b[0m\u001b[0m\n\u001b[0;32m-> 1037\u001b[0;31m                 \u001b[0;32mraise\u001b[0m \u001b[0mself\u001b[0m\u001b[0;34m.\u001b[0m\u001b[0m_make_status_error_from_response\u001b[0m\u001b[0;34m(\u001b[0m\u001b[0merr\u001b[0m\u001b[0;34m.\u001b[0m\u001b[0mresponse\u001b[0m\u001b[0;34m)\u001b[0m \u001b[0;32mfrom\u001b[0m \u001b[0;32mNone\u001b[0m\u001b[0;34m\u001b[0m\u001b[0;34m\u001b[0m\u001b[0m\n\u001b[0m\u001b[1;32m   1038\u001b[0m \u001b[0;34m\u001b[0m\u001b[0m\n\u001b[1;32m   1039\u001b[0m             \u001b[0;32mbreak\u001b[0m\u001b[0;34m\u001b[0m\u001b[0;34m\u001b[0m\u001b[0m\n",
            "\u001b[0;31mRateLimitError\u001b[0m: Error code: 429 - {'error': {'message': \"You've reached your API request limit. Please wait and try again later. If your use case requires a higher rate limit, you can request an increase at https://support.upstage.ai. Including your intended use case and expected volume will help us process your request faster\", 'type': 'too_many_requests', 'param': '', 'code': 'too_many_requests'}}"
          ]
        }
      ]
    },
    {
      "cell_type": "markdown",
      "source": [
        "# Vector DB 로드"
      ],
      "metadata": {
        "id": "Z-1NNe3edXDv"
      }
    },
    {
      "cell_type": "code",
      "source": [
        "# @title 압축 풀기\n",
        "!unzip /content/chroma_patient_db.zip -d /content/chroma_patient_db\n",
        "!unzip /content/chroma_conditions_db.zip -d /content/chroma_conditions_db\n",
        "!unzip /content/chroma_observation_db.zip -d /content/chroma_observation_db\n",
        "!unzip /content/chroma_medications.zip -d /content/chroma_medications_db\n",
        "!unzip /content/chroma_alloergies.zip -d /content/chroma_alloergies_db"
      ],
      "metadata": {
        "colab": {
          "base_uri": "https://localhost:8080/"
        },
        "id": "GR1Xfs33fbtb",
        "outputId": "55780f48-38ae-40e3-dcbb-a85bf9717338"
      },
      "execution_count": null,
      "outputs": [
        {
          "output_type": "stream",
          "name": "stdout",
          "text": [
            "Archive:  /content/chroma_medications.zip\n",
            "   creating: /content/chroma_medications_db/df8167d2-d336-451e-a06a-10d3ccffcc6d/\n",
            "  inflating: /content/chroma_medications_db/chroma.sqlite3  \n",
            "  inflating: /content/chroma_medications_db/df8167d2-d336-451e-a06a-10d3ccffcc6d/length.bin  \n",
            "  inflating: /content/chroma_medications_db/df8167d2-d336-451e-a06a-10d3ccffcc6d/index_metadata.pickle  \n",
            "  inflating: /content/chroma_medications_db/df8167d2-d336-451e-a06a-10d3ccffcc6d/data_level0.bin  \n",
            "  inflating: /content/chroma_medications_db/df8167d2-d336-451e-a06a-10d3ccffcc6d/link_lists.bin  \n",
            "  inflating: /content/chroma_medications_db/df8167d2-d336-451e-a06a-10d3ccffcc6d/header.bin  \n",
            "Archive:  /content/chroma_alloergies.zip\n",
            "   creating: /content/chroma_alloergies_db/cf098646-18d3-4908-aa14-f1971b317a14/\n",
            "  inflating: /content/chroma_alloergies_db/chroma.sqlite3  \n",
            "  inflating: /content/chroma_alloergies_db/cf098646-18d3-4908-aa14-f1971b317a14/length.bin  \n",
            "  inflating: /content/chroma_alloergies_db/cf098646-18d3-4908-aa14-f1971b317a14/index_metadata.pickle  \n",
            "  inflating: /content/chroma_alloergies_db/cf098646-18d3-4908-aa14-f1971b317a14/data_level0.bin  \n",
            "  inflating: /content/chroma_alloergies_db/cf098646-18d3-4908-aa14-f1971b317a14/link_lists.bin  \n",
            "  inflating: /content/chroma_alloergies_db/cf098646-18d3-4908-aa14-f1971b317a14/header.bin  \n"
          ]
        }
      ]
    },
    {
      "cell_type": "code",
      "source": [
        "from langchain_chroma import Chroma\n",
        "from langchain_upstage import UpstageEmbeddings\n",
        "from langchain.docstore.document import Document\n",
        "\n",
        "# 1️⃣ Embeddings 객체 선언\n",
        "embeddings = UpstageEmbeddings(model=\"embedding-query\")\n",
        "\n",
        "patient_vectorstore = Chroma(\n",
        "    persist_directory=\"/content/chroma_patient_db\",\n",
        "    embedding_function=embeddings\n",
        ")\n",
        "\n",
        "conditions_vectorstore = Chroma(\n",
        "    persist_directory=\"/content/chroma_conditions_db\",\n",
        "    embedding_function=embeddings\n",
        ")\n",
        "\n",
        "observation_vectorstore = Chroma(\n",
        "    persist_directory=\"/content/chroma_observation_db\",\n",
        "    embedding_function=embeddings\n",
        ")\n",
        "\n",
        "medications_vectorstore = Chroma(\n",
        "    persist_directory=\"/content/chroma_medications_db\",\n",
        "    embedding_function=embeddings\n",
        ")\n",
        "\n",
        "alloergies_vectorstore = Chroma(\n",
        "    persist_directory=\"/content/chroma_alloergies_db\",\n",
        "    embedding_function=embeddings\n",
        ")"
      ],
      "metadata": {
        "colab": {
          "base_uri": "https://localhost:8080/"
        },
        "id": "TwZLwE2zn0_w",
        "outputId": "849d65f5-4d95-4cf5-c076-80cb5809a530"
      },
      "execution_count": null,
      "outputs": [
        {
          "output_type": "stream",
          "name": "stderr",
          "text": [
            "ERROR:chromadb.telemetry.product.posthog:Failed to send telemetry event ClientStartEvent: capture() takes 1 positional argument but 3 were given\n",
            "ERROR:chromadb.telemetry.product.posthog:Failed to send telemetry event ClientCreateCollectionEvent: capture() takes 1 positional argument but 3 were given\n",
            "ERROR:chromadb.telemetry.product.posthog:Failed to send telemetry event ClientStartEvent: capture() takes 1 positional argument but 3 were given\n",
            "ERROR:chromadb.telemetry.product.posthog:Failed to send telemetry event ClientCreateCollectionEvent: capture() takes 1 positional argument but 3 were given\n",
            "ERROR:chromadb.telemetry.product.posthog:Failed to send telemetry event ClientStartEvent: capture() takes 1 positional argument but 3 were given\n",
            "ERROR:chromadb.telemetry.product.posthog:Failed to send telemetry event ClientCreateCollectionEvent: capture() takes 1 positional argument but 3 were given\n",
            "ERROR:chromadb.telemetry.product.posthog:Failed to send telemetry event ClientStartEvent: capture() takes 1 positional argument but 3 were given\n",
            "ERROR:chromadb.telemetry.product.posthog:Failed to send telemetry event ClientCreateCollectionEvent: capture() takes 1 positional argument but 3 were given\n",
            "ERROR:chromadb.telemetry.product.posthog:Failed to send telemetry event ClientStartEvent: capture() takes 1 positional argument but 3 were given\n",
            "ERROR:chromadb.telemetry.product.posthog:Failed to send telemetry event ClientCreateCollectionEvent: capture() takes 1 positional argument but 3 were given\n"
          ]
        }
      ]
    },
    {
      "cell_type": "markdown",
      "source": [
        "# LLM 생성"
      ],
      "metadata": {
        "id": "kp81DqS3ECOq"
      }
    },
    {
      "cell_type": "code",
      "source": [
        "# ✅ Dense Retriever 생성\n",
        "search_k = 5\n",
        "score = 0.1\n",
        "\n",
        "patient_retriever = patient_vectorstore.as_retriever(\n",
        "    search_type=\"mmr\",\n",
        "    search_kwargs={\"k\": search_k},\n",
        ")\n",
        "\n",
        "conditions_retriever = conditions_vectorstore.as_retriever(\n",
        "    search_type=\"mmr\",\n",
        "    search_kwargs={\"k\": search_k},\n",
        ")\n",
        "\n",
        "observation_retriever = observation_vectorstore.as_retriever(\n",
        "    search_type=\"mmr\",\n",
        "    search_kwargs={\"k\": search_k},\n",
        ")\n",
        "\n",
        "medications_retriever = medications_vectorstore.as_retriever(\n",
        "    search_type=\"mmr\",\n",
        "    search_kwargs={\"k\": search_k},\n",
        ")\n",
        "\n",
        "alloergies_retriever = alloergies_vectorstore.as_retriever(\n",
        "    search_type=\"mmr\",\n",
        "    search_kwargs={\"k\": search_k},\n",
        ")\n",
        "\n",
        "# ## similarity\n",
        "# patient_retriever = patient_vectorstore.as_retriever(\n",
        "#     search_type=\"similarity_score_threshold\",\n",
        "#     search_kwargs={\"k\": search_k, \"score_threshold\": score},\n",
        "# )\n",
        "\n",
        "# conditions_retriever = conditions_vectorstore.as_retriever(\n",
        "#     search_type=\"similarity_score_threshold\",\n",
        "#     search_kwargs={\"k\": search_k, \"score_threshold\": score},\n",
        "# )\n",
        "\n",
        "# observation_retriever = observation_vectorstore.as_retriever(\n",
        "#     search_type=\"similarity_score_threshold\",\n",
        "#     search_kwargs={\"k\": search_k, \"score_threshold\": score},\n",
        "# )\n",
        "\n",
        "# medications_retriever = medications_vectorstore.as_retriever(\n",
        "#     search_type=\"similarity_score_threshold\",\n",
        "#     search_kwargs={\"k\": search_k, \"score_threshold\": score},\n",
        "# )\n",
        "\n",
        "# alloergies_retriever = alloergies_vectorstore.as_retriever(\n",
        "#     search_type=\"similarity_score_threshold\",\n",
        "#     search_kwargs={\"k\": search_k, \"score_threshold\": score},\n",
        "# )\n",
        "\n",
        "# ✅ 사용자의 한국어 질문 예시\n",
        "query = \"당뇨병과 아스피린 알러지를 가진 타과 환자가 입원했어. 근데 우리 병원의 과가 달라서 어떤 약을 투약해야 할지 모르겠어. 자세한 투약 정보와 유의사항을 알려줄래?\"\n",
        "\n",
        "# ✅ 검색된 문서 가져오기\n",
        "patient_docs = patient_retriever.invoke(query)\n",
        "conditions_docs = conditions_retriever.invoke(query)\n",
        "observation_docs = observation_retriever.invoke(query)\n",
        "medications_docs = medications_retriever.invoke(query)\n",
        "alloergies_docs = alloergies_retriever.invoke(query)\n",
        "\n",
        "# ✅ 문서 합치기\n",
        "all_context = \"\\n\".join([\n",
        "    doc.page_content for doc in (patient_docs + conditions_docs + observation_docs + medications_docs + alloergies_docs)\n",
        "])\n",
        "\n",
        "print(all_context)\n",
        "\n",
        "# ✅ 한국어 system 프롬프트 정의\n",
        "from langchain_upstage import ChatUpstage\n",
        "from langchain_core.prompts import ChatPromptTemplate\n",
        "from langchain_core.output_parsers import StrOutputParser\n",
        "\n",
        "llm = ChatUpstage()\n",
        "\n",
        "prompt = ChatPromptTemplate.from_messages(\n",
        "    [\n",
        "        (\n",
        "            \"system\",\n",
        "            \"\"\"\n",
        "            당신은 환자 정보에 대한 질문에 친절히 답변하는 한국어 의료 AI 어시스턴트입니다.\n",
        "            아래 CONTEXT 정보를 참고하여 환자 정보를 자연스럽고 이해하기 쉽게 한국어로 풀어서 설명해 주세요.\n",
        "            CONTEXT에 포함되지 않은 질병명은 절대 작성하지 마세요. 모르면 \"모른다\"고 답하세요.\n",
        "            CONTEXT 정보는 총 5가지로 제공됩니다. 각각은 순서대로 환자 기본 정보, 진단 질병 정보, 바이탈/검사 수치, 약물 투여 기록, 알러지 반응 기록입니다.\n",
        "            바이탈 정보는 맥박, 혈압 등이 포함됩니다.\n",
        "            patient_id를 기준으로 같은 환자의 정보를 연결해서 참고하세요.\n",
        "            각 정보를 의료진이 환자에게 직접 설명하듯 문단 형태로 자연스럽게 이어서 작성해 주세요.\n",
        "            너무 긴 리스트 형태는 피하고, 중요한 내용은 간결히 요약해 주세요.\n",
        "            ---\n",
        "            CONTEXT:\n",
        "            {context}\n",
        "            \"\"\",\n",
        "        ),\n",
        "        (\"human\", \"{input}\"),\n",
        "    ]\n",
        ")\n",
        "\n",
        "# ✅ LLM chain 구성\n",
        "chain = prompt | llm | StrOutputParser()\n",
        "\n",
        "# ✅ 최종 chain 호출\n",
        "response = chain.invoke({\"context\": all_context, \"input\": query})\n",
        "\n",
        "print(\"\\n💬 AI의 답변:\")\n",
        "print(response)\n"
      ],
      "metadata": {
        "colab": {
          "base_uri": "https://localhost:8080/"
        },
        "id": "E8a4C1MzD_x4",
        "outputId": "aa56a75e-3456-4ca5-9a43-0b229187f98d"
      },
      "execution_count": null,
      "outputs": [
        {
          "output_type": "stream",
          "name": "stdout",
          "text": [
            "환자 번호 ac1ed279-4fab-1610-e325-9a505b5f0802 환자는,1982-03-17에 태어났고, 성별은 F, 인종은 asian, 민족성은 nonhispanic입니다.\n",
            "환자 번호 8a742983-bada-f64a-1f75-dfc34f3a60df 환자는,1975-04-21에 태어났고, 성별은 M, 인종은 asian, 민족성은 nonhispanic입니다.\n",
            "환자 번호 d63977a6-42cc-635e-3822-52aa88338b28 환자는,1984-08-22에 태어났고, 성별은 F, 인종은 asian, 민족성은 nonhispanic입니다.\n",
            "환자 번호 4fdb9235-e9e3-cc0b-1072-0a70088772a6 환자는,2009-05-16에 태어났고, 성별은 F, 인종은 asian, 민족성은 nonhispanic입니다.\n",
            "환자 번호 c183c8b5-3352-1bdd-7a3d-4b47f7102397 환자는,2022-10-30에 태어났고, 성별은 M, 인종은 asian, 민족성은 nonhispanic입니다.\n",
            "PATIENT_ID: df2156e8-3ae4-400f-c4a0-a9f92abc5ce0 환자는 다음과 같은 질병을 진단 받았습니다. 2021-06-19부터 2021-06-20까지 질병 코드 241929008.0의 Acute allergic reaction을(를) 진단 받았습니다. 2021-12-12부터 2021-12-29까지 질병 코드 444814009.0의 Viral sinusitis을(를) 진단 받았습니다. 2022-03-04부터\n",
            "PATIENT_ID: 7376c718-34e7-8b11-5d7d-2c0d1e54e091 환자는 다음과 같은 질병을 진단 받았습니다. 2021-07-21부터 nan까지 질병 코드 24079001.0의 Atopic dermatitis을(를) 진단 받았습니다. 2022-05-06부터 2022-05-07까지 질병 코드 241929008.0의 Acute allergic reaction을(를) 진단 받았습니다.\n",
            "PATIENT_ID: 857ba3f9-9e60-f7bd-4bab-b8a62e0eb9a1 환자는 다음과 같은 질병을 진단 받았습니다. 2007-09-02부터 2022-06-18까지 질병 코드 233678006.0의 Childhood asthma을(를) 진단 받았습니다. 2008-02-07부터 2022-02-24까지 질병 코드 446096008.0의 Perennial allergic rhinitis을(를) 진단 받았습니다. 2015-07-21부터\n",
            "PATIENT_ID: 78f42c3d-ec94-1a75-443a-6276512c8da3 환자는 다음과 같은 질병을 진단 받았습니다. 1998-06-01부터 nan까지 질병 코드 44054006.0의 Diabetes mellitus type 2을(를) 진단 받았습니다. 1998-06-01부터 nan까지 질병 코드 271737000.0의 Anemia을(를) 진단 받았습니다. 2001-06-04부터 nan까지 질병 코드 302870006.0의\n",
            "질병 코드 44054006.0의 Diabetes mellitus type 2을(를) 진단 받았습니다. 2012-12-20부터 nan까지 질병 코드 302870006.0의 Hypertriglyceridemia을(를) 진단 받았습니다. 2012-12-20부터 nan까지 질병 코드 237602007.0의 Metabolic syndrome X을(를) 진단 받았습니다. 2016-01-07부터 2016-01-21까지 질병 코드 66383009.0의\n",
            "PATIENT_ID: 50ef3a36-40c2-e62f-dba5-c31960b7a439 환자는, 2011-09-25T07:21:14Z에 다음과 같은 데이터를 기록했습니다: 측정 유형: 31a1c59c-c955-9e4d-d9ae-c939398af541.\n",
            "PATIENT_ID: 9481c2b4-51b9-8a87-e667-76151d05656b 환자는, 2011-09-08T09:55:14Z에 다음과 같은 데이터를 기록했습니다: 측정 유형: a1c5396a-cb55-a2cf-2cc6-40cd84fa9e03.\n",
            "PATIENT_ID: aa27b474-57fb-60bf-0336-9503312d784d 환자는, 2006-04-22T00:21:11Z에 다음과 같은 데이터를 기록했습니다: 측정 유형: 4078dbd3-a5a8-827c-c238-1c870cb2208d.\n",
            "PATIENT_ID: eb793f36-88da-e9a0-b41e-59362c5274a4 환자는, 2004-02-05T00:58:53Z에 다음과 같은 데이터를 기록했습니다: 측정 유형: 1f63965e-a1b3-890b-cb31-19225c71dd8b.\n",
            "PATIENT_ID: e9eb06a0-c26c-9aa2-28ad-4b53c0c6c553 환자는, 2007-09-16T13:48:28Z에 다음과 같은 데이터를 기록했습니다: 측정 유형: 35943a6b-23ca-5082-463e-ab565a29dd3b.\n",
            "환자 ID eb793f36-88da-e9a0-b41e-59362c5274a4는 다음 약물을 복용했습니다:\n",
            "1974-06-06T00:58:53Z부터 2009-12-25T00:58:53Z 동안 Simvastatin 10 MG Oral Tablet을 복용했고, 총 10회 복용했습니다.\n",
            "1977-05-13T02:52:29Z부터 현재까지 동안 aspirin 81 MG Oral Tablet을 복용했고, 총 397회 복용했습니다.\n",
            "1977-05-13T02:52:29Z부터 현재까지 동안 atorvastatin 80 MG Oral Tablet을 복용했고, 총 1회 복용했습니다.\n",
            "1977-05-13T02:52:29Z부터 현재까지 동안 prasugrel 10 MG Oral Tablet을 복용했고, 총 397회 복용했습니다.\n",
            "1993-09-09T00:58:53Z부터 현재까지 동안 Simvastatin 20 MG Oral Tablet을 복용했고, 총 199회 복용했습니다.\n",
            "1993-09-09T00:58:53Z부터 현재까지 동안 24 HR metoprolol succinate 100 MG Extended Release Oral Tablet을 복용했고, 총 199회 복용했습니다.\n",
            "1993-09-09T00:58:53Z부터 현재까지 동안 Nitroglycerin 0.4 MG/ACTUAT Mucosal Spray을 복용했고, 총 199회 복용했습니다.\n",
            "1999-10-28T00:58:53Z부터 2000-11-02T00:58:53Z 동안 insulin isophane  human 70 UNT/ML / insulin  regular  human 30 UNT/ML Injectable Suspension [Humulin]을 복용했고, 총 12회 복용했습니다.\n",
            "1999-10-28T00:58:53Z부터 2000-11-02T00:58:53Z 동안 Hydrochlorothiazide 25 MG Oral Tablet을 복용했고, 총 4회 복용했습니다.\n",
            "환자 ID bcab60bc-57f6-65d3-761b-ca0330cef57f는 다음 약물을 복용했습니다:\n",
            "1964-05-11T00:10:58Z부터 현재까지 동안 diphenhydrAMINE Hydrochloride 25 MG Oral Tablet을 복용했고, 총 693회 복용했습니다.\n",
            "2004-05-14T19:27:48Z부터 현재까지 동안 aspirin 81 MG Oral Tablet을 복용했고, 총 206회 복용했습니다.\n",
            "2004-05-14T19:27:48Z부터 현재까지 동안 atorvastatin 10 MG Oral Tablet을 복용했고, 총 1회 복용했습니다.\n",
            "2004-05-14T19:27:48Z부터 현재까지 동안 losartan potassium 100 MG Oral Tablet을 복용했고, 총 1회 복용했습니다.\n",
            "2004-05-14T19:27:48Z부터 현재까지 동안 prasugrel 10 MG Oral Tablet을 복용했고, 총 206회 복용했습니다.\n",
            "2010-05-18T00:10:58Z부터 2011-05-24T00:10:58Z 동안 Hydrochlorothiazide 25 MG Oral Tablet을 복용했고, 총 4회 복용했습니다.\n",
            "2010-05-18T00:10:58Z부터 2011-05-24T00:10:58Z 동안 Insulin Lispro 100 UNT/ML Injectable Solution [Humalog]을 복용했고, 총 12회 복용했습니다.\n",
            "2010-05-18T00:10:58Z부터 2011-05-24T00:10:58Z 동안 24 HR Metformin hydrochloride 500 MG Extended Release Oral Tablet을 복용했고, 총 12회 복용했습니다.\n",
            "2011-05-24T00:10:58Z부터 2011-06-07T00:10:58Z 동안 Hydrochlorothiazide 25 MG Oral Tablet을 복용했고, 총 1회 복용했습니다.\n",
            "2020-11-05T03:37:11Z부터 2020-11-12T03:37:11Z 동안 aspirin 81 MG Oral Capsule을 복용했고, 총 7회 복용했습니다.\n",
            "2020-11-12T03:37:11Z부터 2020-12-03T03:37:11Z 동안 insulin isophane  human 70 UNT/ML / insulin  regular  human 30 UNT/ML Injectable Suspension [Humulin]을 복용했고, 총 1회 복용했습니다.\n",
            "2020-11-12T03:37:11Z부터 2020-12-03T03:37:11Z 동안 aspirin 81 MG Oral Capsule을 복용했고, 총 21회 복용했습니다.\n",
            "2020-11-13T03:37:11Z부터 2021-11-25T03:37:11Z 동안 Simvastatin 10 MG Oral Tablet을 복용했고, 총 12회 복용했습니다.\n",
            "2020-12-03T03:37:11Z부터 2021-02-04T03:37:11Z 동안 insulin isophane  human 70 UNT/ML / insulin  regular  human 30 UNT/ML Injectable Suspension [Humulin]을 복용했고, 총 2회 복용했습니다.\n",
            "2020-12-03T03:37:11Z부터 2021-02-04T03:37:11Z 동안 aspirin 81 MG Oral Capsule을 복용했고, 총 63회 복용했습니다.\n",
            "2021-02-04T03:37:11Z부터 2021-04-08T03:37:11Z 동안 insulin isophane  human 70 UNT/ML / insulin  regular  human 30 UNT/ML Injectable Suspension [Humulin]을 복용했고, 총 2회 복용했습니다.\n",
            "2021-02-04T03:37:11Z부터 2021-04-08T03:37:11Z 동안 aspirin 81 MG Oral Capsule을 복용했고, 총 63회 복용했습니다.\n",
            "환자 ID 7dd62c7a-6b72-c9c3-4bca-f429091eba24는 다음 약물을 복용했습니다:\n",
            "1966-01-19T18:24:35Z부터 현재까지 동안 Nitroglycerin 0.4 MG/ACTUAT Mucosal Spray을 복용했고, 총 723회 복용했습니다.\n",
            "2011-03-22T18:24:35Z부터 현재까지 동안 Galantamine 4 MG Oral Tablet을 복용했고, 총 173회 복용했습니다.\n",
            "2015-06-17T18:24:35Z부터 2015-07-08T18:24:35Z 동안 insulin isophane  human 70 UNT/ML / insulin  regular  human 30 UNT/ML Injectable Suspension [Humulin]을 복용했고, 총 1회 복용했습니다.\n",
            "2015-06-17T18:24:35Z부터 2015-07-08T18:24:35Z 동안 Hydrochlorothiazide 25 MG Oral Tablet을 복용했고, 총 1회 복용했습니다.\n",
            "2015-06-17T18:24:35Z부터 2015-07-08T18:24:35Z 동안 amLODIPine 2.5 MG Oral Tablet을 복용했고, 총 1회 복용했습니다.\n",
            "2015-06-17T18:24:35Z부터 2015-07-08T18:24:35Z 동안 Alendronic acid 10 MG Oral Tablet을 복용했고, 총 1회 복용했습니다.\n",
            "2015-07-08T18:24:35Z부터 2015-07-15T18:24:35Z 동안 insulin isophane  human 70 UNT/ML / insulin  regular  human 30 UNT/ML Injectable Suspension [Humulin]을 복용했고, 총 1회 복용했습니다.\n",
            "2015-07-08T18:24:35Z부터 2015-07-15T18:24:35Z 동안 Hydrochlorothiazide 25 MG Oral Tablet을 복용했고, 총 1회 복용했습니다.\n",
            "2020-11-12T06:36:55Z부터 2021-02-11T06:36:55Z 동안 Ibuprofen 400 MG Oral Tablet [Ibu]을 복용했고, 총 3회 복용했습니다.\n",
            "2020-11-12T06:36:55Z부터 2021-02-11T06:36:55Z 동안 120 ACTUAT fluticasone propionate 0.044 MG/ACTUAT Metered Dose Inhaler [Flovent]을 복용했고, 총 1회 복용했습니다.\n",
            "2020-11-12T06:36:55Z부터 2021-02-11T06:36:55Z 동안 lisinopril 10 MG Oral Tablet을 복용했고, 총 1회 복용했습니다.\n",
            "2020-11-12T06:36:55Z부터 2021-02-11T06:36:55Z 동안 albuterol 0.83 MG/ML Inhalation Solution을 복용했고, 총 1회 복용했습니다.\n",
            "2020-11-19T06:46:07Z부터 2020-11-19T06:46:07Z 동안 aspirin 325 MG Oral Tablet을 복용했고, 총 1회 복용했습니다.\n",
            "2020-11-19T06:46:07Z부터 2020-11-19T06:46:07Z 동안 nitroglycerin 0.4 MG Sublingual Tablet을 복용했고, 총 1회 복용했습니다.\n",
            "2020-11-19T06:46:07Z부터 2020-11-19T06:46:07Z 동안 2 ML morphine sulfate 1 MG/ML Injection을 복용했고, 총 1회 복용했습니다.\n",
            "2020-11-19T08:01:13Z부터 2020-11-19T08:01:13Z 동안 heparin sodium  porcine 100 UNT/ML Injectable Solution을 복용했고, 총 1회 복용했습니다.\n",
            "2020-11-21T07:04:43Z부터 2020-11-21T07:34:43Z 동안 ticagrelor 90 MG Oral Tablet을 복용했고, 총 1회 복용했습니다.\n",
            "환자 ID: df2156e8-3ae4-400f-c4a0-a9f92abc5ce0 환자는 2021-06-30부터 현재까지 Aspirin(1191.0)에 대한 알레르기를 보였습니다. 이 알레르기는 medication 카테고리에 속하며, 코드 체계는 RxNorm입니다. 첫 번째 반응은 Wheal (finding)로, 심각도는 MODERATE입니다.\n",
            "환자 ID: 0df1e02f-0170-f4af-10f4-cf15ff942c0a 환자는 2018-08-20부터 현재까지 Aspirin(1191.0)에 대한 알레르기를 보였습니다. 이 알레르기는 medication 카테고리에 속하며, 코드 체계는 RxNorm입니다.\n",
            "환자 ID: a71c9d40-c7d1-8086-51f0-ba5f7b7efd5a 환자는 1999-09-10부터 현재까지 Aspirin(1191.0)에 대한 알레르기를 보였습니다. 이 알레르기는 medication 카테고리에 속하며, 코드 체계는 RxNorm입니다. 첫 번째 반응은 Allergic angioedema (disorder)로, 심각도는 MODERATE입니다.\n",
            "환자 ID: 5643d6f3-833c-3b8f-1387-8dc357e7fbd9 환자는 1986-03-03부터 현재까지 Aspirin(1191.0)에 대한 알레르기를 보였습니다. 이 알레르기는 medication 카테고리에 속하며, 코드 체계는 RxNorm입니다.\n",
            "환자 ID: 362404fb-cc83-ccb9-33dc-49516fbc64ef 환자는 2015-03-03부터 현재까지 Aspirin(1191.0)에 대한 알레르기를 보였습니다. 이 알레르기는 medication 카테고리에 속하며, 코드 체계는 RxNorm입니다. 첫 번째 반응은 Abdominal pain (finding)로, 심각도는 MODERATE입니다.\n",
            "\n",
            "💬 AI의 답변:\n",
            "환자 ID: df2156e8-3ae4-400f-c4a0-a9f92abc5ce0 환자를 확인해보니, 2021-06-30부터 현재까지 아스피린(1191.0)에 대한 알레르기가 기록되어 있습니다. 이 알레르기는 medication 카테고리에 속하며, 코드 체계는 RxNorm입니다. 첫 번째 반응은 Wheal (finding)로, 심각도는 MODERATE입니다.\n",
            "\n",
            "이 환자는 당뇨병을 가지고 있으며, 아스피린에 대한 알레르기가 있으므로 아스피린을 포함한 모든 아스피린 함유 약물은 투여하지 않아야 합니다. 대신, 당뇨병 관리에 필요한 약물과 아스피린 알레르기를 고려한 다른 약물을 투여해야 합니다.\n",
            "\n",
            "당뇨병 관리에 사용되는 일반적인 약물로는 메트포르민, 인슐린, DPP-4 억제제, GLP-1 수용체 작용제 등이 있습니다. 이 중에서 환자의 현재 상태와 다른 약물과의 상호작용을 고려하여 적절한 약물을 선택해야 합니다. 또한, 아스피린 알레르기를 고려하여 항혈소판제로 클로피도그렐이나 티카그렐러 등을 사용할 수 있습니다.\n",
            "\n",
            "투약 시 유의사항은 다음과 같습니다:\n",
            "\n",
            "1. 아스피린 또는 아스피린 함유 약물은 절대 투여하지 마십시오.\n",
            "2. 당뇨병 관리 약물은 환자의 혈당 수치와 상태를 고려하여 적절한 용량과 투여 방법을 선택해야 합니다.\n",
            "3. 다른 약물과의 상호작용을 확인하여 부작용을 최소화해야 합니다.\n",
            "4. 환자의 알레르기 반응에 대한 모니터링을 철저히 해야 합니다.\n",
            "\n",
            "이러한 정보를 바탕으로 환자의 상태와 다른 약물과의 상호작용을 면밀히 검토한 후, 적절한 약물을 선택하여 투여하시기 바랍니다. 추가적인 정보가 필요하시면 언제든지 문의해주시기 바랍니다.\n"
          ]
        }
      ]
    },
    {
      "cell_type": "markdown",
      "source": [
        "# 정리\n",
        "## 프로세스\n",
        "- 5개의 retriever 별로 5개씩 정보 가져옴\n",
        "- context는 5 * 5개의 정보를 통합함\n",
        "- LLM은 context를 토대로 Query에 적절한 답변\n",
        "\n",
        "## 성능\n",
        "- 소요 시간: 8 ~ 10초\n",
        "- 답변 정확도(임의 판단)\n",
        "  - 정보 조합해서 잘 설명하는 것처럼 보임\n",
        "  - 실제 환자 ID를 입력했을 때, 일부 누락됨 (데이터가 있음에도)\n"
      ],
      "metadata": {
        "id": "hXE4BtUn659A"
      }
    },
    {
      "cell_type": "code",
      "source": [
        "patient_id = \"59ee5bee-ed92-b2e1-c22a-5944801b159a\"\n",
        "\n",
        "# filter로 가져오기\n",
        "filtered = alloergies_vectorstore._collection.get(\n",
        "    where={\"patient_id\": {\"$eq\": patient_id}},\n",
        "    include=[\"documents\", \"metadatas\"]\n",
        ")\n",
        "\n",
        "for i, doc in enumerate(filtered[\"documents\"]):\n",
        "    print(f\"\\n--- Document {i+1} ---\")\n",
        "    print(doc)\n",
        "    print(filtered[\"metadatas\"][i])\n"
      ],
      "metadata": {
        "id": "fS33yZ5VgeX7"
      },
      "execution_count": null,
      "outputs": []
    }
  ]
}