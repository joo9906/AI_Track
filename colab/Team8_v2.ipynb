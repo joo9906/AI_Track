{
  "nbformat": 4,
  "nbformat_minor": 0,
  "metadata": {
    "colab": {
      "provenance": [],
      "collapsed_sections": [
        "Z-1NNe3edXDv"
      ]
    },
    "kernelspec": {
      "name": "python3",
      "display_name": "Python 3"
    },
    "language_info": {
      "name": "python"
    }
  },
  "cells": [
    {
      "cell_type": "markdown",
      "source": [
        "# 계절학기 - AI 8팀\n",
        "| RAG 챗봇\n",
        "## 목차\n",
        "***\n",
        "### 1. Solar mini API 통신\n",
        "### 2. CSV 파싱\n",
        "### 3. 문서 임베딩\n",
        "#### 3-1. 문서 가공/필터링\n",
        "#### 3-2. Chroma 벡터 DB 저장\n",
        "## 4. LLM 쿼리\n",
        "### 4-1. Query 입력\n",
        "### 4-2. Retriever 병렬 처리\n",
        "### 4-3. Context 병합\n",
        "### 4-4. 질의 답변 생성\n",
        "***"
      ],
      "metadata": {
        "id": "cMj-pGq8YYZF"
      }
    },
    {
      "cell_type": "markdown",
      "source": [
        "### 필요한 라이브러리 다운로드"
      ],
      "metadata": {
        "id": "0GdzqBNr9KIH"
      }
    },
    {
      "cell_type": "code",
      "execution_count": null,
      "metadata": {
        "id": "Y8h3AEvE1Hcs",
        "colab": {
          "base_uri": "https://localhost:8080/"
        },
        "outputId": "1be54bab-7d2f-4450-d9c9-047f94cc50a1"
      },
      "outputs": [
        {
          "output_type": "stream",
          "name": "stdout",
          "text": [
            "  Preparing metadata (setup.py) ... \u001b[?25l\u001b[?25hdone\n",
            "\u001b[2K     \u001b[90m━━━━━━━━━━━━━━━━━━━━━━━━━━━━━━━━━━━━━━━━\u001b[0m \u001b[32m67.3/67.3 kB\u001b[0m \u001b[31m4.1 MB/s\u001b[0m eta \u001b[36m0:00:00\u001b[0m\n",
            "\u001b[?25h  Installing build dependencies ... \u001b[?25l\u001b[?25hdone\n",
            "  Getting requirements to build wheel ... \u001b[?25l\u001b[?25hdone\n",
            "  Preparing metadata (pyproject.toml) ... \u001b[?25l\u001b[?25hdone\n",
            "\u001b[2K   \u001b[90m━━━━━━━━━━━━━━━━━━━━━━━━━━━━━━━━━━━━━━━━\u001b[0m \u001b[32m755.0/755.0 kB\u001b[0m \u001b[31m29.6 MB/s\u001b[0m eta \u001b[36m0:00:00\u001b[0m\n",
            "\u001b[2K   \u001b[90m━━━━━━━━━━━━━━━━━━━━━━━━━━━━━━━━━━━━━━━━\u001b[0m \u001b[32m19.3/19.3 MB\u001b[0m \u001b[31m92.0 MB/s\u001b[0m eta \u001b[36m0:00:00\u001b[0m\n",
            "\u001b[2K   \u001b[90m━━━━━━━━━━━━━━━━━━━━━━━━━━━━━━━━━━━━━━━━\u001b[0m \u001b[32m70.4/70.4 kB\u001b[0m \u001b[31m5.7 MB/s\u001b[0m eta \u001b[36m0:00:00\u001b[0m\n",
            "\u001b[2K   \u001b[90m━━━━━━━━━━━━━━━━━━━━━━━━━━━━━━━━━━━━━━━━\u001b[0m \u001b[32m295.8/295.8 kB\u001b[0m \u001b[31m23.1 MB/s\u001b[0m eta \u001b[36m0:00:00\u001b[0m\n",
            "\u001b[2K   \u001b[90m━━━━━━━━━━━━━━━━━━━━━━━━━━━━━━━━━━━━━━━━\u001b[0m \u001b[32m3.6/3.6 MB\u001b[0m \u001b[31m84.9 MB/s\u001b[0m eta \u001b[36m0:00:00\u001b[0m\n",
            "\u001b[2K   \u001b[90m━━━━━━━━━━━━━━━━━━━━━━━━━━━━━━━━━━━━━━━━\u001b[0m \u001b[32m284.2/284.2 kB\u001b[0m \u001b[31m23.5 MB/s\u001b[0m eta \u001b[36m0:00:00\u001b[0m\n",
            "\u001b[2K   \u001b[90m━━━━━━━━━━━━━━━━━━━━━━━━━━━━━━━━━━━━━━━━\u001b[0m \u001b[32m1.9/1.9 MB\u001b[0m \u001b[31m74.1 MB/s\u001b[0m eta \u001b[36m0:00:00\u001b[0m\n",
            "\u001b[2K   \u001b[90m━━━━━━━━━━━━━━━━━━━━━━━━━━━━━━━━━━━━━━━━\u001b[0m \u001b[32m101.6/101.6 kB\u001b[0m \u001b[31m8.0 MB/s\u001b[0m eta \u001b[36m0:00:00\u001b[0m\n",
            "\u001b[2K   \u001b[90m━━━━━━━━━━━━━━━━━━━━━━━━━━━━━━━━━━━━━━━━\u001b[0m \u001b[32m16.4/16.4 MB\u001b[0m \u001b[31m90.3 MB/s\u001b[0m eta \u001b[36m0:00:00\u001b[0m\n",
            "\u001b[2K   \u001b[90m━━━━━━━━━━━━━━━━━━━━━━━━━━━━━━━━━━━━━━━━\u001b[0m \u001b[32m65.8/65.8 kB\u001b[0m \u001b[31m5.3 MB/s\u001b[0m eta \u001b[36m0:00:00\u001b[0m\n",
            "\u001b[2K   \u001b[90m━━━━━━━━━━━━━━━━━━━━━━━━━━━━━━━━━━━━━━━━\u001b[0m \u001b[32m55.7/55.7 kB\u001b[0m \u001b[31m5.1 MB/s\u001b[0m eta \u001b[36m0:00:00\u001b[0m\n",
            "\u001b[2K   \u001b[90m━━━━━━━━━━━━━━━━━━━━━━━━━━━━━━━━━━━━━━━━\u001b[0m \u001b[32m118.5/118.5 kB\u001b[0m \u001b[31m10.3 MB/s\u001b[0m eta \u001b[36m0:00:00\u001b[0m\n",
            "\u001b[2K   \u001b[90m━━━━━━━━━━━━━━━━━━━━━━━━━━━━━━━━━━━━━━━━\u001b[0m \u001b[32m196.2/196.2 kB\u001b[0m \u001b[31m15.8 MB/s\u001b[0m eta \u001b[36m0:00:00\u001b[0m\n",
            "\u001b[2K   \u001b[90m━━━━━━━━━━━━━━━━━━━━━━━━━━━━━━━━━━━━━━━━\u001b[0m \u001b[32m105.0/105.0 kB\u001b[0m \u001b[31m8.6 MB/s\u001b[0m eta \u001b[36m0:00:00\u001b[0m\n",
            "\u001b[2K   \u001b[90m━━━━━━━━━━━━━━━━━━━━━━━━━━━━━━━━━━━━━━━━\u001b[0m \u001b[32m71.2/71.2 kB\u001b[0m \u001b[31m6.1 MB/s\u001b[0m eta \u001b[36m0:00:00\u001b[0m\n",
            "\u001b[2K   \u001b[90m━━━━━━━━━━━━━━━━━━━━━━━━━━━━━━━━━━━━━━━━\u001b[0m \u001b[32m459.8/459.8 kB\u001b[0m \u001b[31m33.0 MB/s\u001b[0m eta \u001b[36m0:00:00\u001b[0m\n",
            "\u001b[2K   \u001b[90m━━━━━━━━━━━━━━━━━━━━━━━━━━━━━━━━━━━━━━━━\u001b[0m \u001b[32m4.0/4.0 MB\u001b[0m \u001b[31m91.2 MB/s\u001b[0m eta \u001b[36m0:00:00\u001b[0m\n",
            "\u001b[2K   \u001b[90m━━━━━━━━━━━━━━━━━━━━━━━━━━━━━━━━━━━━━━━━\u001b[0m \u001b[32m453.1/453.1 kB\u001b[0m \u001b[31m33.8 MB/s\u001b[0m eta \u001b[36m0:00:00\u001b[0m\n",
            "\u001b[2K   \u001b[90m━━━━━━━━━━━━━━━━━━━━━━━━━━━━━━━━━━━━━━━━\u001b[0m \u001b[32m46.0/46.0 kB\u001b[0m \u001b[31m3.5 MB/s\u001b[0m eta \u001b[36m0:00:00\u001b[0m\n",
            "\u001b[2K   \u001b[90m━━━━━━━━━━━━━━━━━━━━━━━━━━━━━━━━━━━━━━━━\u001b[0m \u001b[32m86.8/86.8 kB\u001b[0m \u001b[31m7.3 MB/s\u001b[0m eta \u001b[36m0:00:00\u001b[0m\n",
            "\u001b[?25h  Building wheel for clipboard (setup.py) ... \u001b[?25l\u001b[?25hdone\n",
            "  Building wheel for pypika (pyproject.toml) ... \u001b[?25l\u001b[?25hdone\n",
            "\u001b[31mERROR: pip's dependency resolver does not currently take into account all the packages that are installed. This behaviour is the source of the following dependency conflicts.\n",
            "transformers 4.52.4 requires tokenizers<0.22,>=0.21, but you have tokenizers 0.19.1 which is incompatible.\u001b[0m\u001b[31m\n",
            "\u001b[0m"
          ]
        }
      ],
      "source": [
        "!pip install -qU openai langchain langchain-upstage langchain-chroma getpass4"
      ]
    },
    {
      "cell_type": "markdown",
      "source": [
        "https://console.upstage.ai/api-keys"
      ],
      "metadata": {
        "id": "UwhsNwTBbaQ5"
      }
    },
    {
      "cell_type": "code",
      "source": [
        "# @title set API key\n",
        "import os\n",
        "import getpass\n",
        "import warnings\n",
        "\n",
        "warnings.filterwarnings(\"ignore\")\n",
        "\n",
        "# Get the Upstage API key using getpass\n",
        "os.environ[\"UPSTAGE_API_KEY\"] = getpass.getpass(\"Enter your Upstage API key: \")\n",
        "\n",
        "print(\"API key has been set successfully.\")"
      ],
      "metadata": {
        "colab": {
          "base_uri": "https://localhost:8080/"
        },
        "id": "jek4UJ2G9eKX",
        "outputId": "e027aaa9-9a5c-4917-ae0e-af1f33725abe",
        "cellView": "form"
      },
      "execution_count": 43,
      "outputs": [
        {
          "output_type": "stream",
          "name": "stdout",
          "text": [
            "Enter your Upstage API key: ··········\n",
            "API key has been set successfully.\n"
          ]
        }
      ]
    },
    {
      "cell_type": "markdown",
      "source": [
        "# 문서 임베딩\n",
        "| vector DB 생성 이후 생략"
      ],
      "metadata": {
        "id": "0IckkW1w_tYq"
      }
    },
    {
      "cell_type": "markdown",
      "source": [
        "## CSV 파싱"
      ],
      "metadata": {
        "id": "gazv1KDRaska"
      }
    },
    {
      "cell_type": "code",
      "source": [
        "# @title patients.csv (환자 기본 정보)\n",
        "\n",
        "from langchain.schema import Document\n",
        "import pandas as pd\n",
        "from typing import List\n",
        "\n",
        "# patients.csv 읽기 (환자 기본 정보)\n",
        "df = pd.read_csv(\"patients.csv\")\n",
        "\n",
        "# csv에서 사례화\n",
        "def row_to_text(row) -> str:\n",
        "    text = (\n",
        "        f\"환자 ID: {row['Id'][0:8]}\\n\"\n",
        "        f\"기본 정보: {row['BIRTHDATE']}에 태어났고, 성별은 {row['GENDER']}, 인종은 {row['RACE']}, 민족성은 {row['ETHNICITY']}입니다.\"\n",
        "        # 나이 추가할 것\n",
        "    )\n",
        "    return text\n",
        "\n",
        "texts = df.apply(row_to_text, axis=1).tolist()\n",
        "\n",
        "# 문서 리스트 준비\n",
        "patients_docs = []\n",
        "for _, row in df.iterrows():\n",
        "    text = row_to_text(row)\n",
        "    patients_docs.append(Document(page_content=text, metadata={\"patient_id\": row[\"Id\"][0:8], \"table\": \"patients\"}))\n",
        "\n",
        "print(\"총 문서 수:\", len(patients_docs))\n",
        "print(\"예시 문서:\\n\", patients_docs[1].page_content)"
      ],
      "metadata": {
        "id": "Hm_2rLOW_xHx",
        "colab": {
          "base_uri": "https://localhost:8080/"
        },
        "outputId": "2bcf7885-ee20-47bb-c1bb-9a02c89cbd84"
      },
      "execution_count": 97,
      "outputs": [
        {
          "output_type": "stream",
          "name": "stdout",
          "text": [
            "총 문서 수: 1182\n",
            "예시 문서:\n",
            " 환자 ID: a0c8480c\n",
            "기본 정보: 2024-01-09에 태어났고, 성별은 F, 인종은 white, 민족성은 nonhispanic입니다.\n"
          ]
        }
      ]
    },
    {
      "cell_type": "code",
      "source": [
        "# @title conditions.csv (진단 질병)\n",
        "\n",
        "import pandas as pd\n",
        "from langchain.schema import Document\n",
        "import numpy as np\n",
        "\n",
        "# conditions.csv 읽기\n",
        "df = pd.read_csv(\"conditions.csv\")\n",
        "\n",
        "# disorder만 필터링\n",
        "df = df[df[\"DESCRIPTION\"].str.contains(r\"\\(disorder\\)\", na=False)].copy()\n",
        "\n",
        "# ✅ (disorder) 제거\n",
        "df[\"DESCRIPTION\"] = df[\"DESCRIPTION\"].str.replace(r\"\\s*\\(disorder\\)\", \"\", regex=True)\n",
        "\n",
        "# ✅ STOP이 null이면 \"현재\"로 대체\n",
        "df[\"STOP\"] = df[\"STOP\"].fillna(\"현재\")\n",
        "\n",
        "# PATIENT_ID 기준으로 그룹화\n",
        "grouped = df.groupby(\"PATIENT\")\n",
        "\n",
        "# 환자별 사례화 함수\n",
        "def patient_conditions_to_text(patient_id, group_df):\n",
        "    conditions_text = \"\"\n",
        "    for _, row in group_df.iterrows():\n",
        "        stop_date = row[\"STOP\"]\n",
        "        conditions_text += (\n",
        "            f\"{row['START']}부터 {stop_date}까지 \"\n",
        "            f\"{row['DESCRIPTION']} 진단 받았습니다. \"\n",
        "        )\n",
        "    text = f\"환자 ID: {patient_id[0:8]}\\n해당 환자는 다음과 같은 질병을 진단 받았습니다. {conditions_text}\"\n",
        "    return text\n",
        "\n",
        "# 문서 리스트 준비\n",
        "conditions_docs = []\n",
        "for patient_id, group_df in grouped:\n",
        "    text = patient_conditions_to_text(patient_id, group_df)\n",
        "    conditions_docs.append(Document(page_content=text, metadata={\"patient_id\": patient_id[0:8], \"table\": \"conditions\"}))\n",
        "\n",
        "print(\"총 문서 수:\", len(conditions_docs))\n",
        "print(\"예시 문서:\\n\", conditions_docs[0].page_content)"
      ],
      "metadata": {
        "colab": {
          "base_uri": "https://localhost:8080/"
        },
        "id": "BrRPC5DIxk-2",
        "outputId": "f7805042-917f-4358-86af-c96128ea10ff"
      },
      "execution_count": 32,
      "outputs": [
        {
          "output_type": "stream",
          "name": "stdout",
          "text": [
            "총 문서 수: 1171\n",
            "예시 문서:\n",
            " 환자 ID: 0057c08f\n",
            "해당 환자는 다음과 같은 질병을 진단 받았습니다. 2012-03-22부터 현재까지 Anemia 진단 받았습니다. 2015-11-12부터 2015-11-27까지 Gingivitis 진단 받았습니다. 2015-11-13부터 2015-12-08까지 Viral sinusitis 진단 받았습니다. 2018-11-01부터 2018-11-24까지 Viral sinusitis 진단 받았습니다. 2024-01-19부터 2024-02-02까지 Gingivitis 진단 받았습니다. 2024-02-02부터 2024-02-02까지 Gingival disease 진단 받았습니다. \n"
          ]
        }
      ]
    },
    {
      "cell_type": "code",
      "source": [
        "import pandas as pd\n",
        "\n",
        "# CSV 파일 읽기\n",
        "df = pd.read_csv('/content/filter_obervation.csv')\n",
        "\n",
        "# DESCRIPTION별 개수 세기\n",
        "description_counts = df['DESCRIPTION'].value_counts()\n",
        "\n",
        "# 8000번 이상 등장한 DESCRIPTION만 필터링\n",
        "descriptions_over_8000 = description_counts[description_counts > 8000].index.tolist()\n",
        "\n",
        "# 결과 출력\n",
        "print(f\"8000개 넘는 DESCRIPTION 수: {len(descriptions_over_8000)}개\")\n",
        "print(\"DESCRIPTION 리스트:\")\n",
        "for desc in descriptions_over_8000:\n",
        "    print(f\"{desc} ({description_counts[desc]}개)\")\n"
      ],
      "metadata": {
        "colab": {
          "base_uri": "https://localhost:8080/"
        },
        "id": "wieVazK-clTT",
        "outputId": "5f9eb9d4-7282-4fa4-c801-8e076efd1718"
      },
      "execution_count": 28,
      "outputs": [
        {
          "output_type": "stream",
          "name": "stdout",
          "text": [
            "8000개 넘는 DESCRIPTION 수: 42개\n",
            "DESCRIPTION 리스트:\n",
            "Diastolic Blood Pressure (17939개)\n",
            "Systolic Blood Pressure (17939개)\n",
            "Body Weight (16838개)\n",
            "Heart rate (16300개)\n",
            "Respiratory rate (16300개)\n",
            "Body mass index (BMI) [Ratio] (14999개)\n",
            "Glomerular filtration rate/1.73 sq M.predicted [Volume Rate/Area] in Serum or Plasma by Creatinine-based formula (MDRD) (13682개)\n",
            "Chloride [Moles/volume] in Blood (10844개)\n",
            "Urea nitrogen [Mass/volume] in Blood (10844개)\n",
            "Creatinine [Mass/volume] in Blood (10844개)\n",
            "Sodium [Moles/volume] in Blood (10844개)\n",
            "Potassium [Moles/volume] in Blood (10844개)\n",
            "Calcium [Mass/volume] in Blood (10844개)\n",
            "Glucose [Mass/volume] in Blood (10844개)\n",
            "Carbon dioxide  total [Moles/volume] in Blood (10844개)\n",
            "Weight difference [Mass difference] --pre dialysis - post dialysis (10515개)\n",
            "Hemoglobin A1c/Hemoglobin.total in Blood (10099개)\n",
            "Leukocyte esterase [Presence] in Urine by Test strip (8893개)\n",
            "Nitrite [Presence] in Urine by Test strip (8893개)\n",
            "pH of Urine by Test strip (8893개)\n",
            "Specific gravity of Urine by Test strip (8893개)\n",
            "Hemoglobin [Presence] in Urine by Test strip (8893개)\n",
            "Ketones [Presence] in Urine by Test strip (8893개)\n",
            "Glucose [Mass/volume] in Urine by Test strip (8775개)\n",
            "Protein [Mass/volume] in Urine by Test strip (8775개)\n",
            "Bilirubin.total [Presence] in Urine by Test strip (8725개)\n",
            "Glucose [Presence] in Urine by Test strip (8725개)\n",
            "Protein [Presence] in Urine by Test strip (8725개)\n",
            "Appearance of Urine (8607개)\n",
            "Odor of Urine (8607개)\n",
            "Color of Urine (8607개)\n",
            "Bilirubin.total [Mass/volume] in Urine by Test strip (8607개)\n",
            "Clarity of Urine (8607개)\n",
            "Ketones [Mass/volume] in Urine by Test strip (8607개)\n",
            "Carbon dioxide  total [Moles/volume] in Serum or Plasma (8066개)\n",
            "Potassium [Moles/volume] in Serum or Plasma (8066개)\n",
            "Creatinine [Mass/volume] in Serum or Plasma (8066개)\n",
            "Calcium [Mass/volume] in Serum or Plasma (8066개)\n",
            "Chloride [Moles/volume] in Serum or Plasma (8066개)\n",
            "Sodium [Moles/volume] in Serum or Plasma (8066개)\n",
            "Urea nitrogen [Mass/volume] in Serum or Plasma (8066개)\n",
            "Glucose [Mass/volume] in Serum or Plasma (8066개)\n"
          ]
        }
      ]
    },
    {
      "cell_type": "code",
      "source": [
        "# @title observations.csv (신체/바이탈 정보)\n",
        "\n",
        "import pandas as pd\n",
        "from langchain.schema import Document\n",
        "\n",
        "# CSV 읽기\n",
        "df = pd.read_csv(\"test_observation_over_8000.csv\")\n",
        "\n",
        "# descriptions 리스트 예시 (코드 상단에 정의되어 있다고 가정)\n",
        "descriptions = descriptions_over_8000\n",
        "\n",
        "# ✅ Respiratory rate 제외\n",
        "descriptions = [desc for desc in descriptions if desc != \"Respiratory rate\"]\n",
        "\n",
        "# 행 단위 text 생성 함수\n",
        "def row_to_text(row) -> str:\n",
        "    text = f\"{row['DATE'][:10]}에 기록: \"\n",
        "    for description in descriptions:\n",
        "        matching_columns = [col for col in row.index if description == col.split(' [')[0]]\n",
        "        if matching_columns:\n",
        "            full_col_name = matching_columns[0]\n",
        "            value = row[full_col_name]\n",
        "            if pd.notna(value):\n",
        "                if description == \"Body Weight\":\n",
        "                    value_str = f\"{value:.1f}\"  # 소수 유지\n",
        "                else:\n",
        "                    value_str = f\"{int(round(value))}\"  # 정수 변환\n",
        "                text += f\"{description}: {value_str} \"\n",
        "    return text\n",
        "\n",
        "# ✅ patient_id 기준 그룹화\n",
        "grouped = df.groupby(\"PATIENT\")\n",
        "\n",
        "# 환자별 Document 생성\n",
        "observation_docs = []\n",
        "\n",
        "for patient_id, group_df in grouped:\n",
        "    text_lines = []\n",
        "    for _, row in group_df.iterrows():\n",
        "        line = row_to_text(row)\n",
        "        text_lines.append(line)\n",
        "\n",
        "    combined_text = f\"환자 ID: {patient_id[:8]}\\n환자는 다음과 같은 바이탈/검사 데이터를 기록했습니다:\\n\" + \"\\n\".join(text_lines)\n",
        "\n",
        "    # Document 생성\n",
        "    observation_docs.append(Document(page_content=combined_text, metadata={\"patient_id\": patient_id[:8], \"table\": \"observations\"}))"
      ],
      "metadata": {
        "id": "-rU_NQvbW2U0"
      },
      "execution_count": 137,
      "outputs": []
    },
    {
      "cell_type": "code",
      "source": [
        "print(\"총 환자 수 (문서 수):\", len(observation_docs))\n",
        "print(\"예시 문서:\\n\", observation_docs[0].page_content)"
      ],
      "metadata": {
        "colab": {
          "base_uri": "https://localhost:8080/"
        },
        "id": "WZ1MoLFaOO1Z",
        "outputId": "377b3977-697e-4b81-a4c6-e87474b15828"
      },
      "execution_count": 138,
      "outputs": [
        {
          "output_type": "stream",
          "name": "stdout",
          "text": [
            "총 환자 수 (문서 수): 1122\n",
            "예시 문서:\n",
            " 환자 ID: 0057c08f\n",
            "환자는 다음과 같은 바이탈/검사 데이터를 기록했습니다:\n",
            "2015-11-12에 기록: Diastolic Blood Pressure: 82 Systolic Blood Pressure: 107 Body Weight: 91.7 Heart rate: 63 Hemoglobin A1c/Hemoglobin.total in Blood: 6 \n",
            "2018-03-29에 기록: Diastolic Blood Pressure: 75 Systolic Blood Pressure: 106 Body Weight: 97.3 Heart rate: 92 Hemoglobin A1c/Hemoglobin.total in Blood: 6 \n",
            "2021-04-01에 기록: Diastolic Blood Pressure: 81 Systolic Blood Pressure: 96 Body Weight: 92.4 Heart rate: 69 Hemoglobin A1c/Hemoglobin.total in Blood: 6 \n",
            "2024-01-18에 기록: Diastolic Blood Pressure: 76 Systolic Blood Pressure: 107 Body Weight: 99.1 Heart rate: 97 Hemoglobin A1c/Hemoglobin.total in Blood: 6 \n"
          ]
        }
      ]
    },
    {
      "cell_type": "code",
      "source": [
        "# @title medications.csv (투약 정보)\n",
        "\n",
        "# medications.csv 읽기 (약물 복용 기록)\n",
        "import pandas as pd\n",
        "from langchain.schema import Document\n",
        "\n",
        "df = pd.read_csv(\"medications.csv\")\n",
        "df[\"START\"] = pd.to_datetime(df[\"START\"])\n",
        "df[\"STOP\"] = pd.to_datetime(df[\"STOP\"], errors=\"coerce\")\n",
        "\n",
        "grouped = df.groupby(\"PATIENT\")\n",
        "medication_docs = []\n",
        "\n",
        "for patient_id, group in grouped:\n",
        "    med_grouped = group.groupby(\"DESCRIPTION\")\n",
        "    text_lines = []\n",
        "\n",
        "    for description, med_subgroup in med_grouped:\n",
        "        earliest = med_subgroup[\"START\"].min()\n",
        "        latest = med_subgroup[\"STOP\"].max() if med_subgroup[\"STOP\"].notnull().any() else None\n",
        "        total_dispenses = med_subgroup[\"DISPENSES\"].sum()\n",
        "\n",
        "        start_str = earliest.strftime(\"%Y-%m\")\n",
        "        if latest is None:\n",
        "            period_str = f\"{start_str} ~ \"\n",
        "        else:\n",
        "            stop_str = latest.strftime(\"%Y-%m\")\n",
        "            period_str = start_str if start_str == stop_str else f\"{start_str} ~ {stop_str}\"\n",
        "\n",
        "        text_lines.append(f\"- {description}: {period_str}, 총 {total_dispenses}회\")\n",
        "\n",
        "    combined_text = f\"환자 ID: {patient_id[:8]}\\n환자는 다음 약물을 복용했습니다:\\n\" + \"\\n\".join(text_lines)\n",
        "    medication_docs.append(Document(page_content=combined_text, metadata={\"patient_id\": patient_id[:8], \"table\": \"medications\"}))\n",
        "\n",
        "print(\"환자 수 (문서 수):\", len(medication_docs))\n",
        "print(\"예시 문서:\\n\", medication_docs[0].page_content)\n"
      ],
      "metadata": {
        "colab": {
          "base_uri": "https://localhost:8080/"
        },
        "id": "ALiPy-nUW2xZ",
        "outputId": "d23936e0-3dbf-4c8f-d835-95645cc91b67"
      },
      "execution_count": 90,
      "outputs": [
        {
          "output_type": "stream",
          "name": "stdout",
          "text": [
            "환자 수 (문서 수): 1158\n",
            "예시 문서:\n",
            " 환자 ID: 0063c9a6\n",
            "환자는 다음 약물을 복용했습니다:\n",
            "- 1 ML heparin sodium  porcine 5000 UNT/ML Injection: 2008-05, 총 1회\n",
            "- 10 ML Furosemide 10 MG/ML Injection: 2010-04, 총 10회\n",
            "- 100 ML Propofol 10 MG/ML Injection: 2008-05, 총 1회\n",
            "- 2 ML Ondansetron 2 MG/ML Injection: 2008-05, 총 1회\n",
            "- 24 HR metoprolol succinate 100 MG Extended Release Oral Tablet: 2008-05 ~ , 총 24회\n",
            "- 25 ML protamine sulfate (USP) 10 MG/ML Injection: 2008-05, 총 1회\n",
            "- 5 ML SUFentanil 0.05 MG/ML Injection: 2008-05, 총 1회\n",
            "- Clopidogrel 75 MG Oral Tablet: 2008-05 ~ , 총 24회\n",
            "- Furosemide 40 MG Oral Tablet: 2009-10 ~ , 총 6회\n",
            "- Ibuprofen 200 MG Oral Tablet: 2008-11 ~ 2008-12, 총 1회\n",
            "- Midazolam 1 MG/ML Injectable Solution: 2008-05, 총 1회\n",
            "- Naproxen sodium 220 MG Oral Tablet: 2001-01 ~ 2001-02, 총 1회\n",
            "- Nitroglycerin 0.4 MG/ACTUAT Mucosal Spray: 2008-05 ~ , 총 24회\n",
            "- Penicillin V Potassium 500 MG Oral Tablet: 2004-06, 총 1회\n",
            "- Rocuronium bromide 10 MG/ML Injectable Solution: 2008-05, 총 1회\n",
            "- Simvastatin 10 MG Oral Tablet: 2003-04 ~ 2009-05, 총 82회\n",
            "- Simvastatin 20 MG Oral Tablet: 2008-05 ~ , 총 24회\n",
            "- cefazolin 2000 MG Injection: 2008-05, 총 1회\n",
            "- isoflurane 99.9 % Inhalation Solution: 2008-05, 총 1회\n",
            "- lisinopril 10 MG Oral Tablet: 2000-03 ~ 2009-05, 총 40회\n",
            "- sodium fluoride 0.0272 MG/MG Oral Gel: 2001-04 ~ 2009-05, 총 3회\n"
          ]
        }
      ]
    },
    {
      "cell_type": "code",
      "source": [
        "# @title allergies.csv (알러지 반응 기록)\n",
        "\n",
        "import pandas as pd\n",
        "from langchain.schema import Document\n",
        "import re\n",
        "\n",
        "# allergies.csv 읽기\n",
        "df = pd.read_csv(\"allergies.csv\")\n",
        "\n",
        "# 환자별 그룹화\n",
        "grouped = df.groupby(\"PATIENT\")\n",
        "\n",
        "# 문서 리스트\n",
        "allergy_docs = []\n",
        "\n",
        "for patient_id, group in grouped:\n",
        "    text_lines = []\n",
        "    for _, row in group.iterrows():\n",
        "        # 괄호와 안의 내용 제거\n",
        "        description_clean = re.sub(r\"\\s*\\(.*?\\)\", \"\", row['DESCRIPTION']).strip()\n",
        "\n",
        "        line = f\"{description_clean}\"\n",
        "        text_lines.append(line)\n",
        "\n",
        "    # 전체 문서 구성\n",
        "    combined_text = f\"환자 ID: {patient_id[:8]}\\n환자는 다음과 같은 알레르기 반응을 보였습니다:\\n\" + \"\\n\".join(text_lines)\n",
        "\n",
        "    # Document 생성\n",
        "    allergy_docs.append(Document(page_content=combined_text, metadata={\"patient_id\": patient_id[:8], \"table\": \"allergies\"}))\n",
        "\n",
        "print(\"환자 수 (문서 수):\", len(allergy_docs))\n",
        "print(\"예시 문서:\\n\", allergy_docs[20].page_content)"
      ],
      "metadata": {
        "colab": {
          "base_uri": "https://localhost:8080/"
        },
        "id": "uYJvmZx1W22x",
        "outputId": "5ab6d288-8982-49ec-c754-a03da0949d24"
      },
      "execution_count": 109,
      "outputs": [
        {
          "output_type": "stream",
          "name": "stdout",
          "text": [
            "환자 수 (문서 수): 202\n",
            "예시 문서:\n",
            " 환자 ID: 18ebb069\n",
            "환자는 다음과 같은 알레르기 반응을 보였습니다:\n",
            "Allergic disposition\n",
            "Aspirin\n"
          ]
        }
      ]
    },
    {
      "cell_type": "code",
      "source": [
        "# @title 사례 통합\n",
        "\n",
        "import re\n",
        "from datetime import datetime\n",
        "\n",
        "def create_summarized_case(pid, docs):\n",
        "    # 기본 정보\n",
        "    age_str = \"알 수 없음\"\n",
        "    gender_str = \"알 수 없음\"\n",
        "    weight_str = \"\"\n",
        "    race_str = \"\"\n",
        "    vitals_str = \"\"\n",
        "    allergies_str = \"\"\n",
        "    reason_str = \"\"\n",
        "    med_name = \"\"\n",
        "    med_count = \"\"\n",
        "    med_unit = \"\"\n",
        "\n",
        "    # docs 분류\n",
        "    for doc in docs:\n",
        "        table = doc.metadata.get(\"table\")\n",
        "\n",
        "        # 기본 정보 및 observation\n",
        "        if table == \"patients\":\n",
        "            content = doc.page_content\n",
        "            # 예: 1970-01-01에서 나이 계산\n",
        "            birth_match = re.search(r'기본 정보: (\\d{4})', content)\n",
        "            if birth_match:\n",
        "                birth_year = int(birth_match.group(1))\n",
        "                age = datetime.now().year - birth_year\n",
        "                age_str = f\"{age}\"\n",
        "\n",
        "            gender_match = re.search(r'성별은 (\\w)', content)\n",
        "            if gender_match:\n",
        "                gender_raw = gender_match.group(1)\n",
        "                gender_str = \"남성\" if gender_raw == \"M\" else \"여성\"\n",
        "\n",
        "            race_match = re.search(r'인종은 (\\w+)', content)\n",
        "            if race_match:\n",
        "                race_str = race_match.group(1)\n",
        "\n",
        "        if table == \"observations\":\n",
        "            bw_match = re.search(r'Body Weight: (\\d+\\.\\d+)', doc.page_content)\n",
        "            if bw_match:\n",
        "                weight_str = bw_match.group(1)\n",
        "\n",
        "            # 날짜별 블록 분리\n",
        "            vitals_blocks = re.findall(r'(\\d{4}-\\d{2}-\\d{2}에 기록:.*?)(?=\\d{4}-\\d{2}-\\d{2}에 기록:|$)', doc.page_content, re.DOTALL)\n",
        "\n",
        "            vitals_list = []\n",
        "\n",
        "            for block in vitals_blocks:\n",
        "                # 날짜 추출\n",
        "                date_match = re.search(r'(\\d{4}-\\d{2}-\\d{2})에 기록:', block)\n",
        "                date_str = date_match.group(1) if date_match else \"날짜 불명\"\n",
        "\n",
        "                # vitals 데이터 추출\n",
        "                block_vitals = re.findall(r'(\\w+ Blood Pressure: \\d+|Heart rate: \\d+|Body Weight: \\d+\\.\\d+)', block)\n",
        "\n",
        "                if block_vitals:\n",
        "                    # 한 날짜 블록으로 묶기\n",
        "                    vitals_combined = \", \".join(block_vitals)\n",
        "                    vitals_list.append(f\"{date_str}: {vitals_combined}\")\n",
        "\n",
        "            # 모든 블록을 쉼표로 이어 붙임\n",
        "            vitals_str = \", \".join(vitals_list)\n",
        "            if vitals_str:\n",
        "                vitals_str += \"의 신체/바이탈 정보\"\n",
        "\n",
        "        if table == \"allergies\":\n",
        "            # 줄바꿈을 쉼표로 바꿔 연결\n",
        "            allergies_clean = doc.page_content.replace(\"\\n\", \", \")\n",
        "\n",
        "            # \"환자는 다음과 같은 알레르기 반응을 보였습니다:\" 이후만 남기기\n",
        "            content_split = allergies_clean.split(\"환자는 다음과 같은 알레르기 반응을 보였습니다:\", 1)\n",
        "            if len(content_split) > 1:\n",
        "                allergies_only = content_split[1].strip(\", \").strip()\n",
        "                if allergies_only:  # 알러지 정보가 비어있지 않은 경우만\n",
        "                    allergies_str = allergies_only + \"의 알러지 정보\"\n",
        "            else:\n",
        "                allergies_str = \"\"\n",
        "\n",
        "        if table == \"medications\":\n",
        "            # 약물명 파싱\n",
        "            med_name_match = re.search(r'- (.+?):', doc.page_content)\n",
        "            if med_name_match:\n",
        "                med_name_full = med_name_match.group(1)\n",
        "\n",
        "                # 용량 패턴 찾기\n",
        "                unit_match = re.search(r'(\\d+\\s*(?:MG|ML))', med_name_full, re.IGNORECASE)\n",
        "                if unit_match:\n",
        "                    med_unit = unit_match.group(1)\n",
        "                    # 약물명에서 용량 제거\n",
        "                    med_name = med_name_full.replace(med_unit, \"\").strip()\n",
        "                else:\n",
        "                    med_name = med_name_full  # 용량이 없으면 원문 그대로\n",
        "\n",
        "            # 횟수 파싱\n",
        "            dispenses_match = re.search(r'총 (\\d+)회', doc.page_content)\n",
        "            if dispenses_match:\n",
        "                med_count = dispenses_match.group(1)\n",
        "\n",
        "    # 문장 구성\n",
        "    final_text = (\n",
        "        f\"만 {age_str}세 {weight_str}kg의 {gender_str} 환자는 \"\n",
        "        f\"{vitals_str}, {allergies_str}를 갖고 있고, \"\n",
        "        f\"{reason_str}라는 이유로 {med_name}을 {med_count}회 {med_unit}씩 복용했습니다.\"\n",
        "    )\n",
        "\n",
        "    return Document(page_content=final_text, metadata={\"patient_id\": pid, \"table\": \"merged_summary\"})\n",
        "\n",
        "# ✅ 최종 문서 생성\n",
        "merged_docs = []\n",
        "for pid, docs in patient_groups.items():\n",
        "    merged_doc = create_summarized_case(pid, docs)\n",
        "    merged_docs.append(merged_doc)\n",
        "\n",
        "print(\"생성된 문서 수:\", len(merged_docs))\n",
        "print(\"예시 문서:\\n\", merged_docs[1].page_content)\n"
      ],
      "metadata": {
        "colab": {
          "base_uri": "https://localhost:8080/"
        },
        "id": "BgLyaEhjhksB",
        "outputId": "9d469a0d-c2bd-419a-a43f-387f24454650"
      },
      "execution_count": 140,
      "outputs": [
        {
          "output_type": "stream",
          "name": "stdout",
          "text": [
            "생성된 문서 수: 1182\n",
            "예시 문서:\n",
            " 만 1세 3.3kg 여성 환자는 2024-01-09: Diastolic Blood Pressure: 94, Systolic Blood Pressure: 133, Body Weight: 3.3, Heart rate: 72, 2024-02-13: Diastolic Blood Pressure: 88, Systolic Blood Pressure: 142, Body Weight: 4.0, Heart rate: 98, 2024-04-16: Diastolic Blood Pressure: 94, Systolic Blood Pressure: 137, Body Weight: 5.2, Heart rate: 69, 2024-06-18: Diastolic Blood Pressure: 92, Systolic Blood Pressure: 130, Body Weight: 6.2, Heart rate: 92, 2024-06-25: Diastolic Blood Pressure: 89, Systolic Blood Pressure: 130, Body Weight: 6.2, Heart rate: 61, 2024-09-17: Diastolic Blood Pressure: 89, Systolic Blood Pressure: 129, Body Weight: 7.5, Heart rate: 82, 2024-12-17: Diastolic Blood Pressure: 88, Systolic Blood Pressure: 122, Body Weight: 8.5, Heart rate: 63, 2025-03-18: Diastolic Blood Pressure: 86, Systolic Blood Pressure: 126, Body Weight: 9.3, Heart rate: 98, 2025-06-17: Diastolic Blood Pressure: 98, Systolic Blood Pressure: 123, Body Weight: 9.9, Heart rate: 92의 신체/바이탈 정보, 를 갖고 있고, 라는 이유로 Acetaminophen  Oral Tablet을 1회 325 MG씩 복용했습니다.\n"
          ]
        }
      ]
    },
    {
      "cell_type": "code",
      "source": [
        "import numpy as np\n",
        "\n",
        "# 각 문서의 문자열 길이 측정\n",
        "lengths = [len(doc.page_content) for doc in merged_docs]\n",
        "\n",
        "# 통계 계산\n",
        "avg_len = np.mean(lengths)\n",
        "median_len = np.median(lengths)\n",
        "min_len = np.min(lengths)\n",
        "max_len = np.max(lengths)\n",
        "\n",
        "# 출력\n",
        "print(\"총 문서 수:\", len(lengths))\n",
        "print(f\"평균 문자열 길이: {avg_len:.2f}\")\n",
        "print(f\"중앙값 문자열 길이: {median_len}\")\n",
        "print(f\"최소 문자열 길이: {min_len}\")\n",
        "print(f\"최대 문자열 길이: {max_len}\")\n"
      ],
      "metadata": {
        "colab": {
          "base_uri": "https://localhost:8080/"
        },
        "id": "S4w_qJH_idh7",
        "outputId": "28aa0b28-12a6-441a-b41a-68af512d84b4"
      },
      "execution_count": 144,
      "outputs": [
        {
          "output_type": "stream",
          "name": "stdout",
          "text": [
            "총 문서 수: 1182\n",
            "평균 문자열 길이: 1600.57\n",
            "중앙값 문자열 길이: 1237.5\n",
            "최소 문자열 길이: 75\n",
            "최대 문자열 길이: 30543\n"
          ]
        }
      ]
    },
    {
      "cell_type": "markdown",
      "source": [
        "## Chunking 작업"
      ],
      "metadata": {
        "id": "u5DoSL_nAA6e"
      }
    },
    {
      "cell_type": "code",
      "source": [
        "# Splitter 설정\n",
        "text_splitter = RecursiveCharacterTextSplitter(\n",
        "    chunk_size=2000,\n",
        "    chunk_overlap=100,\n",
        ")\n",
        "\n",
        "# 실제 split\n",
        "splits = text_splitter.split_documents(merged_docs)\n",
        "\n",
        "# 결과 출력\n",
        "print(\"Splits:\", len(splits))\n"
      ],
      "metadata": {
        "colab": {
          "base_uri": "https://localhost:8080/"
        },
        "id": "GscosMzbKEB8",
        "outputId": "09d9d049-511f-42c9-8f0b-7dc39ef1cc17"
      },
      "execution_count": 145,
      "outputs": [
        {
          "output_type": "stream",
          "name": "stdout",
          "text": [
            "Splits: 1523\n"
          ]
        }
      ]
    },
    {
      "cell_type": "markdown",
      "source": [
        "### Plot 시각화"
      ],
      "metadata": {
        "id": "mBEbWw6ABJH7"
      }
    },
    {
      "cell_type": "code",
      "source": [
        "# 시각화\n",
        "import matplotlib.pyplot as plt\n",
        "\n",
        "split_lengths = [len(split.page_content) for split in splits]\n",
        "\n",
        "plt.bar(range(len(split_lengths)), split_lengths)\n",
        "plt.title(\"RecursiveCharacterTextSplitter\")\n",
        "plt.xlabel(\"Split Index\")\n",
        "plt.ylabel(\"Split Content Length\")\n",
        "plt.xticks(range(len(split_lengths)), [])\n",
        "plt.show()"
      ],
      "metadata": {
        "colab": {
          "base_uri": "https://localhost:8080/",
          "height": 458
        },
        "id": "bnu1vgUCBE-v",
        "outputId": "d7d61a27-32ed-445b-e389-7ee1377a24cb"
      },
      "execution_count": 124,
      "outputs": [
        {
          "output_type": "display_data",
          "data": {
            "text/plain": [
              "<Figure size 640x480 with 1 Axes>"
            ],
            "image/png": "[encoded data removed]"
          },
          "metadata": {}
        }
      ]
    },
    {
      "cell_type": "markdown",
      "source": [
        "## Vector DB 저장"
      ],
      "metadata": {
        "id": "VELHS6FKBUTX"
      }
    },
    {
      "cell_type": "code",
      "source": [
        "from langchain_chroma import Chroma\n",
        "from langchain_upstage import UpstageEmbeddings\n",
        "from langchain.docstore.document import Document"
      ],
      "metadata": {
        "id": "7ddlfhFr-9GV"
      },
      "execution_count": 46,
      "outputs": []
    },
    {
      "cell_type": "code",
      "source": [
        "import time\n",
        "\n",
        "batch_size = 100  # 한 번에 처리할 문서 수\n",
        "\n",
        "for i in range(0, len(splits), batch_size):\n",
        "    batch = splits[i:i+batch_size]\n",
        "    try:\n",
        "        vectorstore = Chroma.from_documents(\n",
        "            documents=batch,\n",
        "            embedding=embeddings,\n",
        "            persist_directory=\"./chroma_db\"\n",
        "        )\n",
        "    except Exception as e:\n",
        "        print(f\"Batch {i//batch_size + 1} 처리 중 오류 발생:\", e)\n",
        "        time.sleep(60)  # Rate limit 회피를 위해 잠시 대기\n"
      ],
      "metadata": {
        "colab": {
          "base_uri": "https://localhost:8080/"
        },
        "id": "837B16Q4Czuq",
        "outputId": "771abc33-ef16-4a2a-bd9d-7ebee13c49c3"
      },
      "execution_count": 54,
      "outputs": [
        {
          "output_type": "stream",
          "name": "stderr",
          "text": [
            "ERROR:chromadb.telemetry.product.posthog:Failed to send telemetry event ClientStartEvent: capture() takes 1 positional argument but 3 were given\n",
            "ERROR:chromadb.telemetry.product.posthog:Failed to send telemetry event ClientCreateCollectionEvent: capture() takes 1 positional argument but 3 were given\n",
            "ERROR:chromadb.telemetry.product.posthog:Failed to send telemetry event ClientStartEvent: capture() takes 1 positional argument but 3 were given\n",
            "ERROR:chromadb.telemetry.product.posthog:Failed to send telemetry event ClientCreateCollectionEvent: capture() takes 1 positional argument but 3 were given\n",
            "ERROR:chromadb.telemetry.product.posthog:Failed to send telemetry event ClientStartEvent: capture() takes 1 positional argument but 3 were given\n",
            "ERROR:chromadb.telemetry.product.posthog:Failed to send telemetry event ClientCreateCollectionEvent: capture() takes 1 positional argument but 3 were given\n",
            "ERROR:chromadb.telemetry.product.posthog:Failed to send telemetry event ClientStartEvent: capture() takes 1 positional argument but 3 were given\n",
            "ERROR:chromadb.telemetry.product.posthog:Failed to send telemetry event ClientCreateCollectionEvent: capture() takes 1 positional argument but 3 were given\n"
          ]
        },
        {
          "output_type": "stream",
          "name": "stdout",
          "text": [
            "Batch 4 처리 중 오류 발생: Error code: 429 - {'error': {'message': \"You've reached your API request limit. Please wait and try again later. If your use case requires a higher rate limit, you can request an increase at https://support.upstage.ai. Including your intended use case and expected volume will help us process your request faster\", 'type': 'too_many_requests', 'param': '', 'code': 'too_many_requests'}}\n"
          ]
        },
        {
          "output_type": "stream",
          "name": "stderr",
          "text": [
            "ERROR:chromadb.telemetry.product.posthog:Failed to send telemetry event ClientStartEvent: capture() takes 1 positional argument but 3 were given\n",
            "ERROR:chromadb.telemetry.product.posthog:Failed to send telemetry event ClientCreateCollectionEvent: capture() takes 1 positional argument but 3 were given\n",
            "ERROR:chromadb.telemetry.product.posthog:Failed to send telemetry event ClientStartEvent: capture() takes 1 positional argument but 3 were given\n",
            "ERROR:chromadb.telemetry.product.posthog:Failed to send telemetry event ClientCreateCollectionEvent: capture() takes 1 positional argument but 3 were given\n",
            "ERROR:chromadb.telemetry.product.posthog:Failed to send telemetry event ClientStartEvent: capture() takes 1 positional argument but 3 were given\n",
            "ERROR:chromadb.telemetry.product.posthog:Failed to send telemetry event ClientCreateCollectionEvent: capture() takes 1 positional argument but 3 were given\n",
            "ERROR:chromadb.telemetry.product.posthog:Failed to send telemetry event ClientStartEvent: capture() takes 1 positional argument but 3 were given\n",
            "ERROR:chromadb.telemetry.product.posthog:Failed to send telemetry event ClientCreateCollectionEvent: capture() takes 1 positional argument but 3 were given\n"
          ]
        },
        {
          "output_type": "stream",
          "name": "stdout",
          "text": [
            "Batch 8 처리 중 오류 발생: Error code: 429 - {'error': {'message': \"You've reached your API request limit. Please wait and try again later. If your use case requires a higher rate limit, you can request an increase at https://support.upstage.ai. Including your intended use case and expected volume will help us process your request faster\", 'type': 'too_many_requests', 'param': '', 'code': 'too_many_requests'}}\n"
          ]
        },
        {
          "output_type": "stream",
          "name": "stderr",
          "text": [
            "ERROR:chromadb.telemetry.product.posthog:Failed to send telemetry event ClientStartEvent: capture() takes 1 positional argument but 3 were given\n",
            "ERROR:chromadb.telemetry.product.posthog:Failed to send telemetry event ClientCreateCollectionEvent: capture() takes 1 positional argument but 3 were given\n",
            "ERROR:chromadb.telemetry.product.posthog:Failed to send telemetry event ClientStartEvent: capture() takes 1 positional argument but 3 were given\n",
            "ERROR:chromadb.telemetry.product.posthog:Failed to send telemetry event ClientCreateCollectionEvent: capture() takes 1 positional argument but 3 were given\n",
            "ERROR:chromadb.telemetry.product.posthog:Failed to send telemetry event ClientStartEvent: capture() takes 1 positional argument but 3 were given\n",
            "ERROR:chromadb.telemetry.product.posthog:Failed to send telemetry event ClientCreateCollectionEvent: capture() takes 1 positional argument but 3 were given\n",
            "ERROR:chromadb.telemetry.product.posthog:Failed to send telemetry event ClientStartEvent: capture() takes 1 positional argument but 3 were given\n",
            "ERROR:chromadb.telemetry.product.posthog:Failed to send telemetry event ClientCreateCollectionEvent: capture() takes 1 positional argument but 3 were given\n"
          ]
        },
        {
          "output_type": "stream",
          "name": "stdout",
          "text": [
            "Batch 12 처리 중 오류 발생: Error code: 429 - {'error': {'message': \"You've reached your API request limit. Please wait and try again later. If your use case requires a higher rate limit, you can request an increase at https://support.upstage.ai. Including your intended use case and expected volume will help us process your request faster\", 'type': 'too_many_requests', 'param': '', 'code': 'too_many_requests'}}\n"
          ]
        },
        {
          "output_type": "stream",
          "name": "stderr",
          "text": [
            "ERROR:chromadb.telemetry.product.posthog:Failed to send telemetry event ClientStartEvent: capture() takes 1 positional argument but 3 were given\n",
            "ERROR:chromadb.telemetry.product.posthog:Failed to send telemetry event ClientCreateCollectionEvent: capture() takes 1 positional argument but 3 were given\n",
            "ERROR:chromadb.telemetry.product.posthog:Failed to send telemetry event ClientStartEvent: capture() takes 1 positional argument but 3 were given\n",
            "ERROR:chromadb.telemetry.product.posthog:Failed to send telemetry event ClientCreateCollectionEvent: capture() takes 1 positional argument but 3 were given\n",
            "ERROR:chromadb.telemetry.product.posthog:Failed to send telemetry event ClientStartEvent: capture() takes 1 positional argument but 3 were given\n",
            "ERROR:chromadb.telemetry.product.posthog:Failed to send telemetry event ClientCreateCollectionEvent: capture() takes 1 positional argument but 3 were given\n"
          ]
        },
        {
          "output_type": "stream",
          "name": "stdout",
          "text": [
            "Batch 15 처리 중 오류 발생: Error code: 429 - {'error': {'message': \"You've reached your API request limit. Please wait and try again later. If your use case requires a higher rate limit, you can request an increase at https://support.upstage.ai. Including your intended use case and expected volume will help us process your request faster\", 'type': 'too_many_requests', 'param': '', 'code': 'too_many_requests'}}\n"
          ]
        },
        {
          "output_type": "stream",
          "name": "stderr",
          "text": [
            "ERROR:chromadb.telemetry.product.posthog:Failed to send telemetry event ClientStartEvent: capture() takes 1 positional argument but 3 were given\n",
            "ERROR:chromadb.telemetry.product.posthog:Failed to send telemetry event ClientCreateCollectionEvent: capture() takes 1 positional argument but 3 were given\n",
            "ERROR:chromadb.telemetry.product.posthog:Failed to send telemetry event ClientStartEvent: capture() takes 1 positional argument but 3 were given\n",
            "ERROR:chromadb.telemetry.product.posthog:Failed to send telemetry event ClientCreateCollectionEvent: capture() takes 1 positional argument but 3 were given\n"
          ]
        },
        {
          "output_type": "stream",
          "name": "stdout",
          "text": [
            "Batch 17 처리 중 오류 발생: Error code: 429 - {'error': {'message': \"You've reached your API request limit. Please wait and try again later. If your use case requires a higher rate limit, you can request an increase at https://support.upstage.ai. Including your intended use case and expected volume will help us process your request faster\", 'type': 'too_many_requests', 'param': '', 'code': 'too_many_requests'}}\n"
          ]
        },
        {
          "output_type": "stream",
          "name": "stderr",
          "text": [
            "ERROR:chromadb.telemetry.product.posthog:Failed to send telemetry event ClientStartEvent: capture() takes 1 positional argument but 3 were given\n",
            "ERROR:chromadb.telemetry.product.posthog:Failed to send telemetry event ClientCreateCollectionEvent: capture() takes 1 positional argument but 3 were given\n",
            "ERROR:chromadb.telemetry.product.posthog:Failed to send telemetry event ClientStartEvent: capture() takes 1 positional argument but 3 were given\n",
            "ERROR:chromadb.telemetry.product.posthog:Failed to send telemetry event ClientCreateCollectionEvent: capture() takes 1 positional argument but 3 were given\n",
            "ERROR:chromadb.telemetry.product.posthog:Failed to send telemetry event ClientStartEvent: capture() takes 1 positional argument but 3 were given\n",
            "ERROR:chromadb.telemetry.product.posthog:Failed to send telemetry event ClientCreateCollectionEvent: capture() takes 1 positional argument but 3 were given\n"
          ]
        },
        {
          "output_type": "stream",
          "name": "stdout",
          "text": [
            "Batch 20 처리 중 오류 발생: Error code: 429 - {'error': {'message': \"You've reached your API request limit. Please wait and try again later. If your use case requires a higher rate limit, you can request an increase at https://support.upstage.ai. Including your intended use case and expected volume will help us process your request faster\", 'type': 'too_many_requests', 'param': '', 'code': 'too_many_requests'}}\n"
          ]
        },
        {
          "output_type": "stream",
          "name": "stderr",
          "text": [
            "ERROR:chromadb.telemetry.product.posthog:Failed to send telemetry event ClientStartEvent: capture() takes 1 positional argument but 3 were given\n",
            "ERROR:chromadb.telemetry.product.posthog:Failed to send telemetry event ClientCreateCollectionEvent: capture() takes 1 positional argument but 3 were given\n",
            "ERROR:chromadb.telemetry.product.posthog:Failed to send telemetry event ClientStartEvent: capture() takes 1 positional argument but 3 were given\n",
            "ERROR:chromadb.telemetry.product.posthog:Failed to send telemetry event ClientCreateCollectionEvent: capture() takes 1 positional argument but 3 were given\n",
            "ERROR:chromadb.telemetry.product.posthog:Failed to send telemetry event ClientStartEvent: capture() takes 1 positional argument but 3 were given\n",
            "ERROR:chromadb.telemetry.product.posthog:Failed to send telemetry event ClientCreateCollectionEvent: capture() takes 1 positional argument but 3 were given\n"
          ]
        },
        {
          "output_type": "stream",
          "name": "stdout",
          "text": [
            "Batch 23 처리 중 오류 발생: Error code: 429 - {'error': {'message': \"You've reached your API request limit. Please wait and try again later. If your use case requires a higher rate limit, you can request an increase at https://support.upstage.ai. Including your intended use case and expected volume will help us process your request faster\", 'type': 'too_many_requests', 'param': '', 'code': 'too_many_requests'}}\n"
          ]
        },
        {
          "output_type": "stream",
          "name": "stderr",
          "text": [
            "ERROR:chromadb.telemetry.product.posthog:Failed to send telemetry event ClientStartEvent: capture() takes 1 positional argument but 3 were given\n",
            "ERROR:chromadb.telemetry.product.posthog:Failed to send telemetry event ClientCreateCollectionEvent: capture() takes 1 positional argument but 3 were given\n",
            "ERROR:chromadb.telemetry.product.posthog:Failed to send telemetry event ClientStartEvent: capture() takes 1 positional argument but 3 were given\n",
            "ERROR:chromadb.telemetry.product.posthog:Failed to send telemetry event ClientCreateCollectionEvent: capture() takes 1 positional argument but 3 were given\n",
            "ERROR:chromadb.telemetry.product.posthog:Failed to send telemetry event ClientStartEvent: capture() takes 1 positional argument but 3 were given\n",
            "ERROR:chromadb.telemetry.product.posthog:Failed to send telemetry event ClientCreateCollectionEvent: capture() takes 1 positional argument but 3 were given\n"
          ]
        }
      ]
    },
    {
      "cell_type": "code",
      "source": [
        "# @title zip으로 압축/저장\n",
        "!zip -r /content/chroma_db.zip /content/chroma_db"
      ],
      "metadata": {
        "colab": {
          "base_uri": "https://localhost:8080/"
        },
        "id": "i2Qef11J3g26",
        "outputId": "e23903d2-2448-4b9e-a2ab-640d8832500d"
      },
      "execution_count": 55,
      "outputs": [
        {
          "output_type": "stream",
          "name": "stdout",
          "text": [
            "  adding: content/chroma_db/ (stored 0%)\n",
            "  adding: content/chroma_db/chroma.sqlite3 (deflated 65%)\n",
            "  adding: content/chroma_db/0b73a7ae-b747-4a33-bb10-4a03fb090c54/ (stored 0%)\n",
            "  adding: content/chroma_db/0b73a7ae-b747-4a33-bb10-4a03fb090c54/length.bin (deflated 100%)\n",
            "  adding: content/chroma_db/0b73a7ae-b747-4a33-bb10-4a03fb090c54/index_metadata.pickle (deflated 50%)\n",
            "  adding: content/chroma_db/0b73a7ae-b747-4a33-bb10-4a03fb090c54/data_level0.bin (deflated 94%)\n",
            "  adding: content/chroma_db/0b73a7ae-b747-4a33-bb10-4a03fb090c54/link_lists.bin (deflated 87%)\n",
            "  adding: content/chroma_db/0b73a7ae-b747-4a33-bb10-4a03fb090c54/header.bin (deflated 57%)\n"
          ]
        }
      ]
    },
    {
      "cell_type": "markdown",
      "source": [
        "# Vector DB 로드"
      ],
      "metadata": {
        "id": "Z-1NNe3edXDv"
      }
    },
    {
      "cell_type": "code",
      "source": [
        "# @title 압축 풀기\n",
        "!unzip /content/chroma_db.zip -d /content/chroma_db"
      ],
      "metadata": {
        "colab": {
          "base_uri": "https://localhost:8080/"
        },
        "id": "GR1Xfs33fbtb",
        "outputId": "55780f48-38ae-40e3-dcbb-a85bf9717338"
      },
      "execution_count": null,
      "outputs": [
        {
          "output_type": "stream",
          "name": "stdout",
          "text": [
            "Archive:  /content/chroma_medications.zip\n",
            "   creating: /content/chroma_medications_db/df8167d2-d336-451e-a06a-10d3ccffcc6d/\n",
            "  inflating: /content/chroma_medications_db/chroma.sqlite3  \n",
            "  inflating: /content/chroma_medications_db/df8167d2-d336-451e-a06a-10d3ccffcc6d/length.bin  \n",
            "  inflating: /content/chroma_medications_db/df8167d2-d336-451e-a06a-10d3ccffcc6d/index_metadata.pickle  \n",
            "  inflating: /content/chroma_medications_db/df8167d2-d336-451e-a06a-10d3ccffcc6d/data_level0.bin  \n",
            "  inflating: /content/chroma_medications_db/df8167d2-d336-451e-a06a-10d3ccffcc6d/link_lists.bin  \n",
            "  inflating: /content/chroma_medications_db/df8167d2-d336-451e-a06a-10d3ccffcc6d/header.bin  \n",
            "Archive:  /content/chroma_alloergies.zip\n",
            "   creating: /content/chroma_alloergies_db/cf098646-18d3-4908-aa14-f1971b317a14/\n",
            "  inflating: /content/chroma_alloergies_db/chroma.sqlite3  \n",
            "  inflating: /content/chroma_alloergies_db/cf098646-18d3-4908-aa14-f1971b317a14/length.bin  \n",
            "  inflating: /content/chroma_alloergies_db/cf098646-18d3-4908-aa14-f1971b317a14/index_metadata.pickle  \n",
            "  inflating: /content/chroma_alloergies_db/cf098646-18d3-4908-aa14-f1971b317a14/data_level0.bin  \n",
            "  inflating: /content/chroma_alloergies_db/cf098646-18d3-4908-aa14-f1971b317a14/link_lists.bin  \n",
            "  inflating: /content/chroma_alloergies_db/cf098646-18d3-4908-aa14-f1971b317a14/header.bin  \n"
          ]
        }
      ]
    },
    {
      "cell_type": "code",
      "source": [
        "from langchain_chroma import Chroma\n",
        "from langchain_upstage import UpstageEmbeddings\n",
        "from langchain.docstore.document import Document\n",
        "\n",
        "# 1️⃣ Embeddings 객체 선언\n",
        "embeddings = UpstageEmbeddings(model=\"embedding-query\")\n",
        "\n",
        "vectorstore = Chroma(\n",
        "    persist_directory=\"/content/chroma_db\",\n",
        "    embedding_function=embeddings\n",
        ")"
      ],
      "metadata": {
        "colab": {
          "base_uri": "https://localhost:8080/"
        },
        "id": "TwZLwE2zn0_w",
        "outputId": "849d65f5-4d95-4cf5-c076-80cb5809a530"
      },
      "execution_count": null,
      "outputs": [
        {
          "output_type": "stream",
          "name": "stderr",
          "text": [
            "ERROR:chromadb.telemetry.product.posthog:Failed to send telemetry event ClientStartEvent: capture() takes 1 positional argument but 3 were given\n",
            "ERROR:chromadb.telemetry.product.posthog:Failed to send telemetry event ClientCreateCollectionEvent: capture() takes 1 positional argument but 3 were given\n",
            "ERROR:chromadb.telemetry.product.posthog:Failed to send telemetry event ClientStartEvent: capture() takes 1 positional argument but 3 were given\n",
            "ERROR:chromadb.telemetry.product.posthog:Failed to send telemetry event ClientCreateCollectionEvent: capture() takes 1 positional argument but 3 were given\n",
            "ERROR:chromadb.telemetry.product.posthog:Failed to send telemetry event ClientStartEvent: capture() takes 1 positional argument but 3 were given\n",
            "ERROR:chromadb.telemetry.product.posthog:Failed to send telemetry event ClientCreateCollectionEvent: capture() takes 1 positional argument but 3 were given\n",
            "ERROR:chromadb.telemetry.product.posthog:Failed to send telemetry event ClientStartEvent: capture() takes 1 positional argument but 3 were given\n",
            "ERROR:chromadb.telemetry.product.posthog:Failed to send telemetry event ClientCreateCollectionEvent: capture() takes 1 positional argument but 3 were given\n",
            "ERROR:chromadb.telemetry.product.posthog:Failed to send telemetry event ClientStartEvent: capture() takes 1 positional argument but 3 were given\n",
            "ERROR:chromadb.telemetry.product.posthog:Failed to send telemetry event ClientCreateCollectionEvent: capture() takes 1 positional argument but 3 were given\n"
          ]
        }
      ]
    },
    {
      "cell_type": "markdown",
      "source": [
        "# LLM 생성"
      ],
      "metadata": {
        "id": "kp81DqS3ECOq"
      }
    },
    {
      "cell_type": "code",
      "source": [
        "# ✅ Dense Retriever 생성\n",
        "# retriever = vectorstore.as_retriever(\n",
        "#     search_type=\"mmr\",\n",
        "#     search_kwargs={\"k\": 5},\n",
        "# )\n",
        "\n",
        "## similarity\n",
        "# retriever = vectorstore.as_retriever(\n",
        "#     search_type=\"similarity_score_threshold\",\n",
        "#     search_kwargs={\"k\": 5, \"score_threshold\": 0.1},\n",
        "# )\n",
        "\n",
        "# print(retriever)\n",
        "\n",
        "results = vectorstore.similarity_search_with_score(query, k=5)\n",
        "\n",
        "for doc, score in results:\n",
        "    print(f\"Score: {score}\")\n",
        "    print(f\"Content: {doc.page_content[:100]}\")\n",
        "    print(\"-\" * 30)\n",
        "\n",
        "# ✅ 사용자의 한국어 질문 예시\n",
        "query = \"환자가 심장이 아프다고 하는데, 어떤 약물을 투약해야 돼.\"\n",
        "\n",
        "# ✅ 검색된 문서 가져오기\n",
        "docs = retriever.invoke(query)\n",
        "\n",
        "# ✅ 한국어 system 프롬프트 정의\n",
        "from langchain_upstage import ChatUpstage\n",
        "from langchain_core.prompts import ChatPromptTemplate\n",
        "from langchain_core.output_parsers import StrOutputParser\n",
        "\n",
        "llm = ChatUpstage()\n",
        "\n",
        "prompt = ChatPromptTemplate.from_messages(\n",
        "    [\n",
        "        (\n",
        "            \"system\",\n",
        "            \"\"\"\n",
        "            당신은 환자 정보 기반으로 약물 투여를 제안하는 한국어 의료 AI 어시스턴트입니다.\n",
        "\n",
        "            아래 CONTEXT는 하나의 통합된 환자 사례 정보로 제공됩니다. 이 정보를 참고하여 전문 의료진에게 전달할 수 있도록 간결하고 핵심적으로 요약해 주세요.\n",
        "\n",
        "            - CONTEXT에 포함되지 않은 내용은 절대 작성하지 마세요. 모르면 \"모른다\"고 명확히 답변하세요.\n",
        "            - 의료진이 빠르게 참고할 수 있도록 문단 형태로 정리하며, 불필요한 수식어는 생략하고 중요한 핵심 정보만 포함하세요.\n",
        "            - 투약 권장 시, 환자의 기본 정보, 진단 질병, 바이탈/검사 결과, 기존 투약 기록, 알러지 정보를 함께 고려해 주세요.\n",
        "            - 환자 ID는 CONTEXT 상단에 이미 명시되어 있으므로 다시 반복하지 마세요.\n",
        "\n",
        "            간결하고 전문적인 톤으로 작성하며, 필요 시 투약 제안 및 주의사항도 포함하세요.\n",
        "            ---\n",
        "            CONTEXT:\n",
        "            {context}\n",
        "            \"\"\",\n",
        "        ),\n",
        "        (\"human\", \"{input}\"),\n",
        "    ]\n",
        ")\n",
        "\n",
        "# ✅ LLM chain 구성\n",
        "chain = prompt | llm | StrOutputParser()\n",
        "\n",
        "# ✅ 최종 chain 호출\n",
        "response = chain.invoke({\"context\": docs, \"input\": query})\n",
        "\n",
        "print(\"\\n💬 AI의 답변:\")\n",
        "print(response)\n"
      ],
      "metadata": {
        "colab": {
          "base_uri": "https://localhost:8080/"
        },
        "id": "E8a4C1MzD_x4",
        "outputId": "282c6e29-33e3-4371-9a74-17b8c99e9c62"
      },
      "execution_count": 133,
      "outputs": [
        {
          "output_type": "stream",
          "name": "stdout",
          "text": [
            "Score: 1.1497232913970947\n",
            "Content: 투약 정보: 환자는 다음 약물을 복용했습니다:\n",
            "0.25 ML Leuprolide Acetate 30 MG/ML Prefilled Syringe을 2018-08-29부터 2018-0\n",
            "------------------------------\n",
            "Score: 1.1588361263275146\n",
            "Content: 투약 정보: 환자는 다음 약물을 복용했습니다:\n",
            "Levothyroxine Sodium 0.075 MG Oral Tablet을 2011-12-26부터 현재까지 총 6회 복용했습니다.\n",
            "\n",
            "------------------------------\n",
            "Score: 1.1630909442901611\n",
            "Content: 투약 정보: 환자는 다음 약물을 복용했습니다:\n",
            "0.4 ML Enoxaparin sodium 100 MG/ML Prefilled Syringe을 2020-10-25부터 2020-10\n",
            "------------------------------\n",
            "Score: 1.1659116744995117\n",
            "Content: 투약 정보: 환자는 다음 약물을 복용했습니다:\n",
            "24 HR metoprolol succinate 100 MG Extended Release Oral Tablet을 1994-09-21\n",
            "------------------------------\n",
            "Score: 1.1663563251495361\n",
            "Content: 투약 정보: 환자는 다음 약물을 복용했습니다:\n",
            "1 ML heparin sodium  porcine 5000 UNT/ML Injection을 2019-02-04부터 2019-02-0\n",
            "------------------------------\n"
          ]
        },
        {
          "output_type": "stream",
          "name": "stderr",
          "text": [
            "WARNING:langchain_core.vectorstores.base:No relevant docs were retrieved using the relevance score threshold 1.2\n"
          ]
        },
        {
          "output_type": "stream",
          "name": "stdout",
          "text": [
            "\n",
            "💬 AI의 답변:\n",
            "제공된 CONTEXT에는 환자의 기본 정보, 진단 질병, 바이탈/검사 결과, 기존 투약 기록, 알러지 정보와 같은 중요한 정보가 포함되어 있지 않습니다. 따라서 환자의 상태를 정확히 파악하고 약물을 제안하기 위해서는 추가적인 정보가 필요합니다. 심장의 통증은 다양한 원인에 의해 발생할 수 있으며, 이에 따라 다른 약물이 처방될 수 있습니다. 예를 들어, 협심증이나 심근경색의 경우 니트로글리세린이나 아스피린과 같은 약물이 필요할 수 있으며, 부정맥의 경우 항부정맥제가 필요할 수 있습니다. 따라서 정확한 진단과 의료진의 평가를 바탕으로 약물 투여가 결정되어야 합니다.\n"
          ]
        }
      ]
    },
    {
      "cell_type": "markdown",
      "source": [
        "# v2 결론\n",
        "\n",
        "## 동작\n",
        "- 5개의 retriever 별로 5개씩 정보 가져옴\n",
        "- context는 5 * 5개의 정보를 통합함\n",
        "- LLM은 context를 토대로 Query에 적절한 답변\n",
        "\n",
        "## 성능\n",
        "- 소요 시간: 8 ~ 10초\n",
        "- 답변 정확도(임의 판단)\n",
        "  - 정보 조합해서 잘 설명하는 것처럼 보임\n",
        "  - 실제 환자 ID를 입력했을 때, 일부 누락됨 (데이터가 있음에도)\n"
      ],
      "metadata": {
        "id": "hXE4BtUn659A"
      }
    }
  ]
}