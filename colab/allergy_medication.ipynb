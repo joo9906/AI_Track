{
  "cells": [
    {
      "cell_type": "markdown",
      "metadata": {
        "id": "0GdzqBNr9KIH"
      },
      "source": [
        "### 필요한 라이브러리 다운로드"
      ]
    },
    {
      "cell_type": "code",
      "execution_count": 63,
      "metadata": {
        "id": "Y8h3AEvE1Hcs"
      },
      "outputs": [],
      "source": [
        "!pip install -qU openai langchain langchain-upstage langchain-chroma getpass4"
      ]
    },
    {
      "cell_type": "markdown",
      "metadata": {
        "id": "SBoAwMCL9a_2"
      },
      "source": [
        "# Upstage API Key 입력"
      ]
    },
    {
      "cell_type": "code",
      "execution_count": 64,
      "metadata": {
        "colab": {
          "base_uri": "https://localhost:8080/"
        },
        "id": "jek4UJ2G9eKX",
        "outputId": "0bfd7cec-ea59-4f61-d2ef-2816a5c7fd5f"
      },
      "outputs": [
        {
          "name": "stdout",
          "output_type": "stream",
          "text": [
            "API key has been set successfully.\n"
          ]
        }
      ],
      "source": [
        "# @title set API key\n",
        "import os\n",
        "import getpass\n",
        "import warnings\n",
        "\n",
        "warnings.filterwarnings(\"ignore\")\n",
        "\n",
        "# Get the Upstage API key using getpass\n",
        "if \"UPSTAGE_API_KEY\" not in os.environ or not os.environ[\"UPSTAGE_API_KEY\"]:\n",
        "    os.environ[\"UPSTAGE_API_KEY\"] = getpass.getpass(\"Enter your Upstage API key: \")\n",
        "\n",
        "print(\"API key has been set successfully.\")"
      ]
    },
    {
      "cell_type": "markdown",
      "metadata": {
        "id": "0IckkW1w_tYq"
      },
      "source": [
        "# csv -> Vector\n",
        "## 문단 리스트 준비"
      ]
    },
    {
      "cell_type": "code",
      "execution_count": 88,
      "metadata": {
        "colab": {
          "base_uri": "https://localhost:8080/"
        },
        "id": "hZ8cZr6yL6Jq",
        "outputId": "f5c5ead6-8e03-4c93-98bd-6dda22b495fe"
      },
      "outputs": [
        {
          "name": "stdout",
          "output_type": "stream",
          "text": [
            "환자 수 (문서 수): 202\n"
          ]
        }
      ],
      "source": [
        "# allergies.csv 읽기 (알러지 반응 기록)\n",
        "from langchain.text_splitter import RecursiveCharacterTextSplitter\n",
        "from langchain.schema import Document\n",
        "import pandas as pd\n",
        "from typing import List\n",
        "df = pd.read_csv(\"allergies.csv\")\n",
        "\n",
        "\n",
        "# 환자별로 그룹화\n",
        "grouped = df.groupby(\"PATIENT\")\n",
        "\n",
        "# 문서 리스트\n",
        "allergy_docs = []\n",
        "\n",
        "for patient_id, group in grouped:\n",
        "    text_lines = []\n",
        "    for _, row in group.iterrows():\n",
        "        # 한 줄 설명 생성\n",
        "        line = (\n",
        "            f\"{row['START'][:10]}부터 현재까지 \"\n",
        "            f\"{row['DESCRIPTION']}({row['CODE']})에 대한 알레르기를 보였습니다. \"\n",
        "            f\"이 알레르기는 {row['CATEGORY']} 카테고리에 속하며, \"\n",
        "            f\"코드 체계는 {row['SYSTEM']}입니다.\"\n",
        "        )\n",
        "        if pd.notnull(row['DESCRIPTION1']):\n",
        "            line += f\" 첫 번째 반응은 {row['DESCRIPTION1']}로, 심각도는 {row['SEVERITY1']}입니다.\"\n",
        "        if pd.notnull(row['DESCRIPTION2']):\n",
        "            line += f\" 두 번째 반응은 {row['DESCRIPTION2']}로, 심각도는 {row['SEVERITY2']}입니다.\"\n",
        "\n",
        "        text_lines.append(line)\n",
        "\n",
        "    # 전체 문서 구성\n",
        "    combined_text = f\"환자 ID: {patient_id[:8]}\\n환자는 다음과 같은 알레르기 반응을 보였습니다:\\n\" + \"\\n\".join(text_lines)\n",
        "\n",
        "    # Document 생성\n",
        "    allergy_docs.append(Document(page_content=combined_text, metadata={\"patient_id\": patient_id[:8], \"table\": \"allergies\"}))\n",
        "\n",
        "print(\"환자 수 (문서 수):\", len(allergy_docs))"
      ]
    },
    {
      "cell_type": "code",
      "execution_count": 104,
      "metadata": {
        "colab": {
          "base_uri": "https://localhost:8080/"
        },
        "id": "brY5Uar-OWM9",
        "outputId": "3a502308-7beb-48ed-ea8c-4bdb130293e0"
      },
      "outputs": [
        {
          "name": "stdout",
          "output_type": "stream",
          "text": [
            "환자 수 (문서 수): 1158\n"
          ]
        }
      ],
      "source": [
        "# medications.csv 읽기 (약물 투여 기록)\n",
        "df = pd.read_csv(\"medications.csv\")\n",
        "\n",
        "# 환자 id 별로 그룹으로 묶을 예정\n",
        "grouped = df.groupby(\"PATIENT\")\n",
        "\n",
        "medication_docs = []\n",
        "for patient_id, group in grouped:\n",
        "    text_lines = []\n",
        "    for _, row in group.iterrows():\n",
        "        line = f\"{row['START'][:10]}부터 {row['STOP'][:10]+'까지' if pd.notnull(row['STOP']) else '현재까지'} \" \\\n",
        "               f\"{row['DESCRIPTION']}을 총 {row['DISPENSES']}회 복용했습니다.\"\n",
        "        text_lines.append(line)\n",
        "    combined_text = f\"환자 ID : {patient_id[:8]}\\n환자는 다음 약물을 복용했습니다:\\n\" + \"\\n\".join(text_lines)\n",
        "    medication_docs.append(Document(page_content=combined_text, metadata={\"patient_id\": patient_id[:8], \"table\" : \"medications\"}))\n",
        "\n",
        "print(\"환자 수 (문서 수):\", len(medication_docs))"
      ]
    },
    {
      "cell_type": "markdown",
      "metadata": {
        "id": "u5DoSL_nAA6e"
      },
      "source": [
        "## Chunking 작업"
      ]
    },
    {
      "cell_type": "code",
      "execution_count": 90,
      "metadata": {
        "colab": {
          "base_uri": "https://localhost:8080/"
        },
        "id": "DeKwWvdAPQNk",
        "outputId": "5a7c0e61-fcdc-433b-c414-fe52d3df531a"
      },
      "outputs": [
        {
          "name": "stdout",
          "output_type": "stream",
          "text": [
            "총 청크 수: 922\n",
            "예시 청크 내용:\n",
            "환자 ID: 01512022\n",
            "환자는 다음과 같은 알레르기 반응을 보였습니다:\n",
            "2004-02-08부터 현재까지 Allergic disposition (finding)(609328004.0)에 대한 알레르기를 보였습니다. 이 알레르기는 environment 카테고리에 속하며, 코드 체계는 SNOMED-CT입니다.\n"
          ]
        }
      ],
      "source": [
        "# allergies.csv\n",
        "allergy_text_splitter = RecursiveCharacterTextSplitter(\n",
        "    chunk_size=250,\n",
        "    chunk_overlap=0\n",
        ")\n",
        "\n",
        "# 청킹 수행\n",
        "allergy_splits = allergy_text_splitter.split_documents(allergy_docs)\n",
        "\n",
        "# 결과 확인\n",
        "print(\"총 청크 수:\", len(allergy_splits))\n",
        "print(\"예시 청크 내용:\")\n",
        "print(allergy_splits[0].page_content)"
      ]
    },
    {
      "cell_type": "code",
      "execution_count": 105,
      "metadata": {
        "colab": {
          "base_uri": "https://localhost:8080/"
        },
        "id": "a3SXcs8YP2RF",
        "outputId": "8f643720-d09e-430d-c1a7-c0ef8ee7acf1"
      },
      "outputs": [
        {
          "name": "stdout",
          "output_type": "stream",
          "text": [
            "총 청크 수: 6207\n",
            "첫 번째 청크 예시:\n",
            "환자 ID : 0063c9a6\n",
            "환자는 다음 약물을 복용했습니다:\n",
            "2000-03-15부터 2001-03-21까지 lisinopril 10 MG Oral Tablet을 총 4회 복용했습니다.\n",
            "2001-01-09부터 2001-02-03까지 Naproxen sodium 220 MG Oral Tablet을 총 1회 복용했습니다.\n",
            "2001-03-21부터 2002-03-27까지 lisinopril 10 MG Oral Tablet을 총 4회 복용했습니다.\n",
            "2001-04-04부터 2001-04-04까지 sodium fluoride 0.0272 MG/MG Oral Gel을 총 1회 복용했습니다.\n",
            "2002-03-27부터 2003-04-02까지 lisinopril 10 MG Oral Tablet을 총 4회 복용했습니다.\n",
            "2003-04-02부터 2004-04-07까지 lisinopril 10 MG Oral Tablet을 총 4회 복용했습니다.\n",
            "2003-04-23부터 2009-05-28까지 Simvastatin 10 MG Oral Tablet을 총 10회 복용했습니다.\n",
            "2004-04-07부터 2005-04-13까지 lisinopril 10 MG Oral Tablet을 총 4회 복용했습니다.\n",
            "2004-04-22부터 2005-05-04까지 Simvastatin 10 MG Oral Tablet을 총 12회 복용했습니다.\n",
            "2004-06-16부터 2004-06-27까지 Penicillin V Potassium 500 MG Oral Tablet을 총 1회 복용했습니다.\n",
            "2005-04-13부터 2006-04-19까지 lisinopril 10 MG Oral Tablet을 총 4회 복용했습니다.\n",
            "2005-05-04부터 2006-05-04까지 Simvastatin 10 MG Oral Tablet을 총 12회 복용했습니다.\n",
            "2006-04-19부터 2007-04-25까지 lisinopril 10 MG Oral Tablet을 총 4회 복용했습니다.\n"
          ]
        }
      ],
      "source": [
        "# medications.csv\n",
        "medication_text_splitter = RecursiveCharacterTextSplitter(\n",
        "    chunk_size= 1000,\n",
        "    chunk_overlap=0\n",
        ")\n",
        "\n",
        "# 청킹 실행\n",
        "medication_splits = medication_text_splitter.split_documents(medication_docs)\n",
        "\n",
        "# 결과 확인\n",
        "print(\"총 청크 수:\", len(medication_splits))\n",
        "print(\"첫 번째 청크 예시:\")\n",
        "print(medication_splits[0].page_content)\n"
      ]
    },
    {
      "cell_type": "markdown",
      "metadata": {
        "id": "mBEbWw6ABJH7"
      },
      "source": [
        "## Plot 시각화"
      ]
    },
    {
      "cell_type": "code",
      "execution_count": 102,
      "metadata": {
        "colab": {
          "base_uri": "https://localhost:8080/",
          "height": 458
        },
        "id": "Ccn5ZUMjQIA-",
        "outputId": "2e7d7e9d-c67b-43b5-cf95-e3222250defa"
      },
      "outputs": [
        {
          "data": {
            "image/png": "[encoded data removed]",
            "text/plain": [
              "<Figure size 640x480 with 1 Axes>"
            ]
          },
          "metadata": {},
          "output_type": "display_data"
        }
      ],
      "source": [
        "import matplotlib.pyplot as plt\n",
        "split_lengths = [len(split.page_content) for split in allergy_splits]\n",
        "\n",
        "plt.bar(range(len(split_lengths)), split_lengths)\n",
        "plt.title(\"RecursiveCharacterTextSplitter\")\n",
        "plt.xlabel(\"Split Index\")\n",
        "plt.ylabel(\"Split Content Length\")\n",
        "plt.xticks(range(len(split_lengths)), [])\n",
        "plt.show()"
      ]
    },
    {
      "cell_type": "code",
      "execution_count": 103,
      "metadata": {
        "colab": {
          "base_uri": "https://localhost:8080/",
          "height": 458
        },
        "id": "VD1ZhurtQ94j",
        "outputId": "16919aae-6d15-4b85-a14c-f4eb0de1eb46"
      },
      "outputs": [
        {
          "data": {
            "image/png": "[encoded data removed]",
            "text/plain": [
              "<Figure size 640x480 with 1 Axes>"
            ]
          },
          "metadata": {},
          "output_type": "display_data"
        }
      ],
      "source": [
        "split_lengths = [len(split.page_content) for split in medication_splits]\n",
        "\n",
        "plt.bar(range(len(split_lengths)), split_lengths)\n",
        "plt.title(\"RecursiveCharacterTextSplitter\")\n",
        "plt.xlabel(\"Split Index\")\n",
        "plt.ylabel(\"Split Content Length\")\n",
        "plt.xticks(range(len(split_lengths)), [])\n",
        "plt.show()"
      ]
    },
    {
      "cell_type": "markdown",
      "metadata": {
        "id": "VELHS6FKBUTX"
      },
      "source": [
        "## Vector DB 저장"
      ]
    },
    {
      "cell_type": "code",
      "execution_count": null,
      "metadata": {
        "id": "sEyksYekJihf"
      },
      "outputs": [],
      "source": [
        "from langchain_chroma import Chroma\n",
        "from langchain_upstage import UpstageEmbeddings\n",
        "from langchain.docstore.document import Document\n",
        "\n",
        "\n",
        "\n",
        "# 1️⃣ Embeddings 객체 선언\n",
        "embeddings = UpstageEmbeddings(model=\"embedding-query\")\n",
        "\n",
        "# 2️⃣ Chroma 벡터 DB 생성 및 문서 삽입\n",
        "patient_vectorstore = Chroma.from_documents(\n",
        "    documents=patient_splits,\n",
        "    embedding=embeddings,\n",
        "    persist_directory=\"./chroma_patients\"\n",
        ")"
      ]
    },
    {
      "cell_type": "code",
      "execution_count": null,
      "metadata": {
        "colab": {
          "base_uri": "https://localhost:8080/"
        },
        "id": "j2SzucMsTuTD",
        "outputId": "0fec9cac-cf31-4581-b309-0dfdf04b4c45"
      },
      "outputs": [
        {
          "name": "stdout",
          "output_type": "stream",
          "text": [
            "Mounted at /content/drive\n"
          ]
        },
        {
          "name": "stderr",
          "output_type": "stream",
          "text": [
            "ERROR:chromadb.telemetry.product.posthog:Failed to send telemetry event ClientStartEvent: capture() takes 1 positional argument but 3 were given\n",
            "ERROR:chromadb.telemetry.product.posthog:Failed to send telemetry event ClientCreateCollectionEvent: capture() takes 1 positional argument but 3 were given\n"
          ]
        }
      ],
      "source": [
        "\n",
        "\n",
        "# allergies.csv\n",
        "allergy_vectorstore = Chroma.from_documents(\n",
        "    documents= allergy_splits,\n",
        "    embedding=embeddings,\n",
        "    persist_directory= \"./chroma_allergies\"\n",
        "\n",
        ")"
      ]
    },
    {
      "cell_type": "code",
      "execution_count": null,
      "metadata": {
        "id": "6c-cPouzJrkF"
      },
      "outputs": [],
      "source": [
        "# 1️⃣ 기존에 잘못된 DB 폴더 제거\n",
        "!rm -rf ./chroma_medications\n",
        "\n",
        "# 2️⃣ 다시 생성 (from_documents → persist까지)\n",
        "medication_vectorstore = Chroma.from_documents(\n",
        "    documents=medication_splits,\n",
        "    embedding=embeddings,\n",
        "    persist_directory=\"/content/chroma_medications\"\n",
        ")\n"
      ]
    },
    {
      "cell_type": "code",
      "execution_count": null,
      "metadata": {
        "id": "vtvKkaU7JZzr"
      },
      "outputs": [],
      "source": [
        "# 파일 다운로드\n",
        "import shutil\n",
        "from google.colab import files\n",
        "\n",
        "# 📁 압축할 폴더 경로 (예: ./saved_chroma_db)\n",
        "folder_path = '/content/chroma_medications'\n",
        "zip_filename = 'chroma_medications.zip'\n",
        "\n",
        "# 📦 폴더를 zip 파일로 압축\n",
        "shutil.make_archive(base_name=zip_filename.replace(\".zip\", \"\"), format='zip', root_dir=folder_path)\n",
        "\n",
        "# ⬇️ zip 파일 다운로드\n",
        "files.download(zip_filename)"
      ]
    },
    {
      "cell_type": "markdown",
      "metadata": {
        "id": "7jkpwg6LkZQ-"
      },
      "source": [
        "# 데이터 불러오기"
      ]
    },
    {
      "cell_type": "code",
      "execution_count": null,
      "metadata": {
        "colab": {
          "base_uri": "https://localhost:8080/"
        },
        "id": "rp7zNvNOkeP3",
        "outputId": "16a502f3-7e16-45e8-ae23-ab742eb89292"
      },
      "outputs": [
        {
          "name": "stderr",
          "output_type": "stream",
          "text": [
            "ERROR:chromadb.telemetry.product.posthog:Failed to send telemetry event ClientStartEvent: capture() takes 1 positional argument but 3 were given\n",
            "ERROR:chromadb.telemetry.product.posthog:Failed to send telemetry event ClientCreateCollectionEvent: capture() takes 1 positional argument but 3 were given\n"
          ]
        }
      ],
      "source": [
        "from langchain_chroma import Chroma\n",
        "from langchain_upstage import UpstageEmbeddings\n",
        "\n",
        "embeddings = UpstageEmbeddings(model=\"embedding-query\")\n",
        "\n",
        "allergy_vectorstore = Chroma(\n",
        "    persist_directory=\"./chroma_allergies_db\",\n",
        "    embedding_function=embeddings\n",
        ")"
      ]
    },
    {
      "cell_type": "code",
      "execution_count": null,
      "metadata": {
        "colab": {
          "base_uri": "https://localhost:8080/"
        },
        "id": "jo9ztew3uyYW",
        "outputId": "da40ea64-053e-4c8c-8c8e-e52da80110f1"
      },
      "outputs": [
        {
          "name": "stderr",
          "output_type": "stream",
          "text": [
            "ERROR:chromadb.telemetry.product.posthog:Failed to send telemetry event ClientStartEvent: capture() takes 1 positional argument but 3 were given\n",
            "ERROR:chromadb.telemetry.product.posthog:Failed to send telemetry event ClientCreateCollectionEvent: capture() takes 1 positional argument but 3 were given\n"
          ]
        }
      ],
      "source": [
        "condition_vectorstore = Chroma(\n",
        "    persist_directory=\"./chroma_conditions_db\",\n",
        "    embedding_function=embeddings\n",
        ")"
      ]
    },
    {
      "cell_type": "code",
      "execution_count": null,
      "metadata": {
        "colab": {
          "base_uri": "https://localhost:8080/"
        },
        "id": "JMBo2J2xu9QS",
        "outputId": "17cd1f33-09c8-4287-dd7d-2f705fa2b233"
      },
      "outputs": [
        {
          "name": "stderr",
          "output_type": "stream",
          "text": [
            "ERROR:chromadb.telemetry.product.posthog:Failed to send telemetry event ClientStartEvent: capture() takes 1 positional argument but 3 were given\n",
            "ERROR:chromadb.telemetry.product.posthog:Failed to send telemetry event ClientCreateCollectionEvent: capture() takes 1 positional argument but 3 were given\n"
          ]
        }
      ],
      "source": [
        "medication_vectorstore = Chroma(\n",
        "    persist_directory=\"./chroma_medications_db\",\n",
        "    embedding_function=embeddings\n",
        ")"
      ]
    },
    {
      "cell_type": "code",
      "execution_count": null,
      "metadata": {
        "colab": {
          "base_uri": "https://localhost:8080/"
        },
        "id": "FysnNY96vR7c",
        "outputId": "02c89f3d-83ec-4a08-a969-8375e0dba4e5"
      },
      "outputs": [
        {
          "name": "stderr",
          "output_type": "stream",
          "text": [
            "ERROR:chromadb.telemetry.product.posthog:Failed to send telemetry event ClientStartEvent: capture() takes 1 positional argument but 3 were given\n",
            "ERROR:chromadb.telemetry.product.posthog:Failed to send telemetry event ClientCreateCollectionEvent: capture() takes 1 positional argument but 3 were given\n"
          ]
        }
      ],
      "source": [
        "observation_vectorstore = Chroma(\n",
        "    persist_directory=\"./chroma_observations_db\",\n",
        "    embedding_function=embeddings\n",
        ")"
      ]
    },
    {
      "cell_type": "code",
      "execution_count": null,
      "metadata": {
        "colab": {
          "base_uri": "https://localhost:8080/"
        },
        "id": "jq02MRATvZIY",
        "outputId": "416775e8-fb40-48bc-846e-54c7113c71e0"
      },
      "outputs": [
        {
          "name": "stderr",
          "output_type": "stream",
          "text": [
            "ERROR:chromadb.telemetry.product.posthog:Failed to send telemetry event ClientStartEvent: capture() takes 1 positional argument but 3 were given\n",
            "ERROR:chromadb.telemetry.product.posthog:Failed to send telemetry event ClientCreateCollectionEvent: capture() takes 1 positional argument but 3 were given\n"
          ]
        }
      ],
      "source": [
        "patient_vectorstore = Chroma(\n",
        "    persist_directory=\"./chroma_patients_db\",\n",
        "    embedding_function=embeddings\n",
        ")"
      ]
    },
    {
      "cell_type": "markdown",
      "metadata": {
        "id": "kp81DqS3ECOq"
      },
      "source": [
        "# LLM 생성"
      ]
    },
    {
      "cell_type": "code",
      "execution_count": null,
      "metadata": {
        "id": "7ppWewTfSgYt"
      },
      "outputs": [],
      "source": [
        "# allergies.csv\n",
        "allergy_retriever = allergy_vectorstore.as_retriever(\n",
        "    search_type='mmr',\n",
        "    search_kwargs={'k': 1},\n",
        "\n",
        ")\n"
      ]
    },
    {
      "cell_type": "code",
      "execution_count": null,
      "metadata": {
        "id": "lVioeRFfwUH9"
      },
      "outputs": [],
      "source": [
        "# conditions.csv\n",
        "condition_retriever = condition_vectorstore.as_retriever(\n",
        "    search_type='similarity',\n",
        "    search_kwargs={'k': 2},\n",
        "\n",
        ")\n"
      ]
    },
    {
      "cell_type": "code",
      "execution_count": null,
      "metadata": {
        "id": "v5j2IKA9VmyV"
      },
      "outputs": [],
      "source": [
        "# medications.csv\n",
        "medication_retriever = medication_vectorstore.as_retriever(\n",
        "    search_type='mmr',\n",
        "    search_kwargs={'k': 3},\n",
        "\n",
        ")\n"
      ]
    },
    {
      "cell_type": "code",
      "execution_count": null,
      "metadata": {
        "id": "zIGVNzNYwbjb"
      },
      "outputs": [],
      "source": [
        "# observations.csv\n",
        "observation_retriever = observation_vectorstore.as_retriever(\n",
        "    search_type='similarity_score_threshold',\n",
        "    search_kwargs={'k': 10, 'score_threshold':0.5},\n",
        "\n",
        ")\n"
      ]
    },
    {
      "cell_type": "code",
      "execution_count": null,
      "metadata": {
        "id": "erO9paWsciup"
      },
      "outputs": [],
      "source": [
        "# patients.csv\n",
        "patient_retriever = patient_vectorstore.as_retriever(\n",
        "    search_type='similarity',\n",
        "    search_kwargs={'k': 1},\n",
        "\n",
        ")\n"
      ]
    },
    {
      "cell_type": "code",
      "execution_count": null,
      "metadata": {
        "id": "Jo3rwPhCco59"
      },
      "outputs": [],
      "source": [
        "# ✅ 사용자의 한국어 질문 예시\"\n",
        "#query = \"28세 남성이 축구 경기 중 쇄골 골절을 입었다. 수술적 치료를 받은 후 가장 흔히 발생할 수 있는 하드웨어 관련 합병증은 무엇인가?  \\n1) 혈전 형성  \\n2) 하드웨어 돌출 및 불편감  \\n3) 신경 손상  \\n4) 폐 손상  \\n5) 감염\""
      ]
    },
    {
      "cell_type": "code",
      "execution_count": null,
      "metadata": {
        "colab": {
          "base_uri": "https://localhost:8080/",
          "height": 219
        },
        "id": "E8a4C1MzD_x4",
        "outputId": "5e6cb7fd-ff73-43eb-d3c3-27d60f52d083"
      },
      "outputs": [
        {
          "ename": "NameError",
          "evalue": "name 'my_queries' is not defined",
          "output_type": "error",
          "traceback": [
            "\u001b[0;31m---------------------------------------------------------------------------\u001b[0m",
            "\u001b[0;31mNameError\u001b[0m                                 Traceback (most recent call last)",
            "\u001b[0;32m/tmp/ipython-input-62-169382075.py\u001b[0m in \u001b[0;36m<cell line: 0>\u001b[0;34m()\u001b[0m\n\u001b[1;32m     44\u001b[0m \u001b[0mchain\u001b[0m \u001b[0;34m=\u001b[0m \u001b[0mprompt\u001b[0m \u001b[0;34m|\u001b[0m \u001b[0mllm\u001b[0m \u001b[0;34m|\u001b[0m \u001b[0mStrOutputParser\u001b[0m\u001b[0;34m(\u001b[0m\u001b[0;34m)\u001b[0m\u001b[0;34m\u001b[0m\u001b[0;34m\u001b[0m\u001b[0m\n\u001b[1;32m     45\u001b[0m \u001b[0;34m\u001b[0m\u001b[0m\n\u001b[0;32m---> 46\u001b[0;31m \u001b[0;32mfor\u001b[0m \u001b[0mquery\u001b[0m \u001b[0;32min\u001b[0m \u001b[0mmy_queries\u001b[0m\u001b[0;34m:\u001b[0m\u001b[0;34m\u001b[0m\u001b[0;34m\u001b[0m\u001b[0m\n\u001b[0m\u001b[1;32m     47\u001b[0m \u001b[0;34m\u001b[0m\u001b[0m\n\u001b[1;32m     48\u001b[0m     \u001b[0mallergy_docs\u001b[0m \u001b[0;34m=\u001b[0m \u001b[0mallergy_retriever\u001b[0m\u001b[0;34m.\u001b[0m\u001b[0minvoke\u001b[0m\u001b[0;34m(\u001b[0m\u001b[0mquery\u001b[0m\u001b[0;34m)\u001b[0m\u001b[0;34m\u001b[0m\u001b[0;34m\u001b[0m\u001b[0m\n",
            "\u001b[0;31mNameError\u001b[0m: name 'my_queries' is not defined"
          ]
        }
      ],
      "source": [
        "\n",
        "# ✅ 검색된 문서 가져오기\n",
        "questions = []\n",
        "answers = []\n",
        "contexts = []\n",
        "\n",
        "# ✅ 한국어 system 프롬프트 정의\n",
        "from langchain_upstage import ChatUpstage\n",
        "from langchain_core.prompts import ChatPromptTemplate\n",
        "from langchain_core.output_parsers import StrOutputParser\n",
        "\n",
        "llm = ChatUpstage()\n",
        "\n",
        "prompt = ChatPromptTemplate.from_messages(\n",
        "    [\n",
        "        (\n",
        "            \"system\",\n",
        "            \"\"\"\n",
        "                당신은 환자 정보에 대한 질문에 친절히 답변하는 한국어 의료 AI 어시스턴트입니다.\n",
        "                아래 CONTEXT 정보를 참고하여 환자 정보를 자연스럽고 이해하기 쉽게 한국어로 풀어서 설명해 주세요.\n",
        "                CONTEXT 정보는 총 5가지로 제공됩니다. 각각은 순서대로 환자 기본 정보, 진단된 질병 정보, 약물 투약 기록, 알레르기 반응 기록, 바이탈 수치 및 검사 결과입니다.\n",
        "                같은 환자의 정보를 PATIENT_ID 기준으로 연결해서 참고하세요.\n",
        "                만약 해당 환자에 대한 직접적인 정보가 없을 경우, 유사한 환자의 사례를 바탕으로 설명해 주세요.\n",
        "                답변은 다음 지침에 따라 작성해 주세요:\n",
        "\n",
        "                - 질문자의 상태에 가장 유사한 환자 사례를 바탕으로 설명해 주세요.\n",
        "                - 특정 질환이나 증상에 대해, 유사 환자들이 어떤 진단과 약물 처방을 받았는지 자연스럽게 제안하는 형태로 작성해 주세요.\n",
        "                    - 예:“이와 비슷한 환자의 경우, 항히스타민제인 로라타딘을 복용한 사례가 있습니다.”\n",
        "                - 약물 이름, 질병명, 검사 항목 등 영어 표현이 포함된 경우 한국어로 병기하고, 필요시 쉬운 설명을 덧붙여 주세요.\n",
        "                - 응답은 의료진이 환자에게 설명하듯 부드럽고 자연스럽게 작성해 주세요.\n",
        "                - 문장은 단정 짓기보다는“~할 수 있습니다\" , \"~가 도움이 될 수 있습니다\"처럼 제안형으로 작성해 주세요.\n",
        "                - 너무 긴 목록은 피하고, 중요한 정보를 중심으로 요약해 주세요.\n",
        "                - 정보가 부족하거나 모르는 경우에는 솔직하게 “정확한 정보가 없어 말씀드리기 어렵습니다”라고 알려 주세요.\n",
        "\n",
        "            ---\n",
        "            CONTEXT:\n",
        "            {context}\n",
        "            \"\"\",\n",
        "        ),\n",
        "        (\"human\", \"{input}\"),\n",
        "    ]\n",
        ")\n",
        "\n",
        "# ✅ LLM chain 구성\n",
        "chain = prompt | llm | StrOutputParser()\n",
        "\n",
        "my_queries = [\n",
        "    \"Duchenne muscular dystrophy(DMD) 환자에서 보조기와 기립 장치의 효과를 평가하기 위한 연구의 필요성에 대한 이유로 가장 적절한 것은?  \\n1) DMD 환자의 골밀도 감소 예방에 대한 효과가 아직 명확히 확립되지 않았다.  \\n2) 기립 장치 사용이 DMD 환자의 삶의 질 향상에 미치는 영향이 충분히 연구되지 않았다.  \\n3) 현재 DMD 환자에서 기립 장치의 효과를 평가한 무작위 대조 연구(RCT)가 부족하다.  \\n4) 보조기의 사용이 DMD 환자의 스콜리오시스 발달에 미치는 영향을 명확히 규명할 필요가 있다.  \\n5) DMD 환자에서 기립 장치의 사용이 근골격계 통증을 유발하는지에 대한 근거가 부족하다.\",\n",
        "    \"만성 원발성 요통 환자에게 제공할 수 있는 비약물적 중재로 '구조화된 운동 요법'이 권장되는 주요 이유는 무엇인가?  \\n1) 체중 관리에 효과적이기 때문  \\n2) 통증을 완화하고 신체 기능을 개선하기 때문  \\n3) 빠른 통증 완화를 제공하기 때문  \\n4) 수술적 개입을 피하기 때문  \\n5) 심리적 스트레스를 줄이기 때문\",\n",
        "    \"28세 남성이 축구 경기 중 쇄골 골절을 입었다. 수술적 치료를 받은 후 가장 흔히 발생할 수 있는 하드웨어 관련 합병증은 무엇인가?  \\n1) 혈전 형성  \\n2) 하드웨어 돌출 및 불편감  \\n3) 신경 손상  \\n4) 폐 손상  \\n5) 감염\"\n",
        "\n",
        "\n",
        "]\n",
        "\n",
        "\n",
        "for query in my_queries:\n",
        "\n",
        "    allergy_docs = allergy_retriever.invoke(query)\n",
        "\n",
        "    condition_docs = condition_retriever.invoke(query)\n",
        "\n",
        "    medication_docs = medication_retriever.invoke(query)\n",
        "\n",
        "    observation_docs = observation_retriever.invoke(query)\n",
        "\n",
        "    patient_docs = patient_retriever.invoke(query)\n",
        "\n",
        "# all_context = \"\\n\".join([\n",
        "#     doc.page_content for doc in ( allergy_docs + condition_docs + medication_docs + observation_docs + patient_docs)\n",
        "# ])\n",
        "# all_context = \"\\n\".join([\n",
        "#     doc.page_content for doc in (patient_docs)\n",
        "# ])\n",
        "\n",
        "    all_docs_sorted = patient_docs + condition_docs + medication_docs + allergy_docs + observation_docs\n",
        "    context_list = [doc.page_content for doc in all_docs_sorted]\n",
        "    context_str = \"\\n\".join(context_list)\n",
        "\n",
        "\n",
        "\n",
        "# ✅ 최종 chain 호출\n",
        "    response = chain.invoke({\"context\": context_str, \"input\": query})\n",
        "    questions.append(query)\n",
        "    answers.append(response)\n",
        "    contexts.append(context_list)\n",
        "# print(\"\\n💬 AI의 답변:\")\n",
        "# print(response)\n"
      ]
    },
    {
      "cell_type": "markdown",
      "metadata": {
        "id": "oXg7hr5VEhHh"
      },
      "source": [
        "TMI: 여기까지 돌리는 데 Billing 0.05$ 사용\n",
        "### Now What?\n",
        "GPT 추천:\n",
        "# ✅ 💡 선택지 크게 두 가지\n",
        "\n",
        "## 🅰️ **전부 조인 후 넣기 (One big chunk)**\n",
        "\n",
        "### ✔️ 장점\n",
        "\n",
        "* 환자 한 명에 대한 정보가 하나의 청크에 모두 담김 → 질문할 때 정확한 컨텍스트 제공\n",
        "* 질병, 약물, 투약 주의사항 등을 한 번에 설명하기 쉬움\n",
        "\n",
        "### ❌ 단점\n",
        "\n",
        "* row 폭발 (조인한 경우 레코드 수 \\* 약물 수 \\* 진단 수 …)\n",
        "* 청크가 너무 커짐 → 나눠야 할 때 문맥이 깨짐\n",
        "* 관리/업데이트 어려움\n",
        "\n",
        "---\n",
        "\n",
        "## 🅱️ **테이블별로 분리, Retriever에서 동적 컨텍스트 결합 (멀티-벡터 전략)**\n",
        "\n",
        "### ✔️ 장점\n",
        "\n",
        "* 각 테이블 정보 독립적으로 유지\n",
        "* 스케일 확장 유리 (예: 약물 DB 업데이트, 질환 DB 변경 등)\n",
        "* Retriever 단계에서 동적으로 \"다중 소스\" 컨텍스트 결합 가능\n",
        "\n",
        "### ❌ 단점\n",
        "\n",
        "* QA 정확도를 높이려면 \"적절한 컨텍스트 조합 로직\" 필요\n",
        "* LLM 프롬프트 설계가 복잡\n",
        "\n",
        "---\n",
        "\n",
        "# ✅ 💡 현업과 연구에서 많이 쓰는 전략: **멀티-벡터 & 멀티-Retriever 방식**\n",
        "\n",
        "### 💡 구조\n",
        "\n",
        "```\n",
        "[벡터 DB A] ← 환자 정보 테이블 (예: Patient Demographics)\n",
        "[벡터 DB B] ← 질병 정보 테이블 (예: Diagnoses)\n",
        "[벡터 DB C] ← 약물 정보 테이블 (예: Medications)\n",
        "```\n",
        "\n",
        "---\n",
        "\n",
        "## ✅ 1️⃣ 각 테이블별로 개별 벡터 DB 구축\n",
        "\n",
        "* 각 테이블 row 단위로 Document 생성 → 독립 embedding\n",
        "* 예:\n",
        "\n",
        "```python\n",
        "patient_docs = [Document(page_content=\"환자 A: 60세, 남성, 당뇨, 고혈압\", metadata={\"patient_id\": \"A\"})]\n",
        "diagnosis_docs = [Document(page_content=\"환자 A: 진단명: 당뇨병, HbA1c: 8.5%\", metadata={\"patient_id\": \"A\"})]\n",
        "medication_docs = [Document(page_content=\"환자 A: 메트포르민 투약 중\", metadata={\"patient_id\": \"A\"})]\n",
        "```\n",
        "\n",
        "---\n",
        "\n",
        "## ✅ 2️⃣ Retriever 여러 개 선언\n",
        "\n",
        "```python\n",
        "patient_retriever = patient_vectorstore.as_retriever(search_kwargs={'k': 1})\n",
        "diagnosis_retriever = diagnosis_vectorstore.as_retriever(search_kwargs={'k': 1})\n",
        "medication_retriever = medication_vectorstore.as_retriever(search_kwargs={'k': 1})\n",
        "```\n",
        "\n",
        "---\n",
        "\n",
        "## ✅ 3️⃣ 질문 시, **각 Retriever에서 병렬 검색 → 결과 컨텍스트 합침**\n",
        "\n",
        "```python\n",
        "patient_docs = patient_retriever.invoke(query)\n",
        "diagnosis_docs = diagnosis_retriever.invoke(query)\n",
        "medication_docs = medication_retriever.invoke(query)\n",
        "\n",
        "all_context = \"\\n\".join([\n",
        "    doc.page_content for doc in (patient_docs + diagnosis_docs + medication_docs)\n",
        "])\n",
        "```\n",
        "\n",
        "---\n",
        "\n",
        "## ✅ 4️⃣ LLM에 합쳐진 context 전달\n",
        "\n",
        "```python\n",
        "response = chain.invoke({\"context\": all_context, \"input\": query})\n",
        "```\n",
        "\n",
        "---\n",
        "\n",
        "# ✅ 💬 **실제 사용 시 포인트**\n",
        "\n",
        "| 고려 사항         | 내용                                                                      |\n",
        "| ------------- | ----------------------------------------------------------------------- |\n",
        "| ✅ 컨텍스트 길이     | 여러 테이블 합치면 길어질 수 있음 → 필요하면 각 테이블에서 `k` 값을 줄이거나 요약 추가                    |\n",
        "| ✅ metadata 활용 | `patient_id`, `diagnosis_id` 등으로 cross-link → 필터 기반 검색 강화 가능            |\n",
        "| ✅ 프롬프트 설계     | \"아래에 환자 기본정보, 질병정보, 약물정보가 있습니다. 이 환자에게 적합한 약물과 투약 시 주의사항을 종합적으로 알려주세요.\" |\n",
        "\n",
        "---\n",
        "\n",
        "# ✅ ✅ 💡 **요약**\n",
        "\n",
        "### 💡 다 조인? ❌\n",
        "\n",
        "* 데이터 폭발, 관리 불가\n",
        "\n",
        "### 💡 테이블별 분리 & Retriever에서 조합? ✅\n",
        "\n",
        "* 유연, scalable, 관리 쉽고, 정확도 높음\n",
        "\n",
        "---"
      ]
    },
    {
      "cell_type": "code",
      "execution_count": null,
      "metadata": {
        "id": "f0653231"
      },
      "outputs": [],
      "source": [
        "!rm -rf chroma_medications  # 잘못된 DB 폴더 삭제\n",
        "!mkdir chroma_medications"
      ]
    }
  ],
  "metadata": {
    "colab": {
      "provenance": []
    },
    "kernelspec": {
      "display_name": "Python 3",
      "name": "python3"
    },
    "language_info": {
      "name": "python"
    }
  },
  "nbformat": 4,
  "nbformat_minor": 0
}
