{
  "nbformat": 4,
  "nbformat_minor": 0,
  "metadata": {
    "colab": {
      "provenance": []
    },
    "kernelspec": {
      "name": "python3",
      "display_name": "Python 3"
    },
    "language_info": {
      "name": "python"
    }
  },
  "cells": [
    {
      "cell_type": "code",
      "source": [
        "# medications.csv 읽기 (약물 복용 기록)\n",
        "import pandas as pd\n",
        "from langchain.schema import Document\n",
        "\n",
        "df = pd.read_csv(\"medications.csv\")\n",
        "df[\"START\"] = pd.to_datetime(df[\"START\"])\n",
        "df[\"STOP\"] = pd.to_datetime(df[\"STOP\"], errors=\"coerce\")\n",
        "\n",
        "grouped = df.groupby(\"PATIENT\")\n",
        "medication_docs = []\n",
        "\n",
        "for patient_id, group in grouped:\n",
        "    med_grouped = group.groupby(\"DESCRIPTION\")\n",
        "    text_lines = []\n",
        "\n",
        "    for description, med_subgroup in med_grouped:\n",
        "        earliest = med_subgroup[\"START\"].min()\n",
        "        latest = med_subgroup[\"STOP\"].max() if med_subgroup[\"STOP\"].notnull().any() else None\n",
        "        total_dispenses = med_subgroup[\"DISPENSES\"].sum()\n",
        "\n",
        "        start_str = earliest.strftime(\"%Y-%m\")\n",
        "        if latest is None:\n",
        "            period_str = f\"{start_str} ~ \"\n",
        "        else:\n",
        "            stop_str = latest.strftime(\"%Y-%m\")\n",
        "            period_str = start_str if start_str == stop_str else f\"{start_str} ~ {stop_str}\"\n",
        "\n",
        "        text_lines.append(f\"- {description}: {period_str}, 총 {total_dispenses}회\")\n",
        "\n",
        "    combined_text = f\"환자 ID: {patient_id[:8]}\\n환자는 다음 약물을 복용했습니다:\\n\" + \"\\n\".join(text_lines)\n",
        "    medication_docs.append(Document(page_content=combined_text, metadata={\"patient_id\": patient_id[:8], \"table\": \"medications\"}))\n",
        "\n",
        "print(\"환자 수 (문서 수):\", len(medication_docs))\n",
        "print(\"예시 문서:\\n\", medication_docs[0].page_content)\n"
      ],
      "metadata": {
        "id": "Y1AMYBBH1GvP"
      },
      "execution_count": null,
      "outputs": []
    },
    {
      "cell_type": "code",
      "source": [
        "# allergies.csv 읽기 (알러지 반응 기록)\n",
        "from langchain.text_splitter import RecursiveCharacterTextSplitter\n",
        "from langchain.schema import Document\n",
        "import pandas as pd\n",
        "from typing import List\n",
        "df = pd.read_csv(\"allergies.csv\")\n",
        "\n",
        "\n",
        "# 환자별로 그룹화\n",
        "grouped = df.groupby(\"PATIENT\")\n",
        "\n",
        "# 문서 리스트\n",
        "allergy_docs = []\n",
        "\n",
        "for patient_id, group in grouped:\n",
        "    text_lines = []\n",
        "    for _, row in group.iterrows():\n",
        "        # 한 줄 설명 생성\n",
        "        line = (\n",
        "            f\"{row['DESCRIPTION']}\"\n",
        "        )\n",
        "\n",
        "        text_lines.append(line)\n",
        "\n",
        "    # 전체 문서 구성\n",
        "    combined_text = f\"환자 ID: {patient_id[:8]}\\n환자는 다음과 같은 알레르기 반응을 보였습니다:\\n\" + \"\\n\".join(text_lines)\n",
        "\n",
        "    # Document 생성\n",
        "    allergy_docs.append(Document(page_content=combined_text, metadata={\"patient_id\": patient_id[:8], \"table\": \"allergies\"}))\n",
        "\n",
        "print(\"환자 수 (문서 수):\", len(allergy_docs))\n",
        "print(\"예시 문서:\\n\", allergy_docs[0].page_content)"
      ],
      "metadata": {
        "id": "jeJB8FDl1OxA"
      },
      "execution_count": null,
      "outputs": []
    }
  ]
}