{
  "nbformat": 4,
  "nbformat_minor": 0,
  "metadata": {
    "colab": {
      "provenance": []
    },
    "kernelspec": {
      "name": "python3",
      "display_name": "Python 3"
    },
    "language_info": {
      "name": "python"
    }
  },
  "cells": [
    {
      "cell_type": "markdown",
      "source": [
        "### 필요한 라이브러리 다운로드"
      ],
      "metadata": {
        "id": "0GdzqBNr9KIH"
      }
    },
    {
      "cell_type": "code",
      "execution_count": 1,
      "metadata": {
        "id": "Y8h3AEvE1Hcs",
        "colab": {
          "base_uri": "https://localhost:8080/"
        },
        "outputId": "b8d0ae7a-edec-40d0-bdc4-b4706b58b219"
      },
      "outputs": [
        {
          "output_type": "stream",
          "name": "stdout",
          "text": [
            "  Preparing metadata (setup.py) ... \u001b[?25l\u001b[?25hdone\n",
            "\u001b[2K     \u001b[90m━━━━━━━━━━━━━━━━━━━━━━━━━━━━━━━━━━━━━━━━\u001b[0m \u001b[32m67.3/67.3 kB\u001b[0m \u001b[31m5.1 MB/s\u001b[0m eta \u001b[36m0:00:00\u001b[0m\n",
            "\u001b[?25h  Installing build dependencies ... \u001b[?25l\u001b[?25hdone\n",
            "  Getting requirements to build wheel ... \u001b[?25l\u001b[?25hdone\n",
            "  Preparing metadata (pyproject.toml) ... \u001b[?25l\u001b[?25hdone\n",
            "\u001b[2K   \u001b[90m━━━━━━━━━━━━━━━━━━━━━━━━━━━━━━━━━━━━━━━━\u001b[0m \u001b[32m755.0/755.0 kB\u001b[0m \u001b[31m29.1 MB/s\u001b[0m eta \u001b[36m0:00:00\u001b[0m\n",
            "\u001b[2K   \u001b[90m━━━━━━━━━━━━━━━━━━━━━━━━━━━━━━━━━━━━━━━━\u001b[0m \u001b[32m19.3/19.3 MB\u001b[0m \u001b[31m95.1 MB/s\u001b[0m eta \u001b[36m0:00:00\u001b[0m\n",
            "\u001b[2K   \u001b[90m━━━━━━━━━━━━━━━━━━━━━━━━━━━━━━━━━━━━━━━━\u001b[0m \u001b[32m70.4/70.4 kB\u001b[0m \u001b[31m6.5 MB/s\u001b[0m eta \u001b[36m0:00:00\u001b[0m\n",
            "\u001b[2K   \u001b[90m━━━━━━━━━━━━━━━━━━━━━━━━━━━━━━━━━━━━━━━━\u001b[0m \u001b[32m295.8/295.8 kB\u001b[0m \u001b[31m27.3 MB/s\u001b[0m eta \u001b[36m0:00:00\u001b[0m\n",
            "\u001b[2K   \u001b[90m━━━━━━━━━━━━━━━━━━━━━━━━━━━━━━━━━━━━━━━━\u001b[0m \u001b[32m3.6/3.6 MB\u001b[0m \u001b[31m91.8 MB/s\u001b[0m eta \u001b[36m0:00:00\u001b[0m\n",
            "\u001b[2K   \u001b[90m━━━━━━━━━━━━━━━━━━━━━━━━━━━━━━━━━━━━━━━━\u001b[0m \u001b[32m284.2/284.2 kB\u001b[0m \u001b[31m23.9 MB/s\u001b[0m eta \u001b[36m0:00:00\u001b[0m\n",
            "\u001b[2K   \u001b[90m━━━━━━━━━━━━━━━━━━━━━━━━━━━━━━━━━━━━━━━━\u001b[0m \u001b[32m1.9/1.9 MB\u001b[0m \u001b[31m79.8 MB/s\u001b[0m eta \u001b[36m0:00:00\u001b[0m\n",
            "\u001b[2K   \u001b[90m━━━━━━━━━━━━━━━━━━━━━━━━━━━━━━━━━━━━━━━━\u001b[0m \u001b[32m101.6/101.6 kB\u001b[0m \u001b[31m9.0 MB/s\u001b[0m eta \u001b[36m0:00:00\u001b[0m\n",
            "\u001b[2K   \u001b[90m━━━━━━━━━━━━━━━━━━━━━━━━━━━━━━━━━━━━━━━━\u001b[0m \u001b[32m16.4/16.4 MB\u001b[0m \u001b[31m64.1 MB/s\u001b[0m eta \u001b[36m0:00:00\u001b[0m\n",
            "\u001b[2K   \u001b[90m━━━━━━━━━━━━━━━━━━━━━━━━━━━━━━━━━━━━━━━━\u001b[0m \u001b[32m65.8/65.8 kB\u001b[0m \u001b[31m6.1 MB/s\u001b[0m eta \u001b[36m0:00:00\u001b[0m\n",
            "\u001b[2K   \u001b[90m━━━━━━━━━━━━━━━━━━━━━━━━━━━━━━━━━━━━━━━━\u001b[0m \u001b[32m55.7/55.7 kB\u001b[0m \u001b[31m4.7 MB/s\u001b[0m eta \u001b[36m0:00:00\u001b[0m\n",
            "\u001b[2K   \u001b[90m━━━━━━━━━━━━━━━━━━━━━━━━━━━━━━━━━━━━━━━━\u001b[0m \u001b[32m118.5/118.5 kB\u001b[0m \u001b[31m10.6 MB/s\u001b[0m eta \u001b[36m0:00:00\u001b[0m\n",
            "\u001b[2K   \u001b[90m━━━━━━━━━━━━━━━━━━━━━━━━━━━━━━━━━━━━━━━━\u001b[0m \u001b[32m196.2/196.2 kB\u001b[0m \u001b[31m17.1 MB/s\u001b[0m eta \u001b[36m0:00:00\u001b[0m\n",
            "\u001b[2K   \u001b[90m━━━━━━━━━━━━━━━━━━━━━━━━━━━━━━━━━━━━━━━━\u001b[0m \u001b[32m105.0/105.0 kB\u001b[0m \u001b[31m9.3 MB/s\u001b[0m eta \u001b[36m0:00:00\u001b[0m\n",
            "\u001b[2K   \u001b[90m━━━━━━━━━━━━━━━━━━━━━━━━━━━━━━━━━━━━━━━━\u001b[0m \u001b[32m71.2/71.2 kB\u001b[0m \u001b[31m6.3 MB/s\u001b[0m eta \u001b[36m0:00:00\u001b[0m\n",
            "\u001b[2K   \u001b[90m━━━━━━━━━━━━━━━━━━━━━━━━━━━━━━━━━━━━━━━━\u001b[0m \u001b[32m459.8/459.8 kB\u001b[0m \u001b[31m16.7 MB/s\u001b[0m eta \u001b[36m0:00:00\u001b[0m\n",
            "\u001b[2K   \u001b[90m━━━━━━━━━━━━━━━━━━━━━━━━━━━━━━━━━━━━━━━━\u001b[0m \u001b[32m4.0/4.0 MB\u001b[0m \u001b[31m87.0 MB/s\u001b[0m eta \u001b[36m0:00:00\u001b[0m\n",
            "\u001b[2K   \u001b[90m━━━━━━━━━━━━━━━━━━━━━━━━━━━━━━━━━━━━━━━━\u001b[0m \u001b[32m453.1/453.1 kB\u001b[0m \u001b[31m19.0 MB/s\u001b[0m eta \u001b[36m0:00:00\u001b[0m\n",
            "\u001b[2K   \u001b[90m━━━━━━━━━━━━━━━━━━━━━━━━━━━━━━━━━━━━━━━━\u001b[0m \u001b[32m46.0/46.0 kB\u001b[0m \u001b[31m4.0 MB/s\u001b[0m eta \u001b[36m0:00:00\u001b[0m\n",
            "\u001b[2K   \u001b[90m━━━━━━━━━━━━━━━━━━━━━━━━━━━━━━━━━━━━━━━━\u001b[0m \u001b[32m86.8/86.8 kB\u001b[0m \u001b[31m7.5 MB/s\u001b[0m eta \u001b[36m0:00:00\u001b[0m\n",
            "\u001b[?25h  Building wheel for clipboard (setup.py) ... \u001b[?25l\u001b[?25hdone\n",
            "  Building wheel for pypika (pyproject.toml) ... \u001b[?25l\u001b[?25hdone\n",
            "\u001b[31mERROR: pip's dependency resolver does not currently take into account all the packages that are installed. This behaviour is the source of the following dependency conflicts.\n",
            "transformers 4.52.4 requires tokenizers<0.22,>=0.21, but you have tokenizers 0.19.1 which is incompatible.\u001b[0m\u001b[31m\n",
            "\u001b[0m"
          ]
        }
      ],
      "source": [
        "!pip install -qU openai langchain langchain-upstage langchain-chroma getpass4"
      ]
    },
    {
      "cell_type": "markdown",
      "source": [
        "# Upstage API Key 입력"
      ],
      "metadata": {
        "id": "SBoAwMCL9a_2"
      }
    },
    {
      "cell_type": "code",
      "source": [
        "# @title set API key\n",
        "import os\n",
        "import getpass\n",
        "import warnings\n",
        "\n",
        "warnings.filterwarnings(\"ignore\")\n",
        "\n",
        "# Get the Upstage API key using getpass\n",
        "if \"UPSTAGE_API_KEY\" not in os.environ or not os.environ[\"UPSTAGE_API_KEY\"]:\n",
        "    os.environ[\"UPSTAGE_API_KEY\"] = getpass.getpass(\"Enter your Upstage API key: \")\n",
        "\n",
        "print(\"API key has been set successfully.\")"
      ],
      "metadata": {
        "colab": {
          "base_uri": "https://localhost:8080/"
        },
        "id": "jek4UJ2G9eKX",
        "outputId": "e9a94131-3dd4-4d7e-f1b5-6f60df9054f6"
      },
      "execution_count": 2,
      "outputs": [
        {
          "output_type": "stream",
          "name": "stdout",
          "text": [
            "Enter your Upstage API key: ··········\n",
            "API key has been set successfully.\n"
          ]
        }
      ]
    },
    {
      "cell_type": "markdown",
      "source": [
        "# csv -> Vector\n",
        "## 문단 리스트 준비"
      ],
      "metadata": {
        "id": "0IckkW1w_tYq"
      }
    },
    {
      "cell_type": "code",
      "source": [
        "from langchain.text_splitter import RecursiveCharacterTextSplitter\n",
        "from langchain.schema import Document\n",
        "import pandas as pd\n",
        "from typing import List"
      ],
      "metadata": {
        "id": "Hm_2rLOW_xHx"
      },
      "execution_count": 3,
      "outputs": []
    },
    {
      "cell_type": "code",
      "source": [
        "#측정값 8000개 넘는 항목만 리스트화\n",
        "import pandas as pd\n",
        "\n",
        "# CSV 파일 읽기\n",
        "df = pd.read_csv('/content/filter_obervation.csv')\n",
        "\n",
        "# 빈 딕셔너리 생성\n",
        "description_counts = {}\n",
        "\n",
        "# 각 row를 돌면서 세기\n",
        "for desc in df['DESCRIPTION']:\n",
        "    if desc in description_counts:\n",
        "        description_counts[desc] += 1\n",
        "    else:\n",
        "        description_counts[desc] = 1\n",
        "\n",
        "# 등장 수 기준으로 정렬 (내림차순)\n",
        "sorted_counts = sorted(description_counts.items(), key=lambda x: x[1], reverse=True)\n",
        "\n",
        "# 정렬된 결과 출력\n",
        "for description, count in sorted_counts:\n",
        "    print(f\"{description} : {count}번\")\n"
      ],
      "metadata": {
        "colab": {
          "base_uri": "https://localhost:8080/"
        },
        "id": "wBX5ZKP7NEft",
        "outputId": "d38e9588-b915-4833-9bea-21343203fab1"
      },
      "execution_count": 4,
      "outputs": [
        {
          "output_type": "stream",
          "name": "stdout",
          "text": [
            "Diastolic Blood Pressure : 17939번\n",
            "Systolic Blood Pressure : 17939번\n",
            "Body Weight : 16838번\n",
            "Heart rate : 16300번\n",
            "Respiratory rate : 16300번\n",
            "Body mass index (BMI) [Ratio] : 14999번\n",
            "Glomerular filtration rate/1.73 sq M.predicted [Volume Rate/Area] in Serum or Plasma by Creatinine-based formula (MDRD) : 13682번\n",
            "Glucose [Mass/volume] in Blood : 10844번\n",
            "Urea nitrogen [Mass/volume] in Blood : 10844번\n",
            "Creatinine [Mass/volume] in Blood : 10844번\n",
            "Calcium [Mass/volume] in Blood : 10844번\n",
            "Sodium [Moles/volume] in Blood : 10844번\n",
            "Potassium [Moles/volume] in Blood : 10844번\n",
            "Chloride [Moles/volume] in Blood : 10844번\n",
            "Carbon dioxide  total [Moles/volume] in Blood : 10844번\n",
            "Weight difference [Mass difference] --pre dialysis - post dialysis : 10515번\n",
            "Hemoglobin A1c/Hemoglobin.total in Blood : 10099번\n",
            "Ketones [Presence] in Urine by Test strip : 8893번\n",
            "Specific gravity of Urine by Test strip : 8893번\n",
            "pH of Urine by Test strip : 8893번\n",
            "Nitrite [Presence] in Urine by Test strip : 8893번\n",
            "Hemoglobin [Presence] in Urine by Test strip : 8893번\n",
            "Leukocyte esterase [Presence] in Urine by Test strip : 8893번\n",
            "Glucose [Mass/volume] in Urine by Test strip : 8775번\n",
            "Protein [Mass/volume] in Urine by Test strip : 8775번\n",
            "Glucose [Presence] in Urine by Test strip : 8725번\n",
            "Bilirubin.total [Presence] in Urine by Test strip : 8725번\n",
            "Protein [Presence] in Urine by Test strip : 8725번\n",
            "Appearance of Urine : 8607번\n",
            "Odor of Urine : 8607번\n",
            "Clarity of Urine : 8607번\n",
            "Color of Urine : 8607번\n",
            "Bilirubin.total [Mass/volume] in Urine by Test strip : 8607번\n",
            "Ketones [Mass/volume] in Urine by Test strip : 8607번\n",
            "Glucose [Mass/volume] in Serum or Plasma : 8066번\n",
            "Urea nitrogen [Mass/volume] in Serum or Plasma : 8066번\n",
            "Creatinine [Mass/volume] in Serum or Plasma : 8066번\n",
            "Calcium [Mass/volume] in Serum or Plasma : 8066번\n",
            "Sodium [Moles/volume] in Serum or Plasma : 8066번\n",
            "Potassium [Moles/volume] in Serum or Plasma : 8066번\n",
            "Chloride [Moles/volume] in Serum or Plasma : 8066번\n",
            "Carbon dioxide  total [Moles/volume] in Serum or Plasma : 8066번\n",
            "Cholesterol [Mass/volume] in Serum or Plasma : 6799번\n",
            "Triglycerides : 6799번\n",
            "Low Density Lipoprotein Cholesterol : 6799번\n",
            "Cholesterol in HDL [Mass/volume] in Serum or Plasma : 6799번\n",
            "Hemoglobin [Mass/volume] in Blood : 3814번\n",
            "Leukocytes [#/volume] in Blood by Automated count : 3804번\n",
            "Erythrocytes [#/volume] in Blood by Automated count : 3804번\n",
            "MCV [Entitic volume] by Automated count : 3804번\n",
            "MCH [Entitic mass] by Automated count : 3804번\n",
            "MCHC [Mass/volume] by Automated count : 3804번\n",
            "Platelets [#/volume] in Blood by Automated count : 3804번\n",
            "Protein [Mass/volume] in Serum or Plasma : 3778번\n",
            "Albumin [Mass/volume] in Serum or Plasma : 3778번\n",
            "Bilirubin.total [Mass/volume] in Serum or Plasma : 3778번\n",
            "Alkaline phosphatase [Enzymatic activity/volume] in Serum or Plasma : 3778번\n",
            "Alanine aminotransferase [Enzymatic activity/volume] in Serum or Plasma : 3778번\n",
            "Aspartate aminotransferase [Enzymatic activity/volume] in Serum or Plasma : 3778번\n",
            "Hematocrit [Volume Fraction] of Blood by Automated count : 3685번\n",
            "Body mass index (BMI) [Percentile] Per age and sex : 2970번\n",
            "Microalbumin/Creatinine [Mass Ratio] in Urine : 2884번\n",
            "Erythrocyte distribution width [Entitic volume] by Automated count : 2778번\n",
            "Globulin [Mass/volume] in Serum by calculation : 2747번\n",
            "Weight-for-length Per age and sex : 1647번\n",
            "Head Occipital-frontal circumference Percentile : 1647번\n",
            "Head Occipital-frontal circumference : 1647번\n",
            "Body temperature : 1221번\n",
            "Oxygen saturation in Arterial blood : 1176번\n",
            "Erythrocyte distribution width [Ratio] by Automated count : 1026번\n",
            "Magnesium [Mass/volume] in Serum or Plasma : 837번\n",
            "Left eye Intraocular pressure : 762번\n",
            "Right eye Intraocular pressure : 762번\n",
            "Left eye Diabetic retinopathy severity level by Ophthalmoscopy : 762번\n",
            "Right eye Diabetic retinopathy severity level by Ophthalmoscopy : 762번\n",
            "LogMAR visual acuity left eye (observable entity) : 760번\n",
            "LogMAR visual acuity right eye (observable entity) : 760번\n",
            "Troponin I.cardiac [Mass/volume] in Serum or Plasma by High sensitivity method : 678번\n",
            "Ferritin [Mass/volume] in Serum or Plasma : 591번\n",
            "NT-proBNP : 498번\n",
            "Iron [Mass/volume] in Serum or Plasma : 497번\n",
            "Iron binding capacity [Mass/volume] in Serum or Plasma : 497번\n",
            "Iron saturation [Mass Fraction] in Serum or Plasma : 497번\n",
            "INR in Platelet poor plasma by Coagulation assay : 456번\n",
            "pH of Arterial blood : 394번\n",
            "Carbon dioxide [Partial pressure] in Arterial blood : 394번\n",
            "Oxygen [Partial pressure] in Arterial blood : 394번\n",
            "Bicarbonate [Moles/volume] in Arterial blood : 394번\n",
            "Prothrombin time (PT) : 374번\n",
            "aPTT in Blood by Coagulation assay : 317번\n",
            "Symptom : 282번\n",
            "Phosphate [Mass/volume] in Serum or Plasma : 280번\n",
            "Left ventricular Ejection fraction : 254번\n",
            "Neutrophils [#/volume] in Blood by Automated count : 215번\n",
            "Neutrophils/100 leukocytes in Blood by Automated count : 214번\n",
            "Lymphocytes/100 leukocytes in Blood by Automated count : 214번\n",
            "Monocytes/100 leukocytes in Blood by Automated count : 214번\n",
            "Eosinophils/100 leukocytes in Blood by Automated count : 214번\n",
            "Basophils/100 leukocytes in Blood by Automated count : 214번\n",
            "Lymphocytes [#/volume] in Blood by Automated count : 214번\n",
            "Monocytes [#/volume] in Blood by Automated count : 214번\n",
            "Eosinophils [#/volume] in Blood by Automated count : 214번\n",
            "Basophils [#/volume] in Blood by Automated count : 214번\n",
            "Glucose : 212번\n",
            "Urea Nitrogen : 212번\n",
            "Creatinine : 212번\n",
            "Calcium : 212번\n",
            "Sodium : 212번\n",
            "Potassium : 212번\n",
            "Chloride : 212번\n",
            "Carbon Dioxide : 212번\n",
            "Physical findings of Prostate : 184번\n",
            "Prostate specific Ag [Mass/volume] in Serum or Plasma : 184번\n",
            "Cause of Death [US Standard Certificate of Death] : 172번\n",
            "WBCs : 168번\n",
            "RBCs : 168번\n",
            "Epithelial Cells : 168번\n",
            "Casts : 168번\n",
            "Mucus Threads : 168번\n",
            "Bacteria : 168번\n",
            "Bacteria identified in Urine by Culture : 168번\n",
            "Hematocrit [Volume Fraction] of Blood : 129번\n",
            "SARS-CoV-2 RNA Pnl Resp NAA+probe : 116번\n",
            "Peanut IgE Ab [Units/volume] in Serum : 94번\n",
            "Walnut IgE Ab [Units/volume] in Serum : 94번\n",
            "Codfish IgE Ab [Units/volume] in Serum : 94번\n",
            "Shrimp IgE Ab [Units/volume] in Serum : 94번\n",
            "Wheat IgE Ab [Units/volume] in Serum : 94번\n",
            "Egg white IgE Ab [Units/volume] in Serum : 94번\n",
            "Soybean IgE Ab [Units/volume] in Serum : 94번\n",
            "Cow milk IgE Ab [Units/volume] in Serum : 94번\n",
            "White oak IgE Ab [Units/volume] in Serum : 94번\n",
            "Common Ragweed IgE Ab [Units/volume] in Serum : 94번\n",
            "Cat dander IgE Ab [Units/volume] in Serum : 94번\n",
            "American house dust mite IgE Ab [Units/volume] in Serum : 94번\n",
            "Cladosporium herbarum IgE Ab [Units/volume] in Serum : 94번\n",
            "Honey bee IgE Ab [Units/volume] in Serum : 94번\n",
            "Latex IgE Ab [Units/volume] in Serum : 94번\n",
            "Fibrin D-dimer FEU [Mass/volume] in Platelet poor plasma : 94번\n",
            "Lactate dehydrogenase [Enzymatic activity/volume] in Serum or Plasma by Lactate to pyruvate reaction : 94번\n",
            "Creatine kinase [Enzymatic activity/volume] in Serum or Plasma : 94번\n",
            "C reactive protein [Mass/volume] in Serum or Plasma : 94번\n",
            "Procalcitonin [Mass/volume] in Serum or Plasma : 94번\n",
            "Drugs of abuse 5 panel - Urine by Screen method : 75번\n",
            "Hemoglobin.gastrointestinal.lower [Presence] in Stool by Immunoassay --1st specimen : 74번\n",
            "Oxygen/Total gas setting [Volume Fraction] Ventilator : 69번\n",
            "Glomerular filtration rate/1.73 sq M.predicted : 57번\n",
            "Emergency severity index : 54번\n",
            "Influenza virus A RNA [Presence] in Respiratory specimen by NAA with probe detection : 52번\n",
            "Influenza virus B RNA [Presence] in Respiratory specimen by NAA with probe detection : 52번\n",
            "Respiratory syncytial virus RNA [Presence] in Respiratory specimen by NAA with probe detection : 52번\n",
            "Parainfluenza virus 1 RNA [Presence] in Respiratory specimen by NAA with probe detection : 52번\n",
            "Parainfluenza virus 2 RNA [Presence] in Respiratory specimen by NAA with probe detection : 52번\n",
            "Parainfluenza virus 3 RNA [Presence] in Respiratory specimen by NAA with probe detection : 52번\n",
            "Rhinovirus RNA [Presence] in Respiratory specimen by NAA with probe detection : 52번\n",
            "Human metapneumovirus RNA [Presence] in Respiratory specimen by NAA with probe detection : 52번\n",
            "Adenovirus A+B+C+D+E DNA [Presence] in Respiratory specimen by NAA with probe detection : 52번\n",
            "Activated clotting time (ACT) of Blood by Coagulation assay : 52번\n",
            "Functional capacity NYHA : 51번\n",
            "Objective assessment of cardiovascular disease NYHA : 47번\n",
            "pH of Venous blood : 45번\n",
            "Carbon dioxide [Partial pressure] in Venous blood : 45번\n",
            "Oxygen [Partial pressure] in Venous blood : 45번\n",
            "Bicarbonate [Moles/volume] in Venous blood : 45번\n",
            "Carbon dioxide  total [Moles/volume] in Venous blood : 45번\n",
            "Influenza virus A Ag [Presence] in Upper respiratory specimen by Rapid immunoassay : 44번\n",
            "Influenza virus B Ag [Presence] in Upper respiratory specimen by Rapid immunoassay : 44번\n",
            "Thyrotropin [Units/volume] in Serum or Plasma : 40번\n",
            "Magnesium [Mass/volume] in Blood : 37번\n",
            "Natriuretic peptide.B prohormone N-Terminal [Mass/volume] in Blood by Immunoassay : 37번\n",
            "CD3+CD4+ (T4 helper) cells [#/volume] in Blood : 36번\n",
            "HIV 1 RNA [#/volume] (viral load) in Serum or Plasma by NAA with probe detection : 32번\n",
            "Lactate [Moles/volume] in Blood : 27번\n",
            "Gram positive blood culture panel by Probe in Positive blood culture : 15번\n",
            "Capillary refill [Time] of Nail bed : 15번\n",
            "Percentage area affected by eczema Head and Neck [PhenX] : 12번\n",
            "Percentage area affected by eczema Trunk [PhenX] : 12번\n",
            "Percentage area affected by eczema Upper extremity - bilateral [PhenX] : 12번\n",
            "Percentage area affected by eczema Lower extremity - bilateral [PhenX] : 12번\n",
            "Stage group.clinical Cancer : 7번\n",
            "HER2 [Presence] in Breast cancer specimen by Immune stain : 4번\n",
            "HER2 [Presence] in Breast cancer specimen by FISH : 4번\n",
            "Estrogen receptor Ag [Presence] in Breast cancer specimen by Immune stain : 4번\n",
            "Progesterone receptor Ag [Presence] in Breast cancer specimen by Immune stain : 4번\n",
            "Medication management note : 4번\n",
            "Estrogen+Progesterone receptor Ag [Presence] in Tissue by Immune stain : 3번\n",
            "Leukocytes [#/volume] in Blood : 3번\n",
            "Erythrocytes [#/volume] in Blood : 3번\n",
            "Hemoglobin : 3번\n",
            "Hematocrit : 3번\n",
            "MCV : 3번\n",
            "RBC Distribution Width : 3번\n",
            "Platelet Count : 3번\n",
            "Total Bilirubin (Elevated) : 3번\n",
            "ALT (Elevated) : 3번\n",
            "AST (Elevated) : 3번\n",
            "Anion Gap : 3번\n",
            "Protein : 3번\n",
            "Albumin : 3번\n",
            "Globulin : 3번\n",
            "Alkaline Phosphatase : 3번\n",
            "Physical findings of Abdomen by Palpation : 3번\n",
            "HIV 1 Ab [Presence] in Serum : 2번\n",
            "Thyroxine (T4) free [Mass/volume] in Serum or Plasma : 2번\n",
            "Body Temperature : 1번\n",
            "Exercise stress test study : 1번\n"
          ]
        }
      ]
    },
    {
      "cell_type": "code",
      "source": [
        "import pandas as pd\n",
        "\n",
        "# CSV 파일 읽기\n",
        "df = pd.read_csv('/content/filter_obervation.csv')\n",
        "\n",
        "# DESCRIPTION별 개수 세기\n",
        "description_counts = df['DESCRIPTION'].value_counts()\n",
        "\n",
        "# 8000번 이상 등장한 DESCRIPTION만 필터링\n",
        "descriptions_over_8000 = description_counts[description_counts > 8000].index.tolist()\n",
        "\n",
        "# 결과 출력\n",
        "print(f\"8000개 넘는 DESCRIPTION 수: {len(descriptions_over_8000)}개\")\n",
        "print(\"DESCRIPTION 리스트:\")\n",
        "for desc in descriptions_over_8000:\n",
        "    print(f\"{desc} ({description_counts[desc]}개)\")\n"
      ],
      "metadata": {
        "colab": {
          "base_uri": "https://localhost:8080/"
        },
        "id": "iNXq1i5JOCwS",
        "outputId": "90c15cd1-0c97-4220-f37f-faaee5dbccb9"
      },
      "execution_count": 5,
      "outputs": [
        {
          "output_type": "stream",
          "name": "stdout",
          "text": [
            "8000개 넘는 DESCRIPTION 수: 42개\n",
            "DESCRIPTION 리스트:\n",
            "Diastolic Blood Pressure (17939개)\n",
            "Systolic Blood Pressure (17939개)\n",
            "Body Weight (16838개)\n",
            "Heart rate (16300개)\n",
            "Respiratory rate (16300개)\n",
            "Body mass index (BMI) [Ratio] (14999개)\n",
            "Glomerular filtration rate/1.73 sq M.predicted [Volume Rate/Area] in Serum or Plasma by Creatinine-based formula (MDRD) (13682개)\n",
            "Chloride [Moles/volume] in Blood (10844개)\n",
            "Urea nitrogen [Mass/volume] in Blood (10844개)\n",
            "Creatinine [Mass/volume] in Blood (10844개)\n",
            "Sodium [Moles/volume] in Blood (10844개)\n",
            "Potassium [Moles/volume] in Blood (10844개)\n",
            "Calcium [Mass/volume] in Blood (10844개)\n",
            "Glucose [Mass/volume] in Blood (10844개)\n",
            "Carbon dioxide  total [Moles/volume] in Blood (10844개)\n",
            "Weight difference [Mass difference] --pre dialysis - post dialysis (10515개)\n",
            "Hemoglobin A1c/Hemoglobin.total in Blood (10099개)\n",
            "Leukocyte esterase [Presence] in Urine by Test strip (8893개)\n",
            "Nitrite [Presence] in Urine by Test strip (8893개)\n",
            "pH of Urine by Test strip (8893개)\n",
            "Specific gravity of Urine by Test strip (8893개)\n",
            "Hemoglobin [Presence] in Urine by Test strip (8893개)\n",
            "Ketones [Presence] in Urine by Test strip (8893개)\n",
            "Glucose [Mass/volume] in Urine by Test strip (8775개)\n",
            "Protein [Mass/volume] in Urine by Test strip (8775개)\n",
            "Bilirubin.total [Presence] in Urine by Test strip (8725개)\n",
            "Glucose [Presence] in Urine by Test strip (8725개)\n",
            "Protein [Presence] in Urine by Test strip (8725개)\n",
            "Appearance of Urine (8607개)\n",
            "Odor of Urine (8607개)\n",
            "Color of Urine (8607개)\n",
            "Bilirubin.total [Mass/volume] in Urine by Test strip (8607개)\n",
            "Clarity of Urine (8607개)\n",
            "Ketones [Mass/volume] in Urine by Test strip (8607개)\n",
            "Carbon dioxide  total [Moles/volume] in Serum or Plasma (8066개)\n",
            "Potassium [Moles/volume] in Serum or Plasma (8066개)\n",
            "Creatinine [Mass/volume] in Serum or Plasma (8066개)\n",
            "Calcium [Mass/volume] in Serum or Plasma (8066개)\n",
            "Chloride [Moles/volume] in Serum or Plasma (8066개)\n",
            "Sodium [Moles/volume] in Serum or Plasma (8066개)\n",
            "Urea nitrogen [Mass/volume] in Serum or Plasma (8066개)\n",
            "Glucose [Mass/volume] in Serum or Plasma (8066개)\n"
          ]
        }
      ]
    },
    {
      "cell_type": "code",
      "source": [
        "# 새 csv 파일 만들기\n",
        "\n",
        "# CSV 파일 경로를 지정합니다.\n",
        "file_path = '/content/filter_obervation.csv'\n",
        "\n",
        "\n",
        "# CSV 파일을 읽어들입니다.\n",
        "df = pd.read_csv(file_path)\n",
        "\n",
        "# 기록값이 8000개 이상인 항목만 남김.\n",
        "vital_signs_df = df[df['DESCRIPTION'].isin(descriptions_over_8000)]\n",
        "\n",
        "# 필요한 컬럼만 남깁니다.\n",
        "vital_signs_df = vital_signs_df[['DATE', 'PATIENT', 'ENCOUNTER', 'DESCRIPTION', 'VALUE', 'UNITS']]\n",
        "\n",
        "# DESCRIPTION별로 열을 생성합니다.\n",
        "pivot_df = vital_signs_df.pivot_table(\n",
        "    index=['DATE', 'PATIENT', 'ENCOUNTER'],\n",
        "    columns=['DESCRIPTION', 'UNITS'],\n",
        "    values='VALUE',\n",
        "    aggfunc='first'  # 여러 값이 있으면 첫 번째 값만 선택\n",
        ")\n",
        "\n",
        "# 피벗 후 컬럼 이름을 평탄화합니다.\n",
        "pivot_df.columns = [f'{desc} [{unit}]' for desc, unit in pivot_df.columns]\n",
        "\n",
        "# 피벗된 데이터를 새 CSV 파일로 저장합니다.\n",
        "output_file_path = 'test_observation_over_8000.csv'  # 저장할 파일 경로\n",
        "pivot_df.to_csv(output_file_path)\n",
        "\n",
        "print(f\"새로운 CSV 파일이 '{output_file_path}'에 저장되었습니다.\")\n"
      ],
      "metadata": {
        "colab": {
          "base_uri": "https://localhost:8080/"
        },
        "id": "HCtlSbwhUbzJ",
        "outputId": "ec070933-ed47-4ab3-d320-767263cb51f1"
      },
      "execution_count": 6,
      "outputs": [
        {
          "output_type": "stream",
          "name": "stdout",
          "text": [
            "새로운 CSV 파일이 'test_observation_over_8000.csv'에 저장되었습니다.\n"
          ]
        }
      ]
    },
    {
      "cell_type": "code",
      "source": [
        "# #새로운 observation 사례화\n",
        "\n",
        "import pandas as pd\n",
        "from langchain.docstore.document import Document\n",
        "\n",
        "# CSV 파일 읽기\n",
        "df = pd.read_csv(\"test_observation_over_8000.csv\")\n",
        "\n",
        "# 사용할 항목 필터 리스트 (15개)\n",
        "filtered_descriptions = [\n",
        "    \"Diastolic Blood Pressure\",\n",
        "    \"Systolic Blood Pressure\",\n",
        "    \"Body Weight\",\n",
        "    \"Heart rate\",\n",
        "    \"Body mass index (BMI) [Ratio]\",\n",
        "    \"Glomerular filtration rate/1.73 sq M.predicted [Volume Rate/Area] in Serum or Plasma by Creatinine-based formula (MDRD)\",\n",
        "    \"Urea nitrogen [Mass/volume] in Blood\",\n",
        "    \"Creatinine [Mass/volume] in Blood\",\n",
        "    \"Sodium [Moles/volume] in Blood\",\n",
        "    \"Potassium [Moles/volume] in Blood\",\n",
        "    \"Calcium [Mass/volume] in Blood\",\n",
        "    \"Glucose [Mass/volume] in Blood\",\n",
        "    \"Carbon dioxide  total [Moles/volume] in Blood\",\n",
        "    \"Hemoglobin A1c/Hemoglobin.total in Blood\",\n",
        "    \"Protein [Mass/volume] in Urine by Test strip\"\n",
        "]\n",
        "\n",
        "# 행을 텍스트로 변환하는 함수\n",
        "def row_to_text(row) -> str:\n",
        "    text = f\"환자ID: {row['PATIENT'][:8]} 환자는, {row['DATE'][:10]}에 다음과 같은 데이터를 기록했습니다: \"\n",
        "\n",
        "    for description in filtered_descriptions:\n",
        "        # description이 포함된 실제 컬럼 찾기\n",
        "        matching_columns = [col for col in row.index if description == col.split(' [')[0]]\n",
        "        if matching_columns:\n",
        "            full_col_name = matching_columns[0]\n",
        "            value = row[full_col_name]\n",
        "            if pd.notna(value):\n",
        "                # 정수로 표현 가능하면 정수로 출력\n",
        "                if isinstance(value, (int, float)) and float(value).is_integer():\n",
        "                    value_str = str(int(value))\n",
        "                else:\n",
        "                    value_str = str(value)\n",
        "                text += f\"{description}: {value_str}, \"\n",
        "\n",
        "    return text\n",
        "\n",
        "# 각 행을 텍스트로 변환하여 리스트에 저장\n",
        "texts = df.apply(row_to_text, axis=1).tolist()\n",
        "\n",
        "# 문서 리스트 생성 (LangChain용 Document 객체)\n",
        "observation_docs = []\n",
        "for _, row in df.iterrows():\n",
        "    text = row_to_text(row)\n",
        "    observation_docs.append(Document(\n",
        "        page_content=text,\n",
        "        metadata={\n",
        "            \"patient_id\": row[\"PATIENT\"][:8],\n",
        "            \"table\": \"observations\"\n",
        "        }\n",
        "    ))\n",
        "\n",
        "# 예시 10개 출력\n",
        "for i, doc in enumerate(observation_docs[:10], 1):\n",
        "    print(f\"[예시 {i}]\")\n",
        "    print(doc.page_content)\n",
        "    print()\n"
      ],
      "metadata": {
        "id": "T25938zvVLWI",
        "colab": {
          "base_uri": "https://localhost:8080/"
        },
        "outputId": "78fe1550-ad3d-4e13-e748-7b75dccbbac3"
      },
      "execution_count": 18,
      "outputs": [
        {
          "output_type": "stream",
          "name": "stdout",
          "text": [
            "[예시 1]\n",
            "환자ID: c1ebfd06 환자는, 1918-11-27에 다음과 같은 데이터를 기록했습니다: Diastolic Blood Pressure: 75 Systolic Blood Pressure: 137 Body Weight: 4.2 Heart rate: 77 \n",
            "\n",
            "[예시 2]\n",
            "환자ID: c1ebfd06 환자는, 1919-01-01에 다음과 같은 데이터를 기록했습니다: Diastolic Blood Pressure: 80 Systolic Blood Pressure: 139 Body Weight: 5 Heart rate: 81 \n",
            "\n",
            "[예시 3]\n",
            "환자ID: c1ebfd06 환자는, 1919-03-05에 다음과 같은 데이터를 기록했습니다: Diastolic Blood Pressure: 77 Systolic Blood Pressure: 143 Body Weight: 6.5 Heart rate: 71 \n",
            "\n",
            "[예시 4]\n",
            "환자ID: c1ebfd06 환자는, 1919-05-07에 다음과 같은 데이터를 기록했습니다: Diastolic Blood Pressure: 77 Systolic Blood Pressure: 140 Body Weight: 7.7 Heart rate: 83 \n",
            "\n",
            "[예시 5]\n",
            "환자ID: c1ebfd06 환자는, 1919-08-06에 다음과 같은 데이터를 기록했습니다: Diastolic Blood Pressure: 84 Systolic Blood Pressure: 150 Body Weight: 9.1 Heart rate: 78 \n",
            "\n",
            "[예시 6]\n",
            "환자ID: c1ebfd06 환자는, 1919-11-05에 다음과 같은 데이터를 기록했습니다: Diastolic Blood Pressure: 76 Systolic Blood Pressure: 138 Body Weight: 10.3 Heart rate: 65 \n",
            "\n",
            "[예시 7]\n",
            "환자ID: c1ebfd06 환자는, 1919-12-31에 다음과 같은 데이터를 기록했습니다: Diastolic Blood Pressure: 79 Systolic Blood Pressure: 143 Body Weight: 10.9 Heart rate: 91 \n",
            "\n",
            "[예시 8]\n",
            "환자ID: c1ebfd06 환자는, 1920-01-07에 다음과 같은 데이터를 기록했습니다: Diastolic Blood Pressure: 80 Systolic Blood Pressure: 139 Body Weight: 10.9 Heart rate: 80 \n",
            "\n",
            "[예시 9]\n",
            "환자ID: c1ebfd06 환자는, 1920-02-04에 다음과 같은 데이터를 기록했습니다: Diastolic Blood Pressure: 76 Systolic Blood Pressure: 137 Body Weight: 11.2 Heart rate: 97 \n",
            "\n",
            "[예시 10]\n",
            "환자ID: c1ebfd06 환자는, 1920-05-05에 다음과 같은 데이터를 기록했습니다: Diastolic Blood Pressure: 75 Systolic Blood Pressure: 137 Body Weight: 11.9 Heart rate: 62 \n",
            "\n"
          ]
        }
      ]
    },
    {
      "cell_type": "code",
      "source": [
        "# csv 파일로 저장 가능!\n",
        "import pandas as pd\n",
        "\n",
        "# 리스트를 딕셔너리로 변환\n",
        "doc_data = [{\"patient_id\": doc.metadata[\"patient_id\"], \"content\": doc.page_content} for doc in observation_docs]\n",
        "\n",
        "# 데이터프레임으로 변환 후 저장\n",
        "doc_df = pd.DataFrame(doc_data)\n",
        "doc_df.to_csv(\"observation_documents.csv\", index=False, encoding=\"utf-8-sig\")"
      ],
      "metadata": {
        "id": "QX2tmA7MV7Zx"
      },
      "execution_count": 19,
      "outputs": []
    },
    {
      "cell_type": "markdown",
      "source": [
        "## Chunking 작업"
      ],
      "metadata": {
        "id": "u5DoSL_nAA6e"
      }
    },
    {
      "cell_type": "code",
      "source": [
        "# Splitter 설정_observation\n",
        "observation_text_splitter = RecursiveCharacterTextSplitter(\n",
        "    chunk_size=300,\n",
        "    chunk_overlap=0,\n",
        ")\n",
        "\n",
        "# 실제 split\n",
        "observation_splits = observation_text_splitter.split_documents(observation_docs)\n",
        "\n",
        "# 결과 출력\n",
        "print(\"Splits:\", len(observation_splits))"
      ],
      "metadata": {
        "colab": {
          "base_uri": "https://localhost:8080/"
        },
        "id": "nMQOHrFXV8CN",
        "outputId": "45280e01-79eb-48c8-ff92-cb2cb8e82362"
      },
      "execution_count": 20,
      "outputs": [
        {
          "output_type": "stream",
          "name": "stdout",
          "text": [
            "Splits: 34461\n"
          ]
        }
      ]
    },
    {
      "cell_type": "markdown",
      "source": [
        "## Plot 시각화"
      ],
      "metadata": {
        "id": "mBEbWw6ABJH7"
      }
    },
    {
      "cell_type": "code",
      "source": [
        "# 시각화_observation\n",
        "import matplotlib.pyplot as plt\n",
        "\n",
        "split_lengths = [len(split.page_content) for split in observation_splits]\n",
        "# split_lengths = [len(split.page_content) for split in splits2]\n",
        "# split_lengths = [len(split.page_content) for split in splits3]\n",
        "\n",
        "plt.bar(range(len(split_lengths)), split_lengths)\n",
        "plt.title(\"RecursiveCharacterTextSplitter\")\n",
        "plt.xlabel(\"Split Index\")\n",
        "plt.ylabel(\"Split Content Length\")\n",
        "plt.xticks(range(len(split_lengths)), [])\n",
        "plt.show()"
      ],
      "metadata": {
        "colab": {
          "base_uri": "https://localhost:8080/",
          "height": 458
        },
        "id": "bnu1vgUCBE-v",
        "outputId": "41b4d4c2-0bd0-42d0-93a2-9a9823d671f6"
      },
      "execution_count": 21,
      "outputs": [
        {
          "output_type": "display_data",
          "data": {
            "text/plain": [
              "<Figure size 640x480 with 1 Axes>"
            ],
            "image/png": "[encoded data removed]"
          },
          "metadata": {}
        }
      ]
    },
    {
      "cell_type": "markdown",
      "source": [
        "## Vector DB 저장"
      ],
      "metadata": {
        "id": "VELHS6FKBUTX"
      }
    },
    {
      "cell_type": "code",
      "source": [
        "#observation\n",
        "\n",
        "# 임포트\n",
        "from langchain_chroma import Chroma\n",
        "from langchain_upstage import UpstageEmbeddings\n",
        "from langchain.docstore.document import Document\n",
        "\n",
        "# 1️⃣ Embeddings 객체 선언\n",
        "embeddings = UpstageEmbeddings(model=\"embedding-query\")\n",
        "\n",
        "# observation_splits가 Document 객체로 변환되었는지 확인\n",
        "if isinstance(observation_splits[0], Document):\n",
        "    print(\"observation_splits는 Document 객체입니다.\")\n",
        "else:\n",
        "    # observation_splits가 문서 형태가 아니라면 Document로 변환\n",
        "    observation_docs = [Document(page_content=text) for text in observation_splits]\n",
        "\n",
        "# 2️⃣ Chroma 벡터 DB 생성 및 문서 삽입\n",
        "observation_vectorstore = Chroma.from_documents(\n",
        "    documents=observation_docs,  # observation_docs가 Document 객체 리스트여야 함\n",
        "    embedding=embeddings,\n",
        "    persist_directory=\"./observation_chroma_db\"\n",
        ")"
      ],
      "metadata": {
        "id": "d5Ml-1Hp2YET",
        "colab": {
          "base_uri": "https://localhost:8080/"
        },
        "outputId": "dec30536-da9c-496f-fc71-ec0aae40afb5"
      },
      "execution_count": null,
      "outputs": [
        {
          "output_type": "stream",
          "name": "stdout",
          "text": [
            "observation_splits는 Document 객체입니다.\n"
          ]
        },
        {
          "output_type": "stream",
          "name": "stderr",
          "text": [
            "ERROR:chromadb.telemetry.product.posthog:Failed to send telemetry event ClientStartEvent: capture() takes 1 positional argument but 3 were given\n",
            "ERROR:chromadb.telemetry.product.posthog:Failed to send telemetry event ClientCreateCollectionEvent: capture() takes 1 positional argument but 3 were given\n"
          ]
        }
      ]
    },
    {
      "cell_type": "markdown",
      "source": [
        "# LLM 생성"
      ],
      "metadata": {
        "id": "kp81DqS3ECOq"
      }
    },
    {
      "cell_type": "code",
      "source": [
        "# ✅ Dense Retriever 생성\n",
        "observation_retriever = observation_vectorstore.as_retriever(\n",
        "    search_type='mmr',\n",
        "    search_kwargs={'k': 1},\n",
        ")\n",
        "\n",
        "# ✅ 사용자의 한국어 질문 예시\n",
        "query = \"임의의 한 환자의 바이탈 정보를 알려줘\"\n",
        "\n",
        "# ✅ 검색된 문서 가져오기\n",
        "observation_docs = observation_retriever.invoke(query)\n",
        "\n",
        "# all_context = \"\\n\".join([\n",
        "#     doc.page_content for doc in (patient_docs + diagnosis_docs + medication_docs)\n",
        "# ])\n",
        "all_context = \"\\n\".join([\n",
        "    doc.page_content for doc in (observation_docs)\n",
        "])\n",
        "\n",
        "# ✅ 한국어 system 프롬프트 정의\n",
        "from langchain_upstage import ChatUpstage\n",
        "from langchain_core.prompts import ChatPromptTemplate\n",
        "from langchain_core.output_parsers import StrOutputParser\n",
        "\n",
        "llm = ChatUpstage()\n",
        "\n",
        "prompt = ChatPromptTemplate.from_messages(\n",
        "    [\n",
        "        (\n",
        "            \"system\",\n",
        "            \"\"\"\n",
        "            당신은 환자 정보에 대한 질문에 친절히 답변하는 한국어 의료 AI 어시스턴트입니다.\n",
        "            아래 CONTEXT 정보를 참고하여 환자 정보를 자연스럽게 한국어로 풀어서 설명해 주세요.\n",
        "            각 컬럼명(예: body weight, heart rate 등)은 한국어로 번역해 사용하고, 대화체 톤으로 작성해 주세요.\n",
        "            표나 리스트 형태보다는 문단 형태로 정리해 주세요.\n",
        "            모르면 모른다고 솔직히 답변하세요.\n",
        "            ---\n",
        "            CONTEXT:\n",
        "            {context}\n",
        "            \"\"\",\n",
        "        ),\n",
        "        (\"human\", \"{input}\"),\n",
        "    ]\n",
        ")\n",
        "\n",
        "# ✅ LLM chain 구성\n",
        "chain = prompt | llm | StrOutputParser()\n",
        "\n",
        "# ✅ 최종 chain 호출\n",
        "response = chain.invoke({\"context\": all_context, \"input\": query})\n",
        "\n",
        "print(\"\\n💬 AI의 답변:\")\n",
        "print(response)\n"
      ],
      "metadata": {
        "colab": {
          "base_uri": "https://localhost:8080/"
        },
        "id": "yXvFMQybqF04",
        "outputId": "fb4aa8ce-3724-4b0f-e02a-e8001ffc543a"
      },
      "execution_count": null,
      "outputs": [
        {
          "output_type": "stream",
          "name": "stdout",
          "text": [
            "\n",
            "💬 AI의 답변:\n",
            "물론이죠! 해당 환자는 1993년 5월 20일 오전 6시 31분 7초에 바이탈 신호를 측정했어요. 측정 유형은 고유 코드 116c6afe-6768-f695-9993-700208ea18ab를 사용했습니다. 이 환자가 기록한 바이탈 정보에는 체중, 심박수, 체온, 혈압이 포함되어 있어요. 체중은 65.2kg, 심박수는 분당 72회로 안정적이었고, 체온은 36.8도로 정상 범위 내에 있었어요. 혈압은 수축기 혈압이 120mmHg, 이완기 혈압이 80mmHg로 측정되어, 정상 혈압 수준을 유지하고 있었습니다. 이 데이터는 그 순간 환자의 건강 상태를 보여주는 중요한 지표가 됩니다.\n"
          ]
        }
      ]
    },
    {
      "cell_type": "code",
      "source": [
        "from google.colab import drive\n",
        "drive.mount('/content/drive')"
      ],
      "metadata": {
        "id": "-1-H9otX--Fq"
      },
      "execution_count": null,
      "outputs": []
    },
    {
      "cell_type": "markdown",
      "source": [
        "TMI: 여기까지 돌리는 데 Billing 0.05$ 사용\n",
        "### Now What?\n",
        "GPT 추천:\n",
        "# ✅ 💡 선택지 크게 두 가지\n",
        "\n",
        "## 🅰️ **전부 조인 후 넣기 (One big chunk)**\n",
        "\n",
        "### ✔️ 장점\n",
        "\n",
        "* 환자 한 명에 대한 정보가 하나의 청크에 모두 담김 → 질문할 때 정확한 컨텍스트 제공\n",
        "* 질병, 약물, 투약 주의사항 등을 한 번에 설명하기 쉬움\n",
        "\n",
        "### ❌ 단점\n",
        "\n",
        "* row 폭발 (조인한 경우 레코드 수 \\* 약물 수 \\* 진단 수 …)\n",
        "* 청크가 너무 커짐 → 나눠야 할 때 문맥이 깨짐\n",
        "* 관리/업데이트 어려움\n",
        "\n",
        "---\n",
        "\n",
        "## 🅱️ **테이블별로 분리, Retriever에서 동적 컨텍스트 결합 (멀티-벡터 전략)**\n",
        "\n",
        "### ✔️ 장점\n",
        "\n",
        "* 각 테이블 정보 독립적으로 유지\n",
        "* 스케일 확장 유리 (예: 약물 DB 업데이트, 질환 DB 변경 등)\n",
        "* Retriever 단계에서 동적으로 \"다중 소스\" 컨텍스트 결합 가능\n",
        "\n",
        "### ❌ 단점\n",
        "\n",
        "* QA 정확도를 높이려면 \"적절한 컨텍스트 조합 로직\" 필요\n",
        "* LLM 프롬프트 설계가 복잡\n",
        "\n",
        "---\n",
        "\n",
        "# ✅ 💡 현업과 연구에서 많이 쓰는 전략: **멀티-벡터 & 멀티-Retriever 방식**\n",
        "\n",
        "### 💡 구조\n",
        "\n",
        "```\n",
        "[벡터 DB A] ← 환자 정보 테이블 (예: Patient Demographics)\n",
        "[벡터 DB B] ← 질병 정보 테이블 (예: Diagnoses)\n",
        "[벡터 DB C] ← 약물 정보 테이블 (예: Medications)\n",
        "```\n",
        "\n",
        "---\n",
        "\n",
        "## ✅ 1️⃣ 각 테이블별로 개별 벡터 DB 구축\n",
        "\n",
        "* 각 테이블 row 단위로 Document 생성 → 독립 embedding\n",
        "* 예:\n",
        "\n",
        "```python\n",
        "patient_docs = [Document(page_content=\"환자 A: 60세, 남성, 당뇨, 고혈압\", metadata={\"patient_id\": \"A\"})]\n",
        "diagnosis_docs = [Document(page_content=\"환자 A: 진단명: 당뇨병, HbA1c: 8.5%\", metadata={\"patient_id\": \"A\"})]\n",
        "medication_docs = [Document(page_content=\"환자 A: 메트포르민 투약 중\", metadata={\"patient_id\": \"A\"})]\n",
        "```\n",
        "\n",
        "---\n",
        "\n",
        "## ✅ 2️⃣ Retriever 여러 개 선언\n",
        "\n",
        "```python\n",
        "patient_retriever = patient_vectorstore.as_retriever(search_kwargs={'k': 1})\n",
        "diagnosis_retriever = diagnosis_vectorstore.as_retriever(search_kwargs={'k': 1})\n",
        "medication_retriever = medication_vectorstore.as_retriever(search_kwargs={'k': 1})\n",
        "```\n",
        "\n",
        "---\n",
        "\n",
        "## ✅ 3️⃣ 질문 시, **각 Retriever에서 병렬 검색 → 결과 컨텍스트 합침**\n",
        "\n",
        "```python\n",
        "patient_docs = patient_retriever.invoke(query)\n",
        "diagnosis_docs = diagnosis_retriever.invoke(query)\n",
        "medication_docs = medication_retriever.invoke(query)\n",
        "\n",
        "all_context = \"\\n\".join([\n",
        "    doc.page_content for doc in (patient_docs + diagnosis_docs + medication_docs)\n",
        "])\n",
        "```\n",
        "\n",
        "---\n",
        "\n",
        "## ✅ 4️⃣ LLM에 합쳐진 context 전달\n",
        "\n",
        "```python\n",
        "response = chain.invoke({\"context\": all_context, \"input\": query})\n",
        "```\n",
        "\n",
        "---\n",
        "\n",
        "# ✅ 💬 **실제 사용 시 포인트**\n",
        "\n",
        "| 고려 사항         | 내용                                                                      |\n",
        "| ------------- | ----------------------------------------------------------------------- |\n",
        "| ✅ 컨텍스트 길이     | 여러 테이블 합치면 길어질 수 있음 → 필요하면 각 테이블에서 `k` 값을 줄이거나 요약 추가                    |\n",
        "| ✅ metadata 활용 | `patient_id`, `diagnosis_id` 등으로 cross-link → 필터 기반 검색 강화 가능            |\n",
        "| ✅ 프롬프트 설계     | \"아래에 환자 기본정보, 질병정보, 약물정보가 있습니다. 이 환자에게 적합한 약물과 투약 시 주의사항을 종합적으로 알려주세요.\" |\n",
        "\n",
        "---\n",
        "\n",
        "# ✅ ✅ 💡 **요약**\n",
        "\n",
        "### 💡 다 조인? ❌\n",
        "\n",
        "* 데이터 폭발, 관리 불가\n",
        "\n",
        "### 💡 테이블별 분리 & Retriever에서 조합? ✅\n",
        "\n",
        "* 유연, scalable, 관리 쉽고, 정확도 높음\n",
        "\n",
        "---"
      ],
      "metadata": {
        "id": "oXg7hr5VEhHh"
      }
    },
    {
      "cell_type": "code",
      "source": [
        "import shutil\n",
        "from google.colab import files\n",
        "\n",
        "# 1. 폴더 압축\n",
        "shutil.make_archive('/content/procedure_chroma_db', 'zip', '/content/my_folder')\n",
        "\n",
        "# 2. 다운로드\n",
        "files.download('/content/my_folder_zip.zip')\n"
      ],
      "metadata": {
        "colab": {
          "base_uri": "https://localhost:8080/",
          "height": 17
        },
        "id": "0KfQmjRK_FDb",
        "outputId": "b831ffc0-39d8-4f70-c99b-d6f5c797f9ce"
      },
      "execution_count": null,
      "outputs": [
        {
          "output_type": "display_data",
          "data": {
            "text/plain": [
              "<IPython.core.display.Javascript object>"
            ],
            "application/javascript": [
              "\n",
              "    async function download(id, filename, size) {\n",
              "      if (!google.colab.kernel.accessAllowed) {\n",
              "        return;\n",
              "      }\n",
              "      const div = document.createElement('div');\n",
              "      const label = document.createElement('label');\n",
              "      label.textContent = `Downloading \"${filename}\": `;\n",
              "      div.appendChild(label);\n",
              "      const progress = document.createElement('progress');\n",
              "      progress.max = size;\n",
              "      div.appendChild(progress);\n",
              "      document.body.appendChild(div);\n",
              "\n",
              "      const buffers = [];\n",
              "      let downloaded = 0;\n",
              "\n",
              "      const channel = await google.colab.kernel.comms.open(id);\n",
              "      // Send a message to notify the kernel that we're ready.\n",
              "      channel.send({})\n",
              "\n",
              "      for await (const message of channel.messages) {\n",
              "        // Send a message to notify the kernel that we're ready.\n",
              "        channel.send({})\n",
              "        if (message.buffers) {\n",
              "          for (const buffer of message.buffers) {\n",
              "            buffers.push(buffer);\n",
              "            downloaded += buffer.byteLength;\n",
              "            progress.value = downloaded;\n",
              "          }\n",
              "        }\n",
              "      }\n",
              "      const blob = new Blob(buffers, {type: 'application/binary'});\n",
              "      const a = document.createElement('a');\n",
              "      a.href = window.URL.createObjectURL(blob);\n",
              "      a.download = filename;\n",
              "      div.appendChild(a);\n",
              "      a.click();\n",
              "      div.remove();\n",
              "    }\n",
              "  "
            ]
          },
          "metadata": {}
        },
        {
          "output_type": "display_data",
          "data": {
            "text/plain": [
              "<IPython.core.display.Javascript object>"
            ],
            "application/javascript": [
              "download(\"download_b0baf108-f6b6-48b1-b1ea-ede2f04ff995\", \"observation_chroma_db.zip\", 370572788)"
            ]
          },
          "metadata": {}
        }
      ]
    },
    {
      "cell_type": "markdown",
      "source": [],
      "metadata": {
        "id": "qDUtDnKc_EyJ"
      }
    }
  ]
}