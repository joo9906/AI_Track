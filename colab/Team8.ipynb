{
  "nbformat": 4,
  "nbformat_minor": 0,
  "metadata": {
    "colab": {
      "provenance": []
    },
    "kernelspec": {
      "name": "python3",
      "display_name": "Python 3"
    },
    "language_info": {
      "name": "python"
    }
  },
  "cells": [
    {
      "cell_type": "markdown",
      "source": [
        "### 필요한 라이브러리 다운로드"
      ],
      "metadata": {
        "id": "0GdzqBNr9KIH"
      }
    },
    {
      "cell_type": "code",
      "execution_count": 5,
      "metadata": {
        "colab": {
          "base_uri": "https://localhost:8080/"
        },
        "id": "Y8h3AEvE1Hcs",
        "outputId": "91002855-a4b1-4ea2-8b95-9144bce92869"
      },
      "outputs": [
        {
          "output_type": "stream",
          "name": "stdout",
          "text": [
            "  Preparing metadata (setup.py) ... \u001b[?25l\u001b[?25hdone\n",
            "\u001b[2K     \u001b[90m━━━━━━━━━━━━━━━━━━━━━━━━━━━━━━━━━━━━━━━━\u001b[0m \u001b[32m67.3/67.3 kB\u001b[0m \u001b[31m5.2 MB/s\u001b[0m eta \u001b[36m0:00:00\u001b[0m\n",
            "\u001b[?25h  Installing build dependencies ... \u001b[?25l\u001b[?25hdone\n",
            "  Getting requirements to build wheel ... \u001b[?25l\u001b[?25hdone\n",
            "  Preparing metadata (pyproject.toml) ... \u001b[?25l\u001b[?25hdone\n",
            "\u001b[2K   \u001b[90m━━━━━━━━━━━━━━━━━━━━━━━━━━━━━━━━━━━━━━━━\u001b[0m \u001b[32m755.0/755.0 kB\u001b[0m \u001b[31m26.0 MB/s\u001b[0m eta \u001b[36m0:00:00\u001b[0m\n",
            "\u001b[2K   \u001b[90m━━━━━━━━━━━━━━━━━━━━━━━━━━━━━━━━━━━━━━━━\u001b[0m \u001b[32m19.3/19.3 MB\u001b[0m \u001b[31m95.1 MB/s\u001b[0m eta \u001b[36m0:00:00\u001b[0m\n",
            "\u001b[2K   \u001b[90m━━━━━━━━━━━━━━━━━━━━━━━━━━━━━━━━━━━━━━━━\u001b[0m \u001b[32m70.4/70.4 kB\u001b[0m \u001b[31m5.4 MB/s\u001b[0m eta \u001b[36m0:00:00\u001b[0m\n",
            "\u001b[2K   \u001b[90m━━━━━━━━━━━━━━━━━━━━━━━━━━━━━━━━━━━━━━━━\u001b[0m \u001b[32m295.8/295.8 kB\u001b[0m \u001b[31m22.5 MB/s\u001b[0m eta \u001b[36m0:00:00\u001b[0m\n",
            "\u001b[2K   \u001b[90m━━━━━━━━━━━━━━━━━━━━━━━━━━━━━━━━━━━━━━━━\u001b[0m \u001b[32m3.6/3.6 MB\u001b[0m \u001b[31m100.0 MB/s\u001b[0m eta \u001b[36m0:00:00\u001b[0m\n",
            "\u001b[2K   \u001b[90m━━━━━━━━━━━━━━━━━━━━━━━━━━━━━━━━━━━━━━━━\u001b[0m \u001b[32m284.2/284.2 kB\u001b[0m \u001b[31m22.7 MB/s\u001b[0m eta \u001b[36m0:00:00\u001b[0m\n",
            "\u001b[2K   \u001b[90m━━━━━━━━━━━━━━━━━━━━━━━━━━━━━━━━━━━━━━━━\u001b[0m \u001b[32m1.9/1.9 MB\u001b[0m \u001b[31m77.5 MB/s\u001b[0m eta \u001b[36m0:00:00\u001b[0m\n",
            "\u001b[2K   \u001b[90m━━━━━━━━━━━━━━━━━━━━━━━━━━━━━━━━━━━━━━━━\u001b[0m \u001b[32m101.6/101.6 kB\u001b[0m \u001b[31m8.7 MB/s\u001b[0m eta \u001b[36m0:00:00\u001b[0m\n",
            "\u001b[2K   \u001b[90m━━━━━━━━━━━━━━━━━━━━━━━━━━━━━━━━━━━━━━━━\u001b[0m \u001b[32m16.4/16.4 MB\u001b[0m \u001b[31m89.7 MB/s\u001b[0m eta \u001b[36m0:00:00\u001b[0m\n",
            "\u001b[2K   \u001b[90m━━━━━━━━━━━━━━━━━━━━━━━━━━━━━━━━━━━━━━━━\u001b[0m \u001b[32m65.8/65.8 kB\u001b[0m \u001b[31m5.0 MB/s\u001b[0m eta \u001b[36m0:00:00\u001b[0m\n",
            "\u001b[2K   \u001b[90m━━━━━━━━━━━━━━━━━━━━━━━━━━━━━━━━━━━━━━━━\u001b[0m \u001b[32m55.7/55.7 kB\u001b[0m \u001b[31m4.4 MB/s\u001b[0m eta \u001b[36m0:00:00\u001b[0m\n",
            "\u001b[2K   \u001b[90m━━━━━━━━━━━━━━━━━━━━━━━━━━━━━━━━━━━━━━━━\u001b[0m \u001b[32m118.5/118.5 kB\u001b[0m \u001b[31m7.8 MB/s\u001b[0m eta \u001b[36m0:00:00\u001b[0m\n",
            "\u001b[2K   \u001b[90m━━━━━━━━━━━━━━━━━━━━━━━━━━━━━━━━━━━━━━━━\u001b[0m \u001b[32m196.2/196.2 kB\u001b[0m \u001b[31m14.8 MB/s\u001b[0m eta \u001b[36m0:00:00\u001b[0m\n",
            "\u001b[2K   \u001b[90m━━━━━━━━━━━━━━━━━━━━━━━━━━━━━━━━━━━━━━━━\u001b[0m \u001b[32m104.9/104.9 kB\u001b[0m \u001b[31m8.5 MB/s\u001b[0m eta \u001b[36m0:00:00\u001b[0m\n",
            "\u001b[2K   \u001b[90m━━━━━━━━━━━━━━━━━━━━━━━━━━━━━━━━━━━━━━━━\u001b[0m \u001b[32m71.2/71.2 kB\u001b[0m \u001b[31m5.7 MB/s\u001b[0m eta \u001b[36m0:00:00\u001b[0m\n",
            "\u001b[2K   \u001b[90m━━━━━━━━━━━━━━━━━━━━━━━━━━━━━━━━━━━━━━━━\u001b[0m \u001b[32m459.8/459.8 kB\u001b[0m \u001b[31m31.7 MB/s\u001b[0m eta \u001b[36m0:00:00\u001b[0m\n",
            "\u001b[2K   \u001b[90m━━━━━━━━━━━━━━━━━━━━━━━━━━━━━━━━━━━━━━━━\u001b[0m \u001b[32m4.0/4.0 MB\u001b[0m \u001b[31m97.6 MB/s\u001b[0m eta \u001b[36m0:00:00\u001b[0m\n",
            "\u001b[2K   \u001b[90m━━━━━━━━━━━━━━━━━━━━━━━━━━━━━━━━━━━━━━━━\u001b[0m \u001b[32m453.1/453.1 kB\u001b[0m \u001b[31m31.3 MB/s\u001b[0m eta \u001b[36m0:00:00\u001b[0m\n",
            "\u001b[2K   \u001b[90m━━━━━━━━━━━━━━━━━━━━━━━━━━━━━━━━━━━━━━━━\u001b[0m \u001b[32m46.0/46.0 kB\u001b[0m \u001b[31m3.5 MB/s\u001b[0m eta \u001b[36m0:00:00\u001b[0m\n",
            "\u001b[2K   \u001b[90m━━━━━━━━━━━━━━━━━━━━━━━━━━━━━━━━━━━━━━━━\u001b[0m \u001b[32m86.8/86.8 kB\u001b[0m \u001b[31m6.6 MB/s\u001b[0m eta \u001b[36m0:00:00\u001b[0m\n",
            "\u001b[?25h  Building wheel for clipboard (setup.py) ... \u001b[?25l\u001b[?25hdone\n",
            "  Building wheel for pypika (pyproject.toml) ... \u001b[?25l\u001b[?25hdone\n",
            "\u001b[31mERROR: pip's dependency resolver does not currently take into account all the packages that are installed. This behaviour is the source of the following dependency conflicts.\n",
            "transformers 4.52.4 requires tokenizers<0.22,>=0.21, but you have tokenizers 0.19.1 which is incompatible.\u001b[0m\u001b[31m\n",
            "\u001b[0m"
          ]
        }
      ],
      "source": [
        "!pip install -qU openai langchain langchain-upstage langchain-chroma getpass4"
      ]
    },
    {
      "cell_type": "markdown",
      "source": [
        "# Upstage API Key 입력"
      ],
      "metadata": {
        "id": "SBoAwMCL9a_2"
      }
    },
    {
      "cell_type": "code",
      "source": [
        "# @title set API key\n",
        "import os\n",
        "import getpass\n",
        "import warnings\n",
        "\n",
        "warnings.filterwarnings(\"ignore\")\n",
        "\n",
        "# Get the Upstage API key using getpass\n",
        "if \"UPSTAGE_API_KEY\" not in os.environ or not os.environ[\"UPSTAGE_API_KEY\"]:\n",
        "    os.environ[\"UPSTAGE_API_KEY\"] = getpass.getpass(\"Enter your Upstage API key: \")\n",
        "\n",
        "print(\"API key has been set successfully.\")"
      ],
      "metadata": {
        "colab": {
          "base_uri": "https://localhost:8080/"
        },
        "id": "jek4UJ2G9eKX",
        "outputId": "0fd99cfa-2e8c-4754-9897-c54f8e65aa13"
      },
      "execution_count": 6,
      "outputs": [
        {
          "output_type": "stream",
          "name": "stdout",
          "text": [
            "Enter your Upstage API key: ··········\n",
            "API key has been set successfully.\n"
          ]
        }
      ]
    },
    {
      "cell_type": "markdown",
      "source": [
        "# csv -> Vector\n",
        "## 문단 리스트 준비"
      ],
      "metadata": {
        "id": "0IckkW1w_tYq"
      }
    },
    {
      "cell_type": "code",
      "source": [
        "from langchain.text_splitter import RecursiveCharacterTextSplitter\n",
        "from langchain.schema import Document\n",
        "import pandas as pd\n",
        "from typing import List\n",
        "\n",
        "# patients.csv 읽기 (환자 기본 정보)\n",
        "df = pd.read_csv(\"patients.csv\")\n",
        "\n",
        "# csv에서 사례화\n",
        "def row_to_text(row) -> str:\n",
        "    text = (\n",
        "        f\"PATIENT_ID: {row['Id']} 환자는, \"\n",
        "        f\"{row['BIRTHDATE']}에 태어났고, 성별은 {row['GENDER']}, 인종은 {row['RACE']}, 민족성은 {row['ETHNICITY']}입니다.\"\n",
        "        # 나이 추가할 것\n",
        "    )\n",
        "    return text\n",
        "\n",
        "texts = df.apply(row_to_text, axis=1).tolist()\n",
        "\n",
        "# 문서 리스트 준비\n",
        "patient_docs = []\n",
        "for _, row in df.iterrows():\n",
        "    text = row_to_text(row)\n",
        "    patient_docs.append(Document(page_content=text, metadata={\"patient_id\": row[\"Id\"]}))"
      ],
      "metadata": {
        "id": "Hm_2rLOW_xHx"
      },
      "execution_count": 48,
      "outputs": []
    },
    {
      "cell_type": "code",
      "source": [
        "import pandas as pd\n",
        "from langchain.schema import Document\n",
        "\n",
        "# conditions.csv 읽기\n",
        "df = pd.read_csv(\"conditions.csv\")\n",
        "\n",
        "# disorder만 필터링\n",
        "df = df[df[\"DESCRIPTION\"].str.contains(r\"\\(disorder\\)\", na=False)].copy()\n",
        "\n",
        "# ✅ (disorder) 제거\n",
        "df[\"DESCRIPTION\"] = df[\"DESCRIPTION\"].str.replace(r\"\\s*\\(disorder\\)\", \"\", regex=True)\n",
        "\n",
        "# PATIENT_ID 기준으로 그룹화\n",
        "grouped = df.groupby(\"PATIENT\")\n",
        "\n",
        "# 환자별 사례화 함수\n",
        "def patient_conditions_to_text(patient_id, group_df):\n",
        "    conditions_text = \"\"\n",
        "    for _, row in group_df.iterrows():\n",
        "        conditions_text += (\n",
        "            f\"{row['START']}부터 {row['STOP']}까지 \"\n",
        "            f\"질병 코드 {row['CODE']}의 {row['DESCRIPTION']}을(를) 진단 받았습니다. \"\n",
        "        )\n",
        "    text = f\"PATIENT_ID: {patient_id} 환자는 다음과 같은 질병을 진단 받았습니다. {conditions_text}\"\n",
        "    return text\n",
        "\n",
        "# 문서 리스트 준비\n",
        "conditions_docs = []\n",
        "for patient_id, group_df in grouped:\n",
        "    text = patient_conditions_to_text(patient_id, group_df)\n",
        "    conditions_docs.append(Document(page_content=text, metadata={\"patient_id\": patient_id}))\n",
        "\n",
        "print(\"총 문서 수:\", len(conditions_docs))\n",
        "print(\"예시 문서:\\n\", conditions_docs[0].page_content)"
      ],
      "metadata": {
        "colab": {
          "base_uri": "https://localhost:8080/"
        },
        "id": "BrRPC5DIxk-2",
        "outputId": "3054e82e-d68f-4f0c-f343-e0959e15fb96"
      },
      "execution_count": 53,
      "outputs": [
        {
          "output_type": "stream",
          "name": "stdout",
          "text": [
            "총 문서 수: 1171\n",
            "예시 문서:\n",
            " PATIENT_ID: 0057c08f-6c39-0080-da1a-7d535d5ecbac 환자는 다음과 같은 질병을 진단 받았습니다. 2012-03-22부터 nan까지 질병 코드 271737000.0의 Anemia을(를) 진단 받았습니다. 2015-11-12부터 2015-11-27까지 질병 코드 66383009.0의 Gingivitis을(를) 진단 받았습니다. 2015-11-13부터 2015-12-08까지 질병 코드 444814009.0의 Viral sinusitis을(를) 진단 받았습니다. 2018-11-01부터 2018-11-24까지 질병 코드 444814009.0의 Viral sinusitis을(를) 진단 받았습니다. 2024-01-19부터 2024-02-02까지 질병 코드 66383009.0의 Gingivitis을(를) 진단 받았습니다. 2024-02-02부터 2024-02-02까지 질병 코드 18718003.0의 Gingival disease을(를) 진단 받았습니다. \n"
          ]
        }
      ]
    },
    {
      "cell_type": "markdown",
      "source": [
        "## Chunking 작업"
      ],
      "metadata": {
        "id": "u5DoSL_nAA6e"
      }
    },
    {
      "cell_type": "code",
      "source": [
        "# Splitter 설정\n",
        "patient_text_splitter = RecursiveCharacterTextSplitter(\n",
        "    chunk_size=300,\n",
        "    chunk_overlap=0,\n",
        ")\n",
        "\n",
        "# 실제 split\n",
        "patient_splits = patient_text_splitter.split_documents(patient_docs)\n",
        "\n",
        "# 결과 출력\n",
        "print(\"Splits:\", len(patient_splits))\n"
      ],
      "metadata": {
        "colab": {
          "base_uri": "https://localhost:8080/"
        },
        "id": "4ilRBlVw_23o",
        "outputId": "3680ec13-c99d-4dc1-a83d-cc6b2e83dfec"
      },
      "execution_count": 34,
      "outputs": [
        {
          "output_type": "stream",
          "name": "stdout",
          "text": [
            "Splits: 1182\n"
          ]
        }
      ]
    },
    {
      "cell_type": "code",
      "source": [
        "# Splitter 설정\n",
        "conditions_text_splitter = RecursiveCharacterTextSplitter(\n",
        "    chunk_size=250,\n",
        "    chunk_overlap=20, # 같은 환자의 여러 질병을 고려\n",
        ")\n",
        "\n",
        "# 실제 split\n",
        "conditions_splits = conditions_text_splitter.split_documents(conditions_docs)\n",
        "\n",
        "# 결과 출력\n",
        "print(\"Splits:\", len(conditions_splits))\n"
      ],
      "metadata": {
        "colab": {
          "base_uri": "https://localhost:8080/"
        },
        "id": "GscosMzbKEB8",
        "outputId": "bdc64ee8-c72a-44b6-a45e-f9af4bfdec3d"
      },
      "execution_count": 55,
      "outputs": [
        {
          "output_type": "stream",
          "name": "stdout",
          "text": [
            "Splits: 5600\n"
          ]
        }
      ]
    },
    {
      "cell_type": "markdown",
      "source": [
        "## Plot 시각화"
      ],
      "metadata": {
        "id": "mBEbWw6ABJH7"
      }
    },
    {
      "cell_type": "code",
      "source": [
        "# 시각화\n",
        "import matplotlib.pyplot as plt\n",
        "\n",
        "split_lengths = [len(split.page_content) for split in conditions_splits] # 여기 splits 변경\n",
        "\n",
        "plt.bar(range(len(split_lengths)), split_lengths)\n",
        "plt.title(\"RecursiveCharacterTextSplitter\")\n",
        "plt.xlabel(\"Split Index\")\n",
        "plt.ylabel(\"Split Content Length\")\n",
        "plt.xticks(range(len(split_lengths)), [])\n",
        "plt.show()"
      ],
      "metadata": {
        "colab": {
          "base_uri": "https://localhost:8080/",
          "height": 458
        },
        "id": "bnu1vgUCBE-v",
        "outputId": "68b8c5ba-ee81-415b-d2e8-e71b1ac2e962"
      },
      "execution_count": 56,
      "outputs": [
        {
          "output_type": "display_data",
          "data": {
            "text/plain": [
              "<Figure size 640x480 with 1 Axes>"
            ],
            "image/png": "[encoded data removed]"
          },
          "metadata": {}
        }
      ]
    },
    {
      "cell_type": "markdown",
      "source": [
        "## Vector DB 저장"
      ],
      "metadata": {
        "id": "VELHS6FKBUTX"
      }
    },
    {
      "cell_type": "code",
      "source": [
        "from langchain_chroma import Chroma\n",
        "from langchain_upstage import UpstageEmbeddings\n",
        "from langchain.docstore.document import Document\n",
        "\n",
        "# 1️⃣ Embeddings 객체 선언\n",
        "embeddings = UpstageEmbeddings(model=\"embedding-query\")\n",
        "\n",
        "# 2️⃣ Chroma 벡터 DB 생성 및 문서 삽입\n",
        "patient_vectorstore = Chroma.from_documents(\n",
        "    documents=patient_splits,\n",
        "    embedding=embeddings,\n",
        "    persist_directory=\"./chroma_patient_db\"  # ✅ 여기에 경로 추가!\n",
        ")"
      ],
      "metadata": {
        "colab": {
          "base_uri": "https://localhost:8080/"
        },
        "id": "837B16Q4Czuq",
        "outputId": "d7450793-b5cd-478b-f363-7e59189c1a3c"
      },
      "execution_count": 63,
      "outputs": [
        {
          "output_type": "stream",
          "name": "stderr",
          "text": [
            "ERROR:chromadb.telemetry.product.posthog:Failed to send telemetry event ClientStartEvent: capture() takes 1 positional argument but 3 were given\n",
            "ERROR:chromadb.telemetry.product.posthog:Failed to send telemetry event ClientCreateCollectionEvent: capture() takes 1 positional argument but 3 were given\n"
          ]
        }
      ]
    },
    {
      "cell_type": "code",
      "source": [
        "patient_vectorstore = Chroma(\n",
        "    persist_directory=\"./chroma_patient_db\",\n",
        "    embedding_function=embeddings\n",
        ")"
      ],
      "metadata": {
        "colab": {
          "base_uri": "https://localhost:8080/"
        },
        "id": "TwZLwE2zn0_w",
        "outputId": "75a2efc7-a37a-42f4-d18d-cf2466ca2b84"
      },
      "execution_count": 59,
      "outputs": [
        {
          "output_type": "stream",
          "name": "stderr",
          "text": [
            "ERROR:chromadb.telemetry.product.posthog:Failed to send telemetry event ClientStartEvent: capture() takes 1 positional argument but 3 were given\n",
            "ERROR:chromadb.telemetry.product.posthog:Failed to send telemetry event ClientCreateCollectionEvent: capture() takes 1 positional argument but 3 were given\n"
          ]
        }
      ]
    },
    {
      "cell_type": "code",
      "source": [
        "# 2️⃣ Chroma 벡터 DB 생성 및 문서 삽입\n",
        "conditions_vectorstore = Chroma.from_documents(\n",
        "    documents=conditions_splits, # 43975개 -> 거의 1달러 씀, 1시간 20분 정도 소요 / 5600 -> 10분\n",
        "    embedding=embeddings,\n",
        "    persist_directory=\"./chroma_conditions_db\"\n",
        ")"
      ],
      "metadata": {
        "colab": {
          "base_uri": "https://localhost:8080/"
        },
        "id": "d5Ml-1Hp2YET",
        "outputId": "2de4740b-981f-4738-8872-bd5b2d672e60"
      },
      "execution_count": 62,
      "outputs": [
        {
          "output_type": "stream",
          "name": "stderr",
          "text": [
            "ERROR:chromadb.telemetry.product.posthog:Failed to send telemetry event ClientStartEvent: capture() takes 1 positional argument but 3 were given\n",
            "ERROR:chromadb.telemetry.product.posthog:Failed to send telemetry event ClientCreateCollectionEvent: capture() takes 1 positional argument but 3 were given\n"
          ]
        }
      ]
    },
    {
      "cell_type": "code",
      "source": [
        "conditions_vectorstore = Chroma(\n",
        "    persist_directory=\"./chroma_conditions_db\",\n",
        "    embedding_function=embeddings\n",
        ")"
      ],
      "metadata": {
        "colab": {
          "base_uri": "https://localhost:8080/"
        },
        "id": "zwF4_GNYoMQN",
        "outputId": "a9bc517e-a932-4f95-bc0e-3e7f28f1b105"
      },
      "execution_count": 64,
      "outputs": [
        {
          "output_type": "stream",
          "name": "stderr",
          "text": [
            "ERROR:chromadb.telemetry.product.posthog:Failed to send telemetry event ClientStartEvent: capture() takes 1 positional argument but 3 were given\n",
            "ERROR:chromadb.telemetry.product.posthog:Failed to send telemetry event ClientCreateCollectionEvent: capture() takes 1 positional argument but 3 were given\n"
          ]
        }
      ]
    },
    {
      "cell_type": "markdown",
      "source": [
        "# LLM 생성"
      ],
      "metadata": {
        "id": "kp81DqS3ECOq"
      }
    },
    {
      "cell_type": "code",
      "source": [
        "# ✅ Dense Retriever 생성\n",
        "patient_retriever = patient_vectorstore.as_retriever(\n",
        "    search_type='mmr',\n",
        "    search_kwargs={'k': 1},\n",
        ")\n",
        "\n",
        "conditions_retriever = conditions_vectorstore.as_retriever(\n",
        "    search_type='mmr',\n",
        "    search_kwargs={'k': 1},\n",
        ")\n",
        "\n",
        "# ✅ 사용자의 한국어 질문 예시\n",
        "query = \"환자 중에 아무 사람을 골라서 해당 환자의 진단 질병을 요약해줘.\"\n",
        "\n",
        "# ✅ 검색된 문서 가져오기\n",
        "patient_docs = patient_retriever.invoke(query)\n",
        "conditions_docs = conditions_retriever.invoke(query)\n",
        "\n",
        "all_context = \"\\n\".join([\n",
        "    doc.page_content for doc in (patient_docs + conditions_docs)\n",
        "])\n",
        "\n",
        "# ✅ 한국어 system 프롬프트 정의\n",
        "from langchain_upstage import ChatUpstage\n",
        "from langchain_core.prompts import ChatPromptTemplate\n",
        "from langchain_core.output_parsers import StrOutputParser\n",
        "\n",
        "llm = ChatUpstage()\n",
        "\n",
        "prompt = ChatPromptTemplate.from_messages(\n",
        "    [\n",
        "        (\n",
        "            \"system\",\n",
        "            \"\"\"\n",
        "            당신은 환자 정보에 대한 질문에 친절히 답변하는 한국어 의료 AI 어시스턴트입니다.\n",
        "            아래 CONTEXT 정보를 참고하여 환자 정보를 자연스럽고 이해하기 쉽게 한국어로 풀어서 설명해 주세요.\n",
        "            CONTEXT에 포함되지 않은 질병명은 절대 작성하지 마세요. 모르면 \"모른다\"고 답하세요.\n",
        "            CONTEXT 정보는 총 2가지로 제공됩니다. 각각은 순서대로 환자 기본 정보, 진단 질병 정보입니다.\n",
        "            PATIENT_ID를 기준으로 같은 환자의 정보를 연결해서 참고하세요.\n",
        "            각 정보를 의료진이 환자에게 직접 설명하듯 문단 형태로 자연스럽게 이어서 작성해 주세요.\n",
        "            너무 긴 리스트 형태는 피하고, 중요한 내용은 간결히 요약해 주세요.\n",
        "            ---\n",
        "            CONTEXT:\n",
        "            {context}\n",
        "            \"\"\",\n",
        "        ),\n",
        "        (\"human\", \"{input}\"),\n",
        "    ]\n",
        ")\n",
        "\n",
        "# ✅ LLM chain 구성\n",
        "chain = prompt | llm | StrOutputParser()\n",
        "\n",
        "# ✅ 최종 chain 호출\n",
        "response = chain.invoke({\"context\": all_context, \"input\": query})\n",
        "\n",
        "print(\"\\n💬 AI의 답변:\")\n",
        "print(response)\n"
      ],
      "metadata": {
        "colab": {
          "base_uri": "https://localhost:8080/"
        },
        "id": "E8a4C1MzD_x4",
        "outputId": "6fb638f4-f7ba-4887-fd33-b53a06e8925e"
      },
      "execution_count": 69,
      "outputs": [
        {
          "output_type": "stream",
          "name": "stdout",
          "text": [
            "\n",
            "💬 AI의 답변:\n",
            "환자 번호 c0c608f5-e65c-1d52-7b88-34ac126222a5의 환자는 1966년 7월 16일에 태어난 남성 환자분으로, 인종은 white, 민족성은 nonhispanic입니다. 이 환자분은 두 가지 질병을 진단 받으셨습니다. 첫 번째 질병은 '중이염(Otitis media)'으로, 2018년 4월 11일부터 2018년 8월 4일까지 진단을 받으셨습니다. 두 번째 질병은 '골절(Fracture of bone)'로, 2018년 6월 25일부터 2018년 8월 11일까지 진단을 받으셨습니다. 골절의 구체적인 부위는 기록되어 있지 않습니다.\n"
          ]
        }
      ]
    },
    {
      "cell_type": "code",
      "source": [
        "patient_id = \"59ee5bee-ed92-b2e1-c22a-5944801b159a\"\n",
        "\n",
        "# filter로 가져오기\n",
        "filtered = conditions_vectorstore._collection.get(\n",
        "    where={\"patient_id\": {\"$eq\": patient_id}},\n",
        "    include=[\"documents\", \"metadatas\"]\n",
        ")\n",
        "\n",
        "for i, doc in enumerate(filtered[\"documents\"]):\n",
        "    print(f\"\\n--- Document {i+1} ---\")\n",
        "    print(doc)\n",
        "    print(filtered[\"metadatas\"][i])\n"
      ],
      "metadata": {
        "colab": {
          "base_uri": "https://localhost:8080/"
        },
        "id": "fS33yZ5VgeX7",
        "outputId": "e773c180-6ef7-4781-869f-68c174ec54c3"
      },
      "execution_count": 67,
      "outputs": [
        {
          "output_type": "stream",
          "name": "stderr",
          "text": [
            "ERROR:chromadb.telemetry.product.posthog:Failed to send telemetry event CollectionGetEvent: capture() takes 1 positional argument but 3 were given\n"
          ]
        },
        {
          "output_type": "stream",
          "name": "stdout",
          "text": [
            "\n",
            "--- Document 1 ---\n",
            "PATIENT_ID: 59ee5bee-ed92-b2e1-c22a-5944801b159a 환자는 다음과 같은 질병을 진단 받았습니다. 2022-09-23부터 2022-10-03까지 질병 코드 444814009.0의 Viral sinusitis을(를) 진단 받았습니다.\n",
            "{'patient_id': '59ee5bee-ed92-b2e1-c22a-5944801b159a'}\n"
          ]
        }
      ]
    },
    {
      "cell_type": "markdown",
      "source": [],
      "metadata": {
        "id": "tovZystEdRLi"
      }
    },
    {
      "cell_type": "markdown",
      "source": [
        "TMI: 여기까지 돌리는 데 Billing 0.05$ 사용\n",
        "### Now What?\n",
        "GPT 추천:\n",
        "# ✅ 💡 선택지 크게 두 가지\n",
        "\n",
        "## 🅰️ **전부 조인 후 넣기 (One big chunk)**\n",
        "\n",
        "### ✔️ 장점\n",
        "\n",
        "* 환자 한 명에 대한 정보가 하나의 청크에 모두 담김 → 질문할 때 정확한 컨텍스트 제공\n",
        "* 질병, 약물, 투약 주의사항 등을 한 번에 설명하기 쉬움\n",
        "\n",
        "### ❌ 단점\n",
        "\n",
        "* row 폭발 (조인한 경우 레코드 수 \\* 약물 수 \\* 진단 수 …)\n",
        "* 청크가 너무 커짐 → 나눠야 할 때 문맥이 깨짐\n",
        "* 관리/업데이트 어려움\n",
        "\n",
        "---\n",
        "\n",
        "## 🅱️ **테이블별로 분리, Retriever에서 동적 컨텍스트 결합 (멀티-벡터 전략)**\n",
        "\n",
        "### ✔️ 장점\n",
        "\n",
        "* 각 테이블 정보 독립적으로 유지\n",
        "* 스케일 확장 유리 (예: 약물 DB 업데이트, 질환 DB 변경 등)\n",
        "* Retriever 단계에서 동적으로 \"다중 소스\" 컨텍스트 결합 가능\n",
        "\n",
        "### ❌ 단점\n",
        "\n",
        "* QA 정확도를 높이려면 \"적절한 컨텍스트 조합 로직\" 필요\n",
        "* LLM 프롬프트 설계가 복잡\n",
        "\n",
        "---\n",
        "\n",
        "# ✅ 💡 현업과 연구에서 많이 쓰는 전략: **멀티-벡터 & 멀티-Retriever 방식**\n",
        "\n",
        "### 💡 구조\n",
        "\n",
        "```\n",
        "[벡터 DB A] ← 환자 정보 테이블 (예: Patient Demographics)\n",
        "[벡터 DB B] ← 질병 정보 테이블 (예: Diagnoses)\n",
        "[벡터 DB C] ← 약물 정보 테이블 (예: Medications)\n",
        "```\n",
        "\n",
        "---\n",
        "\n",
        "## ✅ 1️⃣ 각 테이블별로 개별 벡터 DB 구축\n",
        "\n",
        "* 각 테이블 row 단위로 Document 생성 → 독립 embedding\n",
        "* 예:\n",
        "\n",
        "```python\n",
        "patient_docs = [Document(page_content=\"환자 A: 60세, 남성, 당뇨, 고혈압\", metadata={\"patient_id\": \"A\"})]\n",
        "diagnosis_docs = [Document(page_content=\"환자 A: 진단명: 당뇨병, HbA1c: 8.5%\", metadata={\"patient_id\": \"A\"})]\n",
        "medication_docs = [Document(page_content=\"환자 A: 메트포르민 투약 중\", metadata={\"patient_id\": \"A\"})]\n",
        "```\n",
        "\n",
        "---\n",
        "\n",
        "## ✅ 2️⃣ Retriever 여러 개 선언\n",
        "\n",
        "```python\n",
        "patient_retriever = patient_vectorstore.as_retriever(search_kwargs={'k': 1})\n",
        "diagnosis_retriever = diagnosis_vectorstore.as_retriever(search_kwargs={'k': 1})\n",
        "medication_retriever = medication_vectorstore.as_retriever(search_kwargs={'k': 1})\n",
        "```\n",
        "\n",
        "---\n",
        "\n",
        "## ✅ 3️⃣ 질문 시, **각 Retriever에서 병렬 검색 → 결과 컨텍스트 합침**\n",
        "\n",
        "```python\n",
        "patient_docs = patient_retriever.invoke(query)\n",
        "diagnosis_docs = diagnosis_retriever.invoke(query)\n",
        "medication_docs = medication_retriever.invoke(query)\n",
        "\n",
        "all_context = \"\\n\".join([\n",
        "    doc.page_content for doc in (patient_docs + diagnosis_docs + medication_docs)\n",
        "])\n",
        "```\n",
        "\n",
        "---\n",
        "\n",
        "## ✅ 4️⃣ LLM에 합쳐진 context 전달\n",
        "\n",
        "```python\n",
        "response = chain.invoke({\"context\": all_context, \"input\": query})\n",
        "```\n",
        "\n",
        "---\n",
        "\n",
        "# ✅ 💬 **실제 사용 시 포인트**\n",
        "\n",
        "| 고려 사항         | 내용                                                                      |\n",
        "| ------------- | ----------------------------------------------------------------------- |\n",
        "| ✅ 컨텍스트 길이     | 여러 테이블 합치면 길어질 수 있음 → 필요하면 각 테이블에서 `k` 값을 줄이거나 요약 추가                    |\n",
        "| ✅ metadata 활용 | `patient_id`, `diagnosis_id` 등으로 cross-link → 필터 기반 검색 강화 가능            |\n",
        "| ✅ 프롬프트 설계     | \"아래에 환자 기본정보, 질병정보, 약물정보가 있습니다. 이 환자에게 적합한 약물과 투약 시 주의사항을 종합적으로 알려주세요.\" |\n",
        "\n",
        "---\n",
        "\n",
        "# ✅ ✅ 💡 **요약**\n",
        "\n",
        "### 💡 다 조인? ❌\n",
        "\n",
        "* 데이터 폭발, 관리 불가\n",
        "\n",
        "### 💡 테이블별 분리 & Retriever에서 조합? ✅\n",
        "\n",
        "* 유연, scalable, 관리 쉽고, 정확도 높음\n",
        "\n",
        "---"
      ],
      "metadata": {
        "id": "oXg7hr5VEhHh"
      }
    }
  ]
}