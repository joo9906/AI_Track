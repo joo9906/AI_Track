{
  "cells": [
    {
      "cell_type": "markdown",
      "metadata": {
        "colab_type": "text",
        "id": "view-in-github"
      },
      "source": [
        "<a href=\"https://colab.research.google.com/github/joo9906/AI_Track/blob/main/Team8.ipynb\" target=\"_parent\"><img src=\"https://colab.research.google.com/assets/colab-badge.svg\" alt=\"Open In Colab\"/></a>"
      ]
    },
    {
      "cell_type": "markdown",
      "metadata": {
        "id": "0GdzqBNr9KIH"
      },
      "source": [
        "### 필요한 라이브러리 다운로드"
      ]
    },
    {
      "cell_type": "code",
      "execution_count": 4,
      "metadata": {
        "colab": {
          "base_uri": "https://localhost:8080/"
        },
        "id": "Y8h3AEvE1Hcs",
        "outputId": "91002855-a4b1-4ea2-8b95-9144bce92869"
      },
      "outputs": [
        {
          "name": "stderr",
          "output_type": "stream",
          "text": [
            "\n",
            "[notice] A new release of pip is available: 24.0 -> 25.1.1\n",
            "[notice] To update, run: C:\\Users\\SSAFY\\AppData\\Local\\Microsoft\\WindowsApps\\PythonSoftwareFoundation.Python.3.11_qbz5n2kfra8p0\\python.exe -m pip install --upgrade pip\n"
          ]
        },
        {
          "name": "stdout",
          "output_type": "stream",
          "text": [
            "Collecting pandas\n",
            "  Downloading pandas-2.3.0-cp311-cp311-win_amd64.whl.metadata (19 kB)\n",
            "Requirement already satisfied: numpy in c:\\users\\ssafy\\appdata\\local\\packages\\pythonsoftwarefoundation.python.3.11_qbz5n2kfra8p0\\localcache\\local-packages\\python311\\site-packages (2.3.1)\n",
            "Requirement already satisfied: python-dateutil>=2.8.2 in c:\\users\\ssafy\\appdata\\local\\packages\\pythonsoftwarefoundation.python.3.11_qbz5n2kfra8p0\\localcache\\local-packages\\python311\\site-packages (from pandas) (2.9.0.post0)\n",
            "Collecting pytz>=2020.1 (from pandas)\n",
            "  Downloading pytz-2025.2-py2.py3-none-any.whl.metadata (22 kB)\n",
            "Collecting tzdata>=2022.7 (from pandas)\n",
            "  Downloading tzdata-2025.2-py2.py3-none-any.whl.metadata (1.4 kB)\n",
            "Requirement already satisfied: six>=1.5 in c:\\users\\ssafy\\appdata\\local\\packages\\pythonsoftwarefoundation.python.3.11_qbz5n2kfra8p0\\localcache\\local-packages\\python311\\site-packages (from python-dateutil>=2.8.2->pandas) (1.17.0)\n",
            "Downloading pandas-2.3.0-cp311-cp311-win_amd64.whl (11.1 MB)\n",
            "   ---------------------------------------- 0.0/11.1 MB ? eta -:--:--\n",
            "    --------------------------------------- 0.1/11.1 MB 4.3 MB/s eta 0:00:03\n",
            "   - -------------------------------------- 0.4/11.1 MB 6.6 MB/s eta 0:00:02\n",
            "   -- ------------------------------------- 0.8/11.1 MB 7.0 MB/s eta 0:00:02\n",
            "   --- ------------------------------------ 1.0/11.1 MB 6.1 MB/s eta 0:00:02\n",
            "   ---- ----------------------------------- 1.3/11.1 MB 6.8 MB/s eta 0:00:02\n",
            "   ----- ---------------------------------- 1.6/11.1 MB 6.2 MB/s eta 0:00:02\n",
            "   ------ --------------------------------- 1.9/11.1 MB 6.4 MB/s eta 0:00:02\n",
            "   ------- -------------------------------- 2.1/11.1 MB 6.8 MB/s eta 0:00:02\n",
            "   -------- ------------------------------- 2.5/11.1 MB 6.6 MB/s eta 0:00:02\n",
            "   --------- ------------------------------ 2.8/11.1 MB 6.8 MB/s eta 0:00:02\n",
            "   ---------- ----------------------------- 2.9/11.1 MB 6.4 MB/s eta 0:00:02\n",
            "   ----------- ---------------------------- 3.3/11.1 MB 6.5 MB/s eta 0:00:02\n",
            "   ------------ --------------------------- 3.5/11.1 MB 6.4 MB/s eta 0:00:02\n",
            "   ------------- -------------------------- 3.8/11.1 MB 6.4 MB/s eta 0:00:02\n",
            "   -------------- ------------------------- 4.1/11.1 MB 6.4 MB/s eta 0:00:02\n",
            "   --------------- ------------------------ 4.3/11.1 MB 6.4 MB/s eta 0:00:02\n",
            "   ---------------- ----------------------- 4.7/11.1 MB 6.3 MB/s eta 0:00:02\n",
            "   ----------------- ---------------------- 4.9/11.1 MB 6.4 MB/s eta 0:00:01\n",
            "   ------------------- -------------------- 5.3/11.1 MB 6.4 MB/s eta 0:00:01\n",
            "   ------------------- -------------------- 5.5/11.1 MB 6.4 MB/s eta 0:00:01\n",
            "   --------------------- ------------------ 5.9/11.1 MB 6.4 MB/s eta 0:00:01\n",
            "   ---------------------- ----------------- 6.1/11.1 MB 6.4 MB/s eta 0:00:01\n",
            "   ----------------------- ---------------- 6.4/11.1 MB 6.4 MB/s eta 0:00:01\n",
            "   ----------------------- ---------------- 6.6/11.1 MB 6.3 MB/s eta 0:00:01\n",
            "   ------------------------ --------------- 6.8/11.1 MB 6.2 MB/s eta 0:00:01\n",
            "   ------------------------- -------------- 7.1/11.1 MB 6.2 MB/s eta 0:00:01\n",
            "   -------------------------- ------------- 7.3/11.1 MB 6.2 MB/s eta 0:00:01\n",
            "   --------------------------- ------------ 7.7/11.1 MB 6.2 MB/s eta 0:00:01\n",
            "   ---------------------------- ----------- 7.9/11.1 MB 6.2 MB/s eta 0:00:01\n",
            "   ----------------------------- ---------- 8.2/11.1 MB 6.2 MB/s eta 0:00:01\n",
            "   ------------------------------ --------- 8.4/11.1 MB 6.2 MB/s eta 0:00:01\n",
            "   ------------------------------- -------- 8.6/11.1 MB 6.2 MB/s eta 0:00:01\n",
            "   -------------------------------- ------- 9.0/11.1 MB 6.2 MB/s eta 0:00:01\n",
            "   --------------------------------- ------ 9.3/11.1 MB 6.3 MB/s eta 0:00:01\n",
            "   ---------------------------------- ----- 9.5/11.1 MB 6.2 MB/s eta 0:00:01\n",
            "   ----------------------------------- ---- 9.8/11.1 MB 6.3 MB/s eta 0:00:01\n",
            "   ------------------------------------ --- 10.1/11.1 MB 6.2 MB/s eta 0:00:01\n",
            "   ------------------------------------- -- 10.5/11.1 MB 6.2 MB/s eta 0:00:01\n",
            "   ---------------------------------------  10.9/11.1 MB 6.3 MB/s eta 0:00:01\n",
            "   ---------------------------------------  11.1/11.1 MB 6.2 MB/s eta 0:00:01\n",
            "   ---------------------------------------- 11.1/11.1 MB 6.1 MB/s eta 0:00:00\n",
            "Downloading pytz-2025.2-py2.py3-none-any.whl (509 kB)\n",
            "   ---------------------------------------- 0.0/509.2 kB ? eta -:--:--\n",
            "   ------------------ --------------------- 235.5/509.2 kB 7.3 MB/s eta 0:00:01\n",
            "   --------------------------------- ------ 430.1/509.2 kB 5.4 MB/s eta 0:00:01\n",
            "   ---------------------------------------- 509.2/509.2 kB 4.0 MB/s eta 0:00:00\n",
            "Downloading tzdata-2025.2-py2.py3-none-any.whl (347 kB)\n",
            "   ---------------------------------------- 0.0/347.8 kB ? eta -:--:--\n",
            "   --------------------------- ------------ 235.5/347.8 kB 7.3 MB/s eta 0:00:01\n",
            "   ---------------------------------------- 347.8/347.8 kB 5.4 MB/s eta 0:00:00\n",
            "Installing collected packages: pytz, tzdata, pandas\n",
            "Successfully installed pandas-2.3.0 pytz-2025.2 tzdata-2025.2\n"
          ]
        },
        {
          "name": "stderr",
          "output_type": "stream",
          "text": [
            "\n",
            "[notice] A new release of pip is available: 24.0 -> 25.1.1\n",
            "[notice] To update, run: C:\\Users\\SSAFY\\AppData\\Local\\Microsoft\\WindowsApps\\PythonSoftwareFoundation.Python.3.11_qbz5n2kfra8p0\\python.exe -m pip install --upgrade pip\n"
          ]
        }
      ],
      "source": [
        "!pip install -qU openai langchain langchain-upstage langchain-chroma getpass4\n",
        "\n",
        "!pip install pandas numpy"
      ]
    },
    {
      "cell_type": "markdown",
      "metadata": {
        "id": "SBoAwMCL9a_2"
      },
      "source": [
        "# Upstage API Key 입력"
      ]
    },
    {
      "cell_type": "code",
      "execution_count": 5,
      "metadata": {
        "colab": {
          "base_uri": "https://localhost:8080/"
        },
        "id": "jek4UJ2G9eKX",
        "outputId": "0fd99cfa-2e8c-4754-9897-c54f8e65aa13"
      },
      "outputs": [
        {
          "name": "stdout",
          "output_type": "stream",
          "text": [
            "API key has been set successfully.\n"
          ]
        }
      ],
      "source": [
        "# @title set API key\n",
        "import os\n",
        "import getpass\n",
        "import warnings\n",
        "\n",
        "warnings.filterwarnings(\"ignore\")\n",
        "\n",
        "# Get the Upstage API key using getpass\n",
        "if \"UPSTAGE_API_KEY\" not in os.environ or not os.environ[\"UPSTAGE_API_KEY\"]:\n",
        "    os.environ[\"UPSTAGE_API_KEY\"] = getpass.getpass(\"Enter your Upstage API key: \")\n",
        "\n",
        "print(\"API key has been set successfully.\")"
      ]
    },
    {
      "cell_type": "markdown",
      "metadata": {
        "id": "0IckkW1w_tYq"
      },
      "source": [
        "# csv -> Vector\n",
        "## 문단 리스트 준비"
      ]
    },
    {
      "cell_type": "code",
      "execution_count": 9,
      "metadata": {
        "id": "Hm_2rLOW_xHx"
      },
      "outputs": [],
      "source": [
        "from langchain.text_splitter import RecursiveCharacterTextSplitter\n",
        "from langchain.schema import Document\n",
        "import pandas as pd\n",
        "from typing import List\n",
        "\n",
        "# patients.csv 읽기 (환자 기본 정보)\n",
        "df = pd.read_csv(\"patients.csv\")\n",
        "\n",
        "# csv에서 사례화\n",
        "def row_to_text(row) -> str:\n",
        "    text = (\n",
        "        f\"PATIENT_ID: {row['Id']} 환자는, \"\n",
        "        f\"{row['BIRTHDATE']}에 태어났고, 성별은 {row['GENDER']}, 인종은 {row['RACE']}, 민족성은 {row['ETHNICITY']}입니다.\"\n",
        "        # 나이 추가할 것\n",
        "    )\n",
        "    return text\n",
        "\n",
        "texts = df.apply(row_to_text, axis=1).tolist()\n",
        "\n",
        "# 문서 리스트 준비\n",
        "patient_docs = []\n",
        "for _, row in df.iterrows():\n",
        "    text = row_to_text(row)\n",
        "    patient_docs.append(Document(page_content=text, metadata={\"patient_id\": row[\"Id\"]}))"
      ]
    },
    {
      "cell_type": "code",
      "execution_count": null,
      "metadata": {
        "colab": {
          "base_uri": "https://localhost:8080/",
          "height": 110
        },
        "id": "BrRPC5DIxk-2",
        "outputId": "f98e45b6-ae9d-48d8-dbf2-531687fa59e5"
      },
      "outputs": [
        {
          "ename": "KeyError",
          "evalue": "'Id'",
          "output_type": "error",
          "traceback": [
            "\u001b[31m---------------------------------------------------------------------------\u001b[39m",
            "\u001b[31mKeyError\u001b[39m                                  Traceback (most recent call last)",
            "\u001b[36mFile \u001b[39m\u001b[32m~\\AppData\\Local\\Packages\\PythonSoftwareFoundation.Python.3.11_qbz5n2kfra8p0\\LocalCache\\local-packages\\Python311\\site-packages\\pandas\\core\\indexes\\base.py:3812\u001b[39m, in \u001b[36mIndex.get_loc\u001b[39m\u001b[34m(self, key)\u001b[39m\n\u001b[32m   3811\u001b[39m \u001b[38;5;28;01mtry\u001b[39;00m:\n\u001b[32m-> \u001b[39m\u001b[32m3812\u001b[39m     \u001b[38;5;28;01mreturn\u001b[39;00m \u001b[38;5;28;43mself\u001b[39;49m\u001b[43m.\u001b[49m\u001b[43m_engine\u001b[49m\u001b[43m.\u001b[49m\u001b[43mget_loc\u001b[49m\u001b[43m(\u001b[49m\u001b[43mcasted_key\u001b[49m\u001b[43m)\u001b[49m\n\u001b[32m   3813\u001b[39m \u001b[38;5;28;01mexcept\u001b[39;00m \u001b[38;5;167;01mKeyError\u001b[39;00m \u001b[38;5;28;01mas\u001b[39;00m err:\n",
            "\u001b[36mFile \u001b[39m\u001b[32mpandas/_libs/index.pyx:167\u001b[39m, in \u001b[36mpandas._libs.index.IndexEngine.get_loc\u001b[39m\u001b[34m()\u001b[39m\n",
            "\u001b[36mFile \u001b[39m\u001b[32mpandas/_libs/index.pyx:196\u001b[39m, in \u001b[36mpandas._libs.index.IndexEngine.get_loc\u001b[39m\u001b[34m()\u001b[39m\n",
            "\u001b[36mFile \u001b[39m\u001b[32mpandas/_libs/hashtable_class_helper.pxi:7088\u001b[39m, in \u001b[36mpandas._libs.hashtable.PyObjectHashTable.get_item\u001b[39m\u001b[34m()\u001b[39m\n",
            "\u001b[36mFile \u001b[39m\u001b[32mpandas/_libs/hashtable_class_helper.pxi:7096\u001b[39m, in \u001b[36mpandas._libs.hashtable.PyObjectHashTable.get_item\u001b[39m\u001b[34m()\u001b[39m\n",
            "\u001b[31mKeyError\u001b[39m: 'Id'",
            "\nThe above exception was the direct cause of the following exception:\n",
            "\u001b[31mKeyError\u001b[39m                                  Traceback (most recent call last)",
            "\u001b[36mCell\u001b[39m\u001b[36m \u001b[39m\u001b[32mIn[11]\u001b[39m\u001b[32m, line 18\u001b[39m\n\u001b[32m     16\u001b[39m \u001b[38;5;28;01mfor\u001b[39;00m _, row \u001b[38;5;129;01min\u001b[39;00m df.iterrows():\n\u001b[32m     17\u001b[39m     text = row_to_text(row)\n\u001b[32m---> \u001b[39m\u001b[32m18\u001b[39m     conditions_docs.append(Document(page_content=text, metadata={\u001b[33m\"\u001b[39m\u001b[33mpatient_id\u001b[39m\u001b[33m\"\u001b[39m: \u001b[43mrow\u001b[49m\u001b[43m[\u001b[49m\u001b[33;43m\"\u001b[39;49m\u001b[33;43mId\u001b[39;49m\u001b[33;43m\"\u001b[39;49m\u001b[43m]\u001b[49m}))\n",
            "\u001b[36mFile \u001b[39m\u001b[32m~\\AppData\\Local\\Packages\\PythonSoftwareFoundation.Python.3.11_qbz5n2kfra8p0\\LocalCache\\local-packages\\Python311\\site-packages\\pandas\\core\\series.py:1130\u001b[39m, in \u001b[36mSeries.__getitem__\u001b[39m\u001b[34m(self, key)\u001b[39m\n\u001b[32m   1127\u001b[39m     \u001b[38;5;28;01mreturn\u001b[39;00m \u001b[38;5;28mself\u001b[39m._values[key]\n\u001b[32m   1129\u001b[39m \u001b[38;5;28;01melif\u001b[39;00m key_is_scalar:\n\u001b[32m-> \u001b[39m\u001b[32m1130\u001b[39m     \u001b[38;5;28;01mreturn\u001b[39;00m \u001b[38;5;28;43mself\u001b[39;49m\u001b[43m.\u001b[49m\u001b[43m_get_value\u001b[49m\u001b[43m(\u001b[49m\u001b[43mkey\u001b[49m\u001b[43m)\u001b[49m\n\u001b[32m   1132\u001b[39m \u001b[38;5;66;03m# Convert generator to list before going through hashable part\u001b[39;00m\n\u001b[32m   1133\u001b[39m \u001b[38;5;66;03m# (We will iterate through the generator there to check for slices)\u001b[39;00m\n\u001b[32m   1134\u001b[39m \u001b[38;5;28;01mif\u001b[39;00m is_iterator(key):\n",
            "\u001b[36mFile \u001b[39m\u001b[32m~\\AppData\\Local\\Packages\\PythonSoftwareFoundation.Python.3.11_qbz5n2kfra8p0\\LocalCache\\local-packages\\Python311\\site-packages\\pandas\\core\\series.py:1246\u001b[39m, in \u001b[36mSeries._get_value\u001b[39m\u001b[34m(self, label, takeable)\u001b[39m\n\u001b[32m   1243\u001b[39m     \u001b[38;5;28;01mreturn\u001b[39;00m \u001b[38;5;28mself\u001b[39m._values[label]\n\u001b[32m   1245\u001b[39m \u001b[38;5;66;03m# Similar to Index.get_value, but we do not fall back to positional\u001b[39;00m\n\u001b[32m-> \u001b[39m\u001b[32m1246\u001b[39m loc = \u001b[38;5;28;43mself\u001b[39;49m\u001b[43m.\u001b[49m\u001b[43mindex\u001b[49m\u001b[43m.\u001b[49m\u001b[43mget_loc\u001b[49m\u001b[43m(\u001b[49m\u001b[43mlabel\u001b[49m\u001b[43m)\u001b[49m\n\u001b[32m   1248\u001b[39m \u001b[38;5;28;01mif\u001b[39;00m is_integer(loc):\n\u001b[32m   1249\u001b[39m     \u001b[38;5;28;01mreturn\u001b[39;00m \u001b[38;5;28mself\u001b[39m._values[loc]\n",
            "\u001b[36mFile \u001b[39m\u001b[32m~\\AppData\\Local\\Packages\\PythonSoftwareFoundation.Python.3.11_qbz5n2kfra8p0\\LocalCache\\local-packages\\Python311\\site-packages\\pandas\\core\\indexes\\base.py:3819\u001b[39m, in \u001b[36mIndex.get_loc\u001b[39m\u001b[34m(self, key)\u001b[39m\n\u001b[32m   3814\u001b[39m     \u001b[38;5;28;01mif\u001b[39;00m \u001b[38;5;28misinstance\u001b[39m(casted_key, \u001b[38;5;28mslice\u001b[39m) \u001b[38;5;129;01mor\u001b[39;00m (\n\u001b[32m   3815\u001b[39m         \u001b[38;5;28misinstance\u001b[39m(casted_key, abc.Iterable)\n\u001b[32m   3816\u001b[39m         \u001b[38;5;129;01mand\u001b[39;00m \u001b[38;5;28many\u001b[39m(\u001b[38;5;28misinstance\u001b[39m(x, \u001b[38;5;28mslice\u001b[39m) \u001b[38;5;28;01mfor\u001b[39;00m x \u001b[38;5;129;01min\u001b[39;00m casted_key)\n\u001b[32m   3817\u001b[39m     ):\n\u001b[32m   3818\u001b[39m         \u001b[38;5;28;01mraise\u001b[39;00m InvalidIndexError(key)\n\u001b[32m-> \u001b[39m\u001b[32m3819\u001b[39m     \u001b[38;5;28;01mraise\u001b[39;00m \u001b[38;5;167;01mKeyError\u001b[39;00m(key) \u001b[38;5;28;01mfrom\u001b[39;00m\u001b[38;5;250m \u001b[39m\u001b[34;01merr\u001b[39;00m\n\u001b[32m   3820\u001b[39m \u001b[38;5;28;01mexcept\u001b[39;00m \u001b[38;5;167;01mTypeError\u001b[39;00m:\n\u001b[32m   3821\u001b[39m     \u001b[38;5;66;03m# If we have a listlike key, _check_indexing_error will raise\u001b[39;00m\n\u001b[32m   3822\u001b[39m     \u001b[38;5;66;03m#  InvalidIndexError. Otherwise we fall through and re-raise\u001b[39;00m\n\u001b[32m   3823\u001b[39m     \u001b[38;5;66;03m#  the TypeError.\u001b[39;00m\n\u001b[32m   3824\u001b[39m     \u001b[38;5;28mself\u001b[39m._check_indexing_error(key)\n",
            "\u001b[31mKeyError\u001b[39m: 'Id'"
          ]
        }
      ],
      "source": [
        "# conditions.csv 읽기 (환자 진단 질병 정보)\n",
        "df = pd.read_csv(\"conditions.csv\")\n",
        "\n",
        "# csv에서 사례화\n",
        "def row_to_text(row) -> str:\n",
        "    text = (\n",
        "        f\"PATIENT_ID: {row['PATIENT']} 환자는, \"\n",
        "        f\"{row['START']}부터 {row['STOP']}까지 질병 코드: {row['CODE']}, {row['DESCRIPTION']}을 진단 받았습니다.\"\n",
        "    )\n",
        "    return text\n",
        "\n",
        "texts = df.apply(row_to_text, axis=1).tolist()\n",
        "\n",
        "# 문서 리스트 준비\n",
        "conditions_docs = []\n",
        "for _, row in df.iterrows():\n",
        "    text = row_to_text(row)\n",
        "    conditions_docs.append(Document(page_content=text, metadata={\"patient_id\": row[\"PATIENT\"]}))"
      ]
    },
    {
      "cell_type": "markdown",
      "metadata": {
        "id": "u5DoSL_nAA6e"
      },
      "source": [
        "## Chunking 작업"
      ]
    },
    {
      "cell_type": "code",
      "execution_count": null,
      "metadata": {
        "colab": {
          "base_uri": "https://localhost:8080/"
        },
        "id": "4ilRBlVw_23o",
        "outputId": "7a39290a-c1ac-4707-fa3f-39dedd8ef61a"
      },
      "outputs": [
        {
          "name": "stdout",
          "output_type": "stream",
          "text": [
            "Splits: 1182\n"
          ]
        }
      ],
      "source": [
        "# Splitter 설정\n",
        "patient_text_splitter = RecursiveCharacterTextSplitter(\n",
        "    chunk_size=300,\n",
        "    chunk_overlap=0,\n",
        ")\n",
        "\n",
        "# 실제 split\n",
        "patient_splits = patient_text_splitter.split_documents(patient_docs)\n",
        "\n",
        "# 결과 출력\n",
        "print(\"Splits:\", len(patient_splits))\n"
      ]
    },
    {
      "cell_type": "markdown",
      "metadata": {
        "id": "mBEbWw6ABJH7"
      },
      "source": [
        "## Plot 시각화"
      ]
    },
    {
      "cell_type": "code",
      "execution_count": null,
      "metadata": {
        "colab": {
          "base_uri": "https://localhost:8080/",
          "height": 458
        },
        "id": "bnu1vgUCBE-v",
        "outputId": "a5d7b6a4-46b1-4cb4-ea29-7fcb425f4c45"
      },
      "outputs": [
        {
          "data": {
            "image/png": "[encoded data removed]",
            "text/plain": [
              "<Figure size 640x480 with 1 Axes>"
            ]
          },
          "metadata": {},
          "output_type": "display_data"
        }
      ],
      "source": [
        "# 시각화\n",
        "import matplotlib.pyplot as plt\n",
        "\n",
        "split_lengths = [len(split.page_content) for split in patient_splits]\n",
        "# split_lengths = [len(split.page_content) for split in splits2]\n",
        "# split_lengths = [len(split.page_content) for split in splits3]\n",
        "\n",
        "plt.bar(range(len(split_lengths)), split_lengths)\n",
        "plt.title(\"RecursiveCharacterTextSplitter\")\n",
        "plt.xlabel(\"Split Index\")\n",
        "plt.ylabel(\"Split Content Length\")\n",
        "plt.xticks(range(len(split_lengths)), [])\n",
        "plt.show()"
      ]
    },
    {
      "cell_type": "markdown",
      "metadata": {
        "id": "VELHS6FKBUTX"
      },
      "source": [
        "## Vector DB 저장"
      ]
    },
    {
      "cell_type": "code",
      "execution_count": null,
      "metadata": {
        "colab": {
          "base_uri": "https://localhost:8080/"
        },
        "id": "837B16Q4Czuq",
        "outputId": "c5927bec-005d-4e67-98a1-3526328dd85e"
      },
      "outputs": [
        {
          "name": "stderr",
          "output_type": "stream",
          "text": [
            "ERROR:chromadb.telemetry.product.posthog:Failed to send telemetry event ClientStartEvent: capture() takes 1 positional argument but 3 were given\n",
            "ERROR:chromadb.telemetry.product.posthog:Failed to send telemetry event ClientCreateCollectionEvent: capture() takes 1 positional argument but 3 were given\n"
          ]
        }
      ],
      "source": [
        "from langchain_chroma import Chroma\n",
        "from langchain_upstage import UpstageEmbeddings\n",
        "from langchain.docstore.document import Document\n",
        "\n",
        "# 1️⃣ Embeddings 객체 선언\n",
        "embeddings = UpstageEmbeddings(model=\"embedding-query\")\n",
        "\n",
        "# 2️⃣ Chroma 벡터 DB 생성 및 문서 삽입\n",
        "patient_vectorstore = Chroma.from_documents(\n",
        "    documents=patient_splits,\n",
        "    embedding=embeddings\n",
        ")"
      ]
    },
    {
      "cell_type": "code",
      "execution_count": null,
      "metadata": {
        "id": "d5Ml-1Hp2YET"
      },
      "outputs": [],
      "source": []
    },
    {
      "cell_type": "markdown",
      "metadata": {
        "id": "kp81DqS3ECOq"
      },
      "source": [
        "# LLM 생성"
      ]
    },
    {
      "cell_type": "code",
      "execution_count": null,
      "metadata": {
        "colab": {
          "base_uri": "https://localhost:8080/"
        },
        "id": "E8a4C1MzD_x4",
        "outputId": "c80bce26-0090-4c27-f03c-2b6a8e2272ce"
      },
      "outputs": [
        {
          "name": "stderr",
          "output_type": "stream",
          "text": [
            "ERROR:chromadb.telemetry.product.posthog:Failed to send telemetry event CollectionQueryEvent: capture() takes 1 positional argument but 3 were given\n"
          ]
        },
        {
          "name": "stdout",
          "output_type": "stream",
          "text": [
            "\n",
            "💬 AI의 답변:\n",
            "환자 중에 아시아인의 신상 정보를 알려드리겠습니다. 환자 번호 4bbf653e-3646-6bd6-229c-a45b80596ca2의 환자는 아시아인으로, 2003년 5월 31일에 태어났어요. 성별은 남성이고, 민족성은 nonhispanic입니다. 이 환자 외에 다른 아시아인 환자의 정보를 알고 싶으시다면, 더 구체적인 정보나 조건이 필요합니다. 그러면 그에 맞춰서 정보를 찾아드릴 수 있을 거예요!\n"
          ]
        }
      ],
      "source": [
        "# ✅ Dense Retriever 생성\n",
        "patient_retriever = patient_vectorstore.as_retriever(\n",
        "    search_type='mmr',\n",
        "    search_kwargs={'k': 1},\n",
        ")\n",
        "\n",
        "# ✅ 사용자의 한국어 질문 예시\n",
        "query = \"환자 중에 아시아 사람의 신상 정보를 알려줘.\"\n",
        "\n",
        "# ✅ 검색된 문서 가져오기\n",
        "patient_docs = patient_retriever.invoke(query)\n",
        "\n",
        "# all_context = \"\\n\".join([\n",
        "#     doc.page_content for doc in (patient_docs + diagnosis_docs + medication_docs)\n",
        "# ])\n",
        "all_context = \"\\n\".join([\n",
        "    doc.page_content for doc in (patient_docs)\n",
        "])\n",
        "\n",
        "# ✅ 한국어 system 프롬프트 정의\n",
        "from langchain_upstage import ChatUpstage\n",
        "from langchain_core.prompts import ChatPromptTemplate\n",
        "from langchain_core.output_parsers import StrOutputParser\n",
        "\n",
        "llm = ChatUpstage()\n",
        "\n",
        "prompt = ChatPromptTemplate.from_messages(\n",
        "    [\n",
        "        (\n",
        "            \"system\",\n",
        "            \"\"\"\n",
        "            당신은 환자 정보에 대한 질문에 친절히 답변하는 한국어 의료 AI 어시스턴트입니다.\n",
        "            아래 CONTEXT 정보를 참고하여 환자 정보를 자연스럽게 한국어로 풀어서 설명해 주세요.\n",
        "            각 컬럼명(예: Race, Gender 등)은 한국어로 번역해 사용하고, 대화체 톤으로 작성해 주세요.\n",
        "            표나 리스트 형태보다는 문단 형태로 정리해 주세요.\n",
        "            모르면 모른다고 솔직히 답변하세요.\n",
        "            ---\n",
        "            CONTEXT:\n",
        "            {context}\n",
        "            \"\"\",\n",
        "        ),\n",
        "        (\"human\", \"{input}\"),\n",
        "    ]\n",
        ")\n",
        "\n",
        "# ✅ LLM chain 구성\n",
        "chain = prompt | llm | StrOutputParser()\n",
        "\n",
        "# ✅ 최종 chain 호출\n",
        "response = chain.invoke({\"context\": all_context, \"input\": query})\n",
        "\n",
        "print(\"\\n💬 AI의 답변:\")\n",
        "print(response)\n"
      ]
    },
    {
      "cell_type": "markdown",
      "metadata": {
        "id": "oXg7hr5VEhHh"
      },
      "source": [
        "TMI: 여기까지 돌리는 데 Billing 0.05$ 사용\n",
        "### Now What?\n",
        "GPT 추천:\n",
        "# ✅ 💡 선택지 크게 두 가지\n",
        "\n",
        "## 🅰️ **전부 조인 후 넣기 (One big chunk)**\n",
        "\n",
        "### ✔️ 장점\n",
        "\n",
        "* 환자 한 명에 대한 정보가 하나의 청크에 모두 담김 → 질문할 때 정확한 컨텍스트 제공\n",
        "* 질병, 약물, 투약 주의사항 등을 한 번에 설명하기 쉬움\n",
        "\n",
        "### ❌ 단점\n",
        "\n",
        "* row 폭발 (조인한 경우 레코드 수 \\* 약물 수 \\* 진단 수 …)\n",
        "* 청크가 너무 커짐 → 나눠야 할 때 문맥이 깨짐\n",
        "* 관리/업데이트 어려움\n",
        "\n",
        "---\n",
        "\n",
        "## 🅱️ **테이블별로 분리, Retriever에서 동적 컨텍스트 결합 (멀티-벡터 전략)**\n",
        "\n",
        "### ✔️ 장점\n",
        "\n",
        "* 각 테이블 정보 독립적으로 유지\n",
        "* 스케일 확장 유리 (예: 약물 DB 업데이트, 질환 DB 변경 등)\n",
        "* Retriever 단계에서 동적으로 \"다중 소스\" 컨텍스트 결합 가능\n",
        "\n",
        "### ❌ 단점\n",
        "\n",
        "* QA 정확도를 높이려면 \"적절한 컨텍스트 조합 로직\" 필요\n",
        "* LLM 프롬프트 설계가 복잡\n",
        "\n",
        "---\n",
        "\n",
        "# ✅ 💡 현업과 연구에서 많이 쓰는 전략: **멀티-벡터 & 멀티-Retriever 방식**\n",
        "\n",
        "### 💡 구조\n",
        "\n",
        "```\n",
        "[벡터 DB A] ← 환자 정보 테이블 (예: Patient Demographics)\n",
        "[벡터 DB B] ← 질병 정보 테이블 (예: Diagnoses)\n",
        "[벡터 DB C] ← 약물 정보 테이블 (예: Medications)\n",
        "```\n",
        "\n",
        "---\n",
        "\n",
        "## ✅ 1️⃣ 각 테이블별로 개별 벡터 DB 구축\n",
        "\n",
        "* 각 테이블 row 단위로 Document 생성 → 독립 embedding\n",
        "* 예:\n",
        "\n",
        "```python\n",
        "patient_docs = [Document(page_content=\"환자 A: 60세, 남성, 당뇨, 고혈압\", metadata={\"patient_id\": \"A\"})]\n",
        "diagnosis_docs = [Document(page_content=\"환자 A: 진단명: 당뇨병, HbA1c: 8.5%\", metadata={\"patient_id\": \"A\"})]\n",
        "medication_docs = [Document(page_content=\"환자 A: 메트포르민 투약 중\", metadata={\"patient_id\": \"A\"})]\n",
        "```\n",
        "\n",
        "---\n",
        "\n",
        "## ✅ 2️⃣ Retriever 여러 개 선언\n",
        "\n",
        "```python\n",
        "patient_retriever = patient_vectorstore.as_retriever(search_kwargs={'k': 1})\n",
        "diagnosis_retriever = diagnosis_vectorstore.as_retriever(search_kwargs={'k': 1})\n",
        "medication_retriever = medication_vectorstore.as_retriever(search_kwargs={'k': 1})\n",
        "```\n",
        "\n",
        "---\n",
        "\n",
        "## ✅ 3️⃣ 질문 시, **각 Retriever에서 병렬 검색 → 결과 컨텍스트 합침**\n",
        "\n",
        "```python\n",
        "patient_docs = patient_retriever.invoke(query)\n",
        "diagnosis_docs = diagnosis_retriever.invoke(query)\n",
        "medication_docs = medication_retriever.invoke(query)\n",
        "\n",
        "all_context = \"\\n\".join([\n",
        "    doc.page_content for doc in (patient_docs + diagnosis_docs + medication_docs)\n",
        "])\n",
        "```\n",
        "\n",
        "---\n",
        "\n",
        "## ✅ 4️⃣ LLM에 합쳐진 context 전달\n",
        "\n",
        "```python\n",
        "response = chain.invoke({\"context\": all_context, \"input\": query})\n",
        "```\n",
        "\n",
        "---\n",
        "\n",
        "# ✅ 💬 **실제 사용 시 포인트**\n",
        "\n",
        "| 고려 사항         | 내용                                                                      |\n",
        "| ------------- | ----------------------------------------------------------------------- |\n",
        "| ✅ 컨텍스트 길이     | 여러 테이블 합치면 길어질 수 있음 → 필요하면 각 테이블에서 `k` 값을 줄이거나 요약 추가                    |\n",
        "| ✅ metadata 활용 | `patient_id`, `diagnosis_id` 등으로 cross-link → 필터 기반 검색 강화 가능            |\n",
        "| ✅ 프롬프트 설계     | \"아래에 환자 기본정보, 질병정보, 약물정보가 있습니다. 이 환자에게 적합한 약물과 투약 시 주의사항을 종합적으로 알려주세요.\" |\n",
        "\n",
        "---\n",
        "\n",
        "# ✅ ✅ 💡 **요약**\n",
        "\n",
        "### 💡 다 조인? ❌\n",
        "\n",
        "* 데이터 폭발, 관리 불가\n",
        "\n",
        "### 💡 테이블별 분리 & Retriever에서 조합? ✅\n",
        "\n",
        "* 유연, scalable, 관리 쉽고, 정확도 높음\n",
        "\n",
        "---"
      ]
    }
  ],
  "metadata": {
    "colab": {
      "include_colab_link": true,
      "provenance": []
    },
    "kernelspec": {
      "display_name": "Python 3",
      "name": "python3"
    },
    "language_info": {
      "codemirror_mode": {
        "name": "ipython",
        "version": 3
      },
      "file_extension": ".py",
      "mimetype": "text/x-python",
      "name": "python",
      "nbconvert_exporter": "python",
      "pygments_lexer": "ipython3",
      "version": "3.11.9"
    }
  },
  "nbformat": 4,
  "nbformat_minor": 0
}
